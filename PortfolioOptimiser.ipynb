{
  "cells": [
    {
      "cell_type": "markdown",
      "metadata": {
        "id": "view-in-github",
        "colab_type": "text"
      },
      "source": [
        "<a href=\"https://colab.research.google.com/github/buttersaltpepper/Financial-Data-Analytics/blob/main/PortfolioOptimiser.ipynb\" target=\"_parent\"><img src=\"https://colab.research.google.com/assets/colab-badge.svg\" alt=\"Open In Colab\"/></a>"
      ]
    },
    {
      "cell_type": "markdown",
      "source": [
        "**Portfolio Management** was one of my favourite course so after learning Python, it was natural to revisit the course material with coding.\n",
        "\n",
        "This notebook documents my favourite topis from the course, specifically Value at Risk!😀\n",
        "\n",
        "# **Content:**\n",
        "## **1. Visualising Why Portfolio Rebalancing is Important**\n",
        "## **2. The Efficient Frontier**\n",
        "## **3. Maximum Sharpe and Minimum Volatility Portfolios**\n",
        "## **4. Portfolio Risk Models: Value at Risk**\n"
      ],
      "metadata": {
        "id": "hltgtDSxJUG-"
      },
      "id": "hltgtDSxJUG-"
    },
    {
      "cell_type": "markdown",
      "metadata": {
        "id": "7fc0fad9"
      },
      "source": [
        "# **Visualising Why Portfolio Rebalancing is Important**\n",
        "**Using Factor Funds: DVY, MDY, MTUM, QUAL, USMV, VLUE**\n",
        "* DVY: iShares Select **Dividend** ETF\n",
        "* MDY: SPDR S&P **MidCap** 400 ETF\n",
        "* MTM: iShares MSCI USA **Momentum** Factor ETF\n",
        "* QUAL: VanEck MSCI **International Quality** ETF\n",
        "* USMV: iShares MSCI USA **Min Vol** Factor ETF\n",
        "* VLUE: VanEck MSCI **International Value** ETF"
      ],
      "id": "7fc0fad9"
    },
    {
      "cell_type": "code",
      "execution_count": null,
      "metadata": {
        "id": "yE-JkKH8wCH6",
        "colab": {
          "base_uri": "https://localhost:8080/"
        },
        "outputId": "be8e6e15-87f3-4b0e-cbd4-7679e23f4756"
      },
      "outputs": [
        {
          "output_type": "stream",
          "name": "stdout",
          "text": [
            "Looking in indexes: https://pypi.org/simple, https://us-python.pkg.dev/colab-wheels/public/simple/\n",
            "Collecting yfinance\n",
            "  Downloading yfinance-0.1.74-py2.py3-none-any.whl (27 kB)\n",
            "Requirement already satisfied: multitasking>=0.0.7 in /usr/local/lib/python3.7/dist-packages (from yfinance) (0.0.11)\n",
            "Requirement already satisfied: numpy>=1.15 in /usr/local/lib/python3.7/dist-packages (from yfinance) (1.21.6)\n",
            "Requirement already satisfied: pandas>=0.24.0 in /usr/local/lib/python3.7/dist-packages (from yfinance) (1.3.5)\n",
            "Requirement already satisfied: lxml>=4.5.1 in /usr/local/lib/python3.7/dist-packages (from yfinance) (4.9.1)\n",
            "Collecting requests>=2.26\n",
            "  Downloading requests-2.28.1-py3-none-any.whl (62 kB)\n",
            "\u001b[K     |████████████████████████████████| 62 kB 1.1 MB/s \n",
            "\u001b[?25hRequirement already satisfied: python-dateutil>=2.7.3 in /usr/local/lib/python3.7/dist-packages (from pandas>=0.24.0->yfinance) (2.8.2)\n",
            "Requirement already satisfied: pytz>=2017.3 in /usr/local/lib/python3.7/dist-packages (from pandas>=0.24.0->yfinance) (2022.2.1)\n",
            "Requirement already satisfied: six>=1.5 in /usr/local/lib/python3.7/dist-packages (from python-dateutil>=2.7.3->pandas>=0.24.0->yfinance) (1.15.0)\n",
            "Requirement already satisfied: charset-normalizer<3,>=2 in /usr/local/lib/python3.7/dist-packages (from requests>=2.26->yfinance) (2.1.1)\n",
            "Requirement already satisfied: urllib3<1.27,>=1.21.1 in /usr/local/lib/python3.7/dist-packages (from requests>=2.26->yfinance) (1.24.3)\n",
            "Requirement already satisfied: idna<4,>=2.5 in /usr/local/lib/python3.7/dist-packages (from requests>=2.26->yfinance) (2.10)\n",
            "Requirement already satisfied: certifi>=2017.4.17 in /usr/local/lib/python3.7/dist-packages (from requests>=2.26->yfinance) (2022.6.15)\n",
            "Installing collected packages: requests, yfinance\n",
            "  Attempting uninstall: requests\n",
            "    Found existing installation: requests 2.23.0\n",
            "    Uninstalling requests-2.23.0:\n",
            "      Successfully uninstalled requests-2.23.0\n",
            "Successfully installed requests-2.28.1 yfinance-0.1.74\n"
          ]
        }
      ],
      "source": [
        "! pip install yfinance"
      ],
      "id": "yE-JkKH8wCH6"
    },
    {
      "cell_type": "code",
      "execution_count": null,
      "metadata": {
        "id": "ce0749a5"
      },
      "outputs": [],
      "source": [
        "import numpy as np\n",
        "import matplotlib.pyplot as plt\n",
        "\n",
        "plt.rcParams['figure.figsize'] = (20,10)\n",
        "import pandas as pd\n",
        "import yfinance as yf"
      ],
      "id": "ce0749a5"
    },
    {
      "cell_type": "code",
      "execution_count": null,
      "metadata": {
        "id": "e5e8ddee",
        "colab": {
          "base_uri": "https://localhost:8080/"
        },
        "outputId": "42ff7117-bed0-4cd6-8c32-4dbbc8d52e0e"
      },
      "outputs": [
        {
          "output_type": "stream",
          "name": "stdout",
          "text": [
            "[*********************100%***********************]  6 of 6 completed\n"
          ]
        }
      ],
      "source": [
        "factors_df = yf.download('DVY, MDY, MTUM, QUAL, USMV, VLUE')['Adj Close'].dropna()"
      ],
      "id": "e5e8ddee"
    },
    {
      "cell_type": "code",
      "execution_count": null,
      "metadata": {
        "id": "d0d7cc53",
        "colab": {
          "base_uri": "https://localhost:8080/",
          "height": 237
        },
        "outputId": "b78f8851-9e3d-4be9-a177-e51406c59487"
      },
      "outputs": [
        {
          "output_type": "execute_result",
          "data": {
            "text/plain": [
              "                  DVY         MDY       MTUM       QUAL       USMV       VLUE\n",
              "Date                                                                         \n",
              "2013-07-18  49.132156  199.710007  48.403522  43.372158  28.230923  44.043831\n",
              "2013-07-19  49.219719  199.986099  48.618214  43.034882  28.297649  43.963352\n",
              "2013-07-22  49.263508  200.662964  48.680817  43.242443  28.305981  44.084064\n",
              "2013-07-23  49.263508  200.680771  48.600319  43.173248  28.272627  44.084064\n",
              "2013-07-24  48.884056  199.157883  48.430359  43.112713  28.089151  44.084064"
            ],
            "text/html": [
              "\n",
              "  <div id=\"df-9af6227b-3d1e-42c7-a099-a36636206f0a\">\n",
              "    <div class=\"colab-df-container\">\n",
              "      <div>\n",
              "<style scoped>\n",
              "    .dataframe tbody tr th:only-of-type {\n",
              "        vertical-align: middle;\n",
              "    }\n",
              "\n",
              "    .dataframe tbody tr th {\n",
              "        vertical-align: top;\n",
              "    }\n",
              "\n",
              "    .dataframe thead th {\n",
              "        text-align: right;\n",
              "    }\n",
              "</style>\n",
              "<table border=\"1\" class=\"dataframe\">\n",
              "  <thead>\n",
              "    <tr style=\"text-align: right;\">\n",
              "      <th></th>\n",
              "      <th>DVY</th>\n",
              "      <th>MDY</th>\n",
              "      <th>MTUM</th>\n",
              "      <th>QUAL</th>\n",
              "      <th>USMV</th>\n",
              "      <th>VLUE</th>\n",
              "    </tr>\n",
              "    <tr>\n",
              "      <th>Date</th>\n",
              "      <th></th>\n",
              "      <th></th>\n",
              "      <th></th>\n",
              "      <th></th>\n",
              "      <th></th>\n",
              "      <th></th>\n",
              "    </tr>\n",
              "  </thead>\n",
              "  <tbody>\n",
              "    <tr>\n",
              "      <th>2013-07-18</th>\n",
              "      <td>49.132156</td>\n",
              "      <td>199.710007</td>\n",
              "      <td>48.403522</td>\n",
              "      <td>43.372158</td>\n",
              "      <td>28.230923</td>\n",
              "      <td>44.043831</td>\n",
              "    </tr>\n",
              "    <tr>\n",
              "      <th>2013-07-19</th>\n",
              "      <td>49.219719</td>\n",
              "      <td>199.986099</td>\n",
              "      <td>48.618214</td>\n",
              "      <td>43.034882</td>\n",
              "      <td>28.297649</td>\n",
              "      <td>43.963352</td>\n",
              "    </tr>\n",
              "    <tr>\n",
              "      <th>2013-07-22</th>\n",
              "      <td>49.263508</td>\n",
              "      <td>200.662964</td>\n",
              "      <td>48.680817</td>\n",
              "      <td>43.242443</td>\n",
              "      <td>28.305981</td>\n",
              "      <td>44.084064</td>\n",
              "    </tr>\n",
              "    <tr>\n",
              "      <th>2013-07-23</th>\n",
              "      <td>49.263508</td>\n",
              "      <td>200.680771</td>\n",
              "      <td>48.600319</td>\n",
              "      <td>43.173248</td>\n",
              "      <td>28.272627</td>\n",
              "      <td>44.084064</td>\n",
              "    </tr>\n",
              "    <tr>\n",
              "      <th>2013-07-24</th>\n",
              "      <td>48.884056</td>\n",
              "      <td>199.157883</td>\n",
              "      <td>48.430359</td>\n",
              "      <td>43.112713</td>\n",
              "      <td>28.089151</td>\n",
              "      <td>44.084064</td>\n",
              "    </tr>\n",
              "  </tbody>\n",
              "</table>\n",
              "</div>\n",
              "      <button class=\"colab-df-convert\" onclick=\"convertToInteractive('df-9af6227b-3d1e-42c7-a099-a36636206f0a')\"\n",
              "              title=\"Convert this dataframe to an interactive table.\"\n",
              "              style=\"display:none;\">\n",
              "        \n",
              "  <svg xmlns=\"http://www.w3.org/2000/svg\" height=\"24px\"viewBox=\"0 0 24 24\"\n",
              "       width=\"24px\">\n",
              "    <path d=\"M0 0h24v24H0V0z\" fill=\"none\"/>\n",
              "    <path d=\"M18.56 5.44l.94 2.06.94-2.06 2.06-.94-2.06-.94-.94-2.06-.94 2.06-2.06.94zm-11 1L8.5 8.5l.94-2.06 2.06-.94-2.06-.94L8.5 2.5l-.94 2.06-2.06.94zm10 10l.94 2.06.94-2.06 2.06-.94-2.06-.94-.94-2.06-.94 2.06-2.06.94z\"/><path d=\"M17.41 7.96l-1.37-1.37c-.4-.4-.92-.59-1.43-.59-.52 0-1.04.2-1.43.59L10.3 9.45l-7.72 7.72c-.78.78-.78 2.05 0 2.83L4 21.41c.39.39.9.59 1.41.59.51 0 1.02-.2 1.41-.59l7.78-7.78 2.81-2.81c.8-.78.8-2.07 0-2.86zM5.41 20L4 18.59l7.72-7.72 1.47 1.35L5.41 20z\"/>\n",
              "  </svg>\n",
              "      </button>\n",
              "      \n",
              "  <style>\n",
              "    .colab-df-container {\n",
              "      display:flex;\n",
              "      flex-wrap:wrap;\n",
              "      gap: 12px;\n",
              "    }\n",
              "\n",
              "    .colab-df-convert {\n",
              "      background-color: #E8F0FE;\n",
              "      border: none;\n",
              "      border-radius: 50%;\n",
              "      cursor: pointer;\n",
              "      display: none;\n",
              "      fill: #1967D2;\n",
              "      height: 32px;\n",
              "      padding: 0 0 0 0;\n",
              "      width: 32px;\n",
              "    }\n",
              "\n",
              "    .colab-df-convert:hover {\n",
              "      background-color: #E2EBFA;\n",
              "      box-shadow: 0px 1px 2px rgba(60, 64, 67, 0.3), 0px 1px 3px 1px rgba(60, 64, 67, 0.15);\n",
              "      fill: #174EA6;\n",
              "    }\n",
              "\n",
              "    [theme=dark] .colab-df-convert {\n",
              "      background-color: #3B4455;\n",
              "      fill: #D2E3FC;\n",
              "    }\n",
              "\n",
              "    [theme=dark] .colab-df-convert:hover {\n",
              "      background-color: #434B5C;\n",
              "      box-shadow: 0px 1px 3px 1px rgba(0, 0, 0, 0.15);\n",
              "      filter: drop-shadow(0px 1px 2px rgba(0, 0, 0, 0.3));\n",
              "      fill: #FFFFFF;\n",
              "    }\n",
              "  </style>\n",
              "\n",
              "      <script>\n",
              "        const buttonEl =\n",
              "          document.querySelector('#df-9af6227b-3d1e-42c7-a099-a36636206f0a button.colab-df-convert');\n",
              "        buttonEl.style.display =\n",
              "          google.colab.kernel.accessAllowed ? 'block' : 'none';\n",
              "\n",
              "        async function convertToInteractive(key) {\n",
              "          const element = document.querySelector('#df-9af6227b-3d1e-42c7-a099-a36636206f0a');\n",
              "          const dataTable =\n",
              "            await google.colab.kernel.invokeFunction('convertToInteractive',\n",
              "                                                     [key], {});\n",
              "          if (!dataTable) return;\n",
              "\n",
              "          const docLinkHtml = 'Like what you see? Visit the ' +\n",
              "            '<a target=\"_blank\" href=https://colab.research.google.com/notebooks/data_table.ipynb>data table notebook</a>'\n",
              "            + ' to learn more about interactive tables.';\n",
              "          element.innerHTML = '';\n",
              "          dataTable['output_type'] = 'display_data';\n",
              "          await google.colab.output.renderOutput(dataTable, element);\n",
              "          const docLink = document.createElement('div');\n",
              "          docLink.innerHTML = docLinkHtml;\n",
              "          element.appendChild(docLink);\n",
              "        }\n",
              "      </script>\n",
              "    </div>\n",
              "  </div>\n",
              "  "
            ]
          },
          "metadata": {},
          "execution_count": 31
        }
      ],
      "source": [
        "factors_df.head()"
      ],
      "id": "d0d7cc53"
    },
    {
      "cell_type": "code",
      "execution_count": null,
      "metadata": {
        "id": "b471f627"
      },
      "outputs": [],
      "source": [
        "rets = np.log(factors_df/factors_df.shift(1)).dropna()"
      ],
      "id": "b471f627"
    },
    {
      "cell_type": "code",
      "execution_count": null,
      "metadata": {
        "id": "d65d9321",
        "colab": {
          "base_uri": "https://localhost:8080/"
        },
        "outputId": "eeac32a2-c748-4477-e789-9fe4d0d43c5a"
      },
      "outputs": [
        {
          "output_type": "execute_result",
          "data": {
            "text/plain": [
              "(6, 2316)"
            ]
          },
          "metadata": {},
          "execution_count": 33
        }
      ],
      "source": [
        "rets = np.array(rets).T\n",
        "rets.shape"
      ],
      "id": "d65d9321"
    },
    {
      "cell_type": "code",
      "execution_count": null,
      "metadata": {
        "id": "d47bbffe",
        "colab": {
          "base_uri": "https://localhost:8080/"
        },
        "outputId": "78e39fb9-0739-4461-92ce-dd207716cd83"
      },
      "outputs": [
        {
          "output_type": "execute_result",
          "data": {
            "text/plain": [
              "(6, 2317)"
            ]
          },
          "metadata": {},
          "execution_count": 34
        }
      ],
      "source": [
        "closes = np.array(factors_df).T\n",
        "closes.shape"
      ],
      "id": "d47bbffe"
    },
    {
      "cell_type": "markdown",
      "metadata": {
        "id": "fd36b6cb"
      },
      "source": [
        "## **Plotting rebalanced portfolio**"
      ],
      "id": "fd36b6cb"
    },
    {
      "cell_type": "code",
      "execution_count": null,
      "metadata": {
        "id": "7411a390"
      },
      "outputs": [],
      "source": [
        "pval = 10000\n",
        "equal_weights = np.array([1/len(closes)]*len(closes))"
      ],
      "id": "7411a390"
    },
    {
      "cell_type": "code",
      "execution_count": null,
      "metadata": {
        "id": "f7b62ffd",
        "colab": {
          "base_uri": "https://localhost:8080/",
          "height": 592
        },
        "outputId": "c9c2a623-d77a-4bb5-b35c-f4cc97d3226c"
      },
      "outputs": [
        {
          "output_type": "display_data",
          "data": {
            "text/plain": [
              "<Figure size 1440x720 with 1 Axes>"
            ],
            "image/png": "[encoded data removed]"
          },
          "metadata": {
            "needs_background": "light"
          }
        }
      ],
      "source": [
        "plt.plot(np.cumprod(np.dot(equal_weights,rets)+1)*pval)\n",
        "plt.show()"
      ],
      "id": "f7b62ffd"
    },
    {
      "cell_type": "markdown",
      "metadata": {
        "id": "074e1ee0"
      },
      "source": [
        "## **Compared to one-time purchase**\n",
        "* Simulate a one-time purchase with $10,000"
      ],
      "id": "074e1ee0"
    },
    {
      "cell_type": "code",
      "execution_count": null,
      "metadata": {
        "id": "82a15934"
      },
      "outputs": [],
      "source": [
        "ew_shares = 10000*equal_weights / closes[:,0]\n",
        "onetime = np.dot(ew_shares,closes)"
      ],
      "id": "82a15934"
    },
    {
      "cell_type": "code",
      "execution_count": null,
      "metadata": {
        "id": "945df6b8",
        "colab": {
          "base_uri": "https://localhost:8080/",
          "height": 592
        },
        "outputId": "29ef9682-f256-4069-ad4b-6be7c152ef8d"
      },
      "outputs": [
        {
          "output_type": "display_data",
          "data": {
            "text/plain": [
              "<Figure size 1440x720 with 1 Axes>"
            ],
            "image/png": "[encoded data removed]"
          },
          "metadata": {
            "needs_background": "light"
          }
        }
      ],
      "source": [
        "plt.plot(onetime)\n",
        "\n",
        "plt.plot(np.cumprod(np.dot(equal_weights,rets)+1)*pval)\n",
        "\n",
        "plt.legend(['Rebalanced', 'One-Time Purch'])\n",
        "plt.show()"
      ],
      "id": "945df6b8"
    },
    {
      "cell_type": "markdown",
      "metadata": {
        "id": "ddea365e"
      },
      "source": [
        "* the space represents divergence between stocks\n",
        "* exposure changes"
      ],
      "id": "ddea365e"
    },
    {
      "cell_type": "markdown",
      "metadata": {
        "id": "c0128884"
      },
      "source": [
        "**Final weights in one-time purchase**"
      ],
      "id": "c0128884"
    },
    {
      "cell_type": "code",
      "execution_count": null,
      "metadata": {
        "id": "333912ec",
        "colab": {
          "base_uri": "https://localhost:8080/",
          "height": 81
        },
        "outputId": "585f7900-d612-49db-bd8a-63cb78846684"
      },
      "outputs": [
        {
          "output_type": "execute_result",
          "data": {
            "text/plain": [
              "          0         1         2         3         4         5\n",
              "0  0.166667  0.166667  0.166667  0.166667  0.166667  0.166667"
            ],
            "text/html": [
              "\n",
              "  <div id=\"df-c5d71642-fa73-4fcc-8830-8640d2fcc0bb\">\n",
              "    <div class=\"colab-df-container\">\n",
              "      <div>\n",
              "<style scoped>\n",
              "    .dataframe tbody tr th:only-of-type {\n",
              "        vertical-align: middle;\n",
              "    }\n",
              "\n",
              "    .dataframe tbody tr th {\n",
              "        vertical-align: top;\n",
              "    }\n",
              "\n",
              "    .dataframe thead th {\n",
              "        text-align: right;\n",
              "    }\n",
              "</style>\n",
              "<table border=\"1\" class=\"dataframe\">\n",
              "  <thead>\n",
              "    <tr style=\"text-align: right;\">\n",
              "      <th></th>\n",
              "      <th>0</th>\n",
              "      <th>1</th>\n",
              "      <th>2</th>\n",
              "      <th>3</th>\n",
              "      <th>4</th>\n",
              "      <th>5</th>\n",
              "    </tr>\n",
              "  </thead>\n",
              "  <tbody>\n",
              "    <tr>\n",
              "      <th>0</th>\n",
              "      <td>0.166667</td>\n",
              "      <td>0.166667</td>\n",
              "      <td>0.166667</td>\n",
              "      <td>0.166667</td>\n",
              "      <td>0.166667</td>\n",
              "      <td>0.166667</td>\n",
              "    </tr>\n",
              "  </tbody>\n",
              "</table>\n",
              "</div>\n",
              "      <button class=\"colab-df-convert\" onclick=\"convertToInteractive('df-c5d71642-fa73-4fcc-8830-8640d2fcc0bb')\"\n",
              "              title=\"Convert this dataframe to an interactive table.\"\n",
              "              style=\"display:none;\">\n",
              "        \n",
              "  <svg xmlns=\"http://www.w3.org/2000/svg\" height=\"24px\"viewBox=\"0 0 24 24\"\n",
              "       width=\"24px\">\n",
              "    <path d=\"M0 0h24v24H0V0z\" fill=\"none\"/>\n",
              "    <path d=\"M18.56 5.44l.94 2.06.94-2.06 2.06-.94-2.06-.94-.94-2.06-.94 2.06-2.06.94zm-11 1L8.5 8.5l.94-2.06 2.06-.94-2.06-.94L8.5 2.5l-.94 2.06-2.06.94zm10 10l.94 2.06.94-2.06 2.06-.94-2.06-.94-.94-2.06-.94 2.06-2.06.94z\"/><path d=\"M17.41 7.96l-1.37-1.37c-.4-.4-.92-.59-1.43-.59-.52 0-1.04.2-1.43.59L10.3 9.45l-7.72 7.72c-.78.78-.78 2.05 0 2.83L4 21.41c.39.39.9.59 1.41.59.51 0 1.02-.2 1.41-.59l7.78-7.78 2.81-2.81c.8-.78.8-2.07 0-2.86zM5.41 20L4 18.59l7.72-7.72 1.47 1.35L5.41 20z\"/>\n",
              "  </svg>\n",
              "      </button>\n",
              "      \n",
              "  <style>\n",
              "    .colab-df-container {\n",
              "      display:flex;\n",
              "      flex-wrap:wrap;\n",
              "      gap: 12px;\n",
              "    }\n",
              "\n",
              "    .colab-df-convert {\n",
              "      background-color: #E8F0FE;\n",
              "      border: none;\n",
              "      border-radius: 50%;\n",
              "      cursor: pointer;\n",
              "      display: none;\n",
              "      fill: #1967D2;\n",
              "      height: 32px;\n",
              "      padding: 0 0 0 0;\n",
              "      width: 32px;\n",
              "    }\n",
              "\n",
              "    .colab-df-convert:hover {\n",
              "      background-color: #E2EBFA;\n",
              "      box-shadow: 0px 1px 2px rgba(60, 64, 67, 0.3), 0px 1px 3px 1px rgba(60, 64, 67, 0.15);\n",
              "      fill: #174EA6;\n",
              "    }\n",
              "\n",
              "    [theme=dark] .colab-df-convert {\n",
              "      background-color: #3B4455;\n",
              "      fill: #D2E3FC;\n",
              "    }\n",
              "\n",
              "    [theme=dark] .colab-df-convert:hover {\n",
              "      background-color: #434B5C;\n",
              "      box-shadow: 0px 1px 3px 1px rgba(0, 0, 0, 0.15);\n",
              "      filter: drop-shadow(0px 1px 2px rgba(0, 0, 0, 0.3));\n",
              "      fill: #FFFFFF;\n",
              "    }\n",
              "  </style>\n",
              "\n",
              "      <script>\n",
              "        const buttonEl =\n",
              "          document.querySelector('#df-c5d71642-fa73-4fcc-8830-8640d2fcc0bb button.colab-df-convert');\n",
              "        buttonEl.style.display =\n",
              "          google.colab.kernel.accessAllowed ? 'block' : 'none';\n",
              "\n",
              "        async function convertToInteractive(key) {\n",
              "          const element = document.querySelector('#df-c5d71642-fa73-4fcc-8830-8640d2fcc0bb');\n",
              "          const dataTable =\n",
              "            await google.colab.kernel.invokeFunction('convertToInteractive',\n",
              "                                                     [key], {});\n",
              "          if (!dataTable) return;\n",
              "\n",
              "          const docLinkHtml = 'Like what you see? Visit the ' +\n",
              "            '<a target=\"_blank\" href=https://colab.research.google.com/notebooks/data_table.ipynb>data table notebook</a>'\n",
              "            + ' to learn more about interactive tables.';\n",
              "          element.innerHTML = '';\n",
              "          dataTable['output_type'] = 'display_data';\n",
              "          await google.colab.output.renderOutput(dataTable, element);\n",
              "          const docLink = document.createElement('div');\n",
              "          docLink.innerHTML = docLinkHtml;\n",
              "          element.appendChild(docLink);\n",
              "        }\n",
              "      </script>\n",
              "    </div>\n",
              "  </div>\n",
              "  "
            ]
          },
          "metadata": {},
          "execution_count": 39
        }
      ],
      "source": [
        "new_pval = (closes[:,-1]*ew_shares).sum()\n",
        "final_weights = (closes[:,-1]*ew_shares)/new_pval\n",
        "\n",
        "pd.DataFrame(equal_weights).T"
      ],
      "id": "333912ec"
    },
    {
      "cell_type": "code",
      "execution_count": null,
      "metadata": {
        "id": "0d745d24",
        "colab": {
          "base_uri": "https://localhost:8080/",
          "height": 81
        },
        "outputId": "bc5d1bcf-f474-4788-e8a9-3f3463e0e12b"
      },
      "outputs": [
        {
          "output_type": "execute_result",
          "data": {
            "text/plain": [
              "          0         1         2         3         4         5\n",
              "0  0.162522  0.148508  0.199221  0.178659  0.173173  0.137915"
            ],
            "text/html": [
              "\n",
              "  <div id=\"df-bb35a60d-1bb8-4af5-9e7f-3e4d41ac496c\">\n",
              "    <div class=\"colab-df-container\">\n",
              "      <div>\n",
              "<style scoped>\n",
              "    .dataframe tbody tr th:only-of-type {\n",
              "        vertical-align: middle;\n",
              "    }\n",
              "\n",
              "    .dataframe tbody tr th {\n",
              "        vertical-align: top;\n",
              "    }\n",
              "\n",
              "    .dataframe thead th {\n",
              "        text-align: right;\n",
              "    }\n",
              "</style>\n",
              "<table border=\"1\" class=\"dataframe\">\n",
              "  <thead>\n",
              "    <tr style=\"text-align: right;\">\n",
              "      <th></th>\n",
              "      <th>0</th>\n",
              "      <th>1</th>\n",
              "      <th>2</th>\n",
              "      <th>3</th>\n",
              "      <th>4</th>\n",
              "      <th>5</th>\n",
              "    </tr>\n",
              "  </thead>\n",
              "  <tbody>\n",
              "    <tr>\n",
              "      <th>0</th>\n",
              "      <td>0.162522</td>\n",
              "      <td>0.148508</td>\n",
              "      <td>0.199221</td>\n",
              "      <td>0.178659</td>\n",
              "      <td>0.173173</td>\n",
              "      <td>0.137915</td>\n",
              "    </tr>\n",
              "  </tbody>\n",
              "</table>\n",
              "</div>\n",
              "      <button class=\"colab-df-convert\" onclick=\"convertToInteractive('df-bb35a60d-1bb8-4af5-9e7f-3e4d41ac496c')\"\n",
              "              title=\"Convert this dataframe to an interactive table.\"\n",
              "              style=\"display:none;\">\n",
              "        \n",
              "  <svg xmlns=\"http://www.w3.org/2000/svg\" height=\"24px\"viewBox=\"0 0 24 24\"\n",
              "       width=\"24px\">\n",
              "    <path d=\"M0 0h24v24H0V0z\" fill=\"none\"/>\n",
              "    <path d=\"M18.56 5.44l.94 2.06.94-2.06 2.06-.94-2.06-.94-.94-2.06-.94 2.06-2.06.94zm-11 1L8.5 8.5l.94-2.06 2.06-.94-2.06-.94L8.5 2.5l-.94 2.06-2.06.94zm10 10l.94 2.06.94-2.06 2.06-.94-2.06-.94-.94-2.06-.94 2.06-2.06.94z\"/><path d=\"M17.41 7.96l-1.37-1.37c-.4-.4-.92-.59-1.43-.59-.52 0-1.04.2-1.43.59L10.3 9.45l-7.72 7.72c-.78.78-.78 2.05 0 2.83L4 21.41c.39.39.9.59 1.41.59.51 0 1.02-.2 1.41-.59l7.78-7.78 2.81-2.81c.8-.78.8-2.07 0-2.86zM5.41 20L4 18.59l7.72-7.72 1.47 1.35L5.41 20z\"/>\n",
              "  </svg>\n",
              "      </button>\n",
              "      \n",
              "  <style>\n",
              "    .colab-df-container {\n",
              "      display:flex;\n",
              "      flex-wrap:wrap;\n",
              "      gap: 12px;\n",
              "    }\n",
              "\n",
              "    .colab-df-convert {\n",
              "      background-color: #E8F0FE;\n",
              "      border: none;\n",
              "      border-radius: 50%;\n",
              "      cursor: pointer;\n",
              "      display: none;\n",
              "      fill: #1967D2;\n",
              "      height: 32px;\n",
              "      padding: 0 0 0 0;\n",
              "      width: 32px;\n",
              "    }\n",
              "\n",
              "    .colab-df-convert:hover {\n",
              "      background-color: #E2EBFA;\n",
              "      box-shadow: 0px 1px 2px rgba(60, 64, 67, 0.3), 0px 1px 3px 1px rgba(60, 64, 67, 0.15);\n",
              "      fill: #174EA6;\n",
              "    }\n",
              "\n",
              "    [theme=dark] .colab-df-convert {\n",
              "      background-color: #3B4455;\n",
              "      fill: #D2E3FC;\n",
              "    }\n",
              "\n",
              "    [theme=dark] .colab-df-convert:hover {\n",
              "      background-color: #434B5C;\n",
              "      box-shadow: 0px 1px 3px 1px rgba(0, 0, 0, 0.15);\n",
              "      filter: drop-shadow(0px 1px 2px rgba(0, 0, 0, 0.3));\n",
              "      fill: #FFFFFF;\n",
              "    }\n",
              "  </style>\n",
              "\n",
              "      <script>\n",
              "        const buttonEl =\n",
              "          document.querySelector('#df-bb35a60d-1bb8-4af5-9e7f-3e4d41ac496c button.colab-df-convert');\n",
              "        buttonEl.style.display =\n",
              "          google.colab.kernel.accessAllowed ? 'block' : 'none';\n",
              "\n",
              "        async function convertToInteractive(key) {\n",
              "          const element = document.querySelector('#df-bb35a60d-1bb8-4af5-9e7f-3e4d41ac496c');\n",
              "          const dataTable =\n",
              "            await google.colab.kernel.invokeFunction('convertToInteractive',\n",
              "                                                     [key], {});\n",
              "          if (!dataTable) return;\n",
              "\n",
              "          const docLinkHtml = 'Like what you see? Visit the ' +\n",
              "            '<a target=\"_blank\" href=https://colab.research.google.com/notebooks/data_table.ipynb>data table notebook</a>'\n",
              "            + ' to learn more about interactive tables.';\n",
              "          element.innerHTML = '';\n",
              "          dataTable['output_type'] = 'display_data';\n",
              "          await google.colab.output.renderOutput(dataTable, element);\n",
              "          const docLink = document.createElement('div');\n",
              "          docLink.innerHTML = docLinkHtml;\n",
              "          element.appendChild(docLink);\n",
              "        }\n",
              "      </script>\n",
              "    </div>\n",
              "  </div>\n",
              "  "
            ]
          },
          "metadata": {},
          "execution_count": 40
        }
      ],
      "source": [
        "pd.DataFrame(final_weights).T"
      ],
      "id": "0d745d24"
    },
    {
      "cell_type": "markdown",
      "metadata": {
        "id": "308b760a"
      },
      "source": [
        "**Conclusion**\n",
        "* Initial Equal Weight was 16.7%.\n",
        "* Risk Profile changes over time when no balancing is done\n",
        "* If you have a retirement portfolio plan, you need to rebalance it to avoid deviating away from the plan"
      ],
      "id": "308b760a"
    },
    {
      "cell_type": "markdown",
      "source": [
        "# **The Efficient Frontier**\n",
        "* In modern portfolio theory, the efficient frontier is an investment portfolio which occupies the \"efficient\" parts of the risk–return spectrum.\n",
        "* I start off with an equal weighted portfolio and run a Monte Carlo Simulation to create random weighted portfolios to visualise the efficient frontier"
      ],
      "metadata": {
        "id": "3qy0rTRxKAtf"
      },
      "id": "3qy0rTRxKAtf"
    },
    {
      "cell_type": "code",
      "execution_count": null,
      "metadata": {
        "id": "mHDbeIj3CFsA"
      },
      "outputs": [],
      "source": [
        "import seaborn as sns\n",
        "import matplotlib.pyplot as plt"
      ],
      "id": "mHDbeIj3CFsA"
    },
    {
      "cell_type": "code",
      "execution_count": null,
      "metadata": {
        "id": "f5rB8itMdJdz"
      },
      "outputs": [],
      "source": [
        "asset_lists = [\n",
        "    'IJR', # iShares Core S&P Small-Cap ETF\n",
        "    'IVV', # iShares Core S&P 500 ETF\n",
        "    'AGG', # iShares Core U.S. Aggregate Bond ETF\n",
        "    'IYR', # iShares U.S. Real Estate ETF\n",
        "    'GLD', # SPDR Gold Shares\n",
        "    'USO', # United States Oil Fund, LP\n",
        "    'BTC-USD', # Bitcoin\n",
        "]\n",
        "\n"
      ],
      "id": "f5rB8itMdJdz"
    },
    {
      "cell_type": "code",
      "source": [
        "assets_df = yf.download(asset_lists)['Adj Close'].dropna()\n",
        "assets_df"
      ],
      "metadata": {
        "colab": {
          "base_uri": "https://localhost:8080/",
          "height": 473
        },
        "id": "jAUSZSPH4nCZ",
        "outputId": "05236889-27af-486f-d82c-feb5e68635ab"
      },
      "id": "jAUSZSPH4nCZ",
      "execution_count": null,
      "outputs": [
        {
          "output_type": "stream",
          "name": "stdout",
          "text": [
            "[*********************100%***********************]  7 of 7 completed\n"
          ]
        },
        {
          "output_type": "execute_result",
          "data": {
            "text/plain": [
              "                  AGG       BTC-USD         GLD        IJR         IVV  \\\n",
              "Date                                                                     \n",
              "2014-09-17  89.697563    457.334015  117.540001  48.441826  173.461288   \n",
              "2014-09-18  89.705856    424.440002  117.779999  48.735386  174.371292   \n",
              "2014-09-19  89.854668    394.795990  117.089996  48.130486  174.165314   \n",
              "2014-09-22  89.978699    402.152008  116.849998  47.618969  172.894684   \n",
              "2014-09-23  90.061363    435.790985  117.599998  47.143051  171.941742   \n",
              "...               ...           ...         ...        ...         ...   \n",
              "2022-09-22  97.500000  19413.550781  155.699997  90.344963  375.751831   \n",
              "2022-09-23  97.199997  19297.638672  153.009995  88.394997  369.514008   \n",
              "2022-09-26  95.949997  19222.671875  151.229996  87.040001  365.869995   \n",
              "2022-09-27  95.540001  19110.546875  151.539993  87.110001  364.929993   \n",
              "2022-09-28  96.833504  19571.408203  154.509995  89.370003  370.988495   \n",
              "\n",
              "                  IYR         USO  \n",
              "Date                               \n",
              "2014-09-17  54.247066  280.079987  \n",
              "2014-09-18  53.852165  276.959991  \n",
              "2014-09-19  53.882538  276.559998  \n",
              "2014-09-22  53.404091  273.519989  \n",
              "2014-09-23  53.100311  275.519989  \n",
              "...               ...         ...  \n",
              "2022-09-22  86.035141   68.970001  \n",
              "2022-09-23  84.907005   65.320000  \n",
              "2022-09-26  82.610001   63.200001  \n",
              "2022-09-27  81.430000   64.419998  \n",
              "2022-09-28  83.029999   67.125000  \n",
              "\n",
              "[2023 rows x 7 columns]"
            ],
            "text/html": [
              "\n",
              "  <div id=\"df-62146596-e5e7-4e48-88c2-d5f81f10d37b\">\n",
              "    <div class=\"colab-df-container\">\n",
              "      <div>\n",
              "<style scoped>\n",
              "    .dataframe tbody tr th:only-of-type {\n",
              "        vertical-align: middle;\n",
              "    }\n",
              "\n",
              "    .dataframe tbody tr th {\n",
              "        vertical-align: top;\n",
              "    }\n",
              "\n",
              "    .dataframe thead th {\n",
              "        text-align: right;\n",
              "    }\n",
              "</style>\n",
              "<table border=\"1\" class=\"dataframe\">\n",
              "  <thead>\n",
              "    <tr style=\"text-align: right;\">\n",
              "      <th></th>\n",
              "      <th>AGG</th>\n",
              "      <th>BTC-USD</th>\n",
              "      <th>GLD</th>\n",
              "      <th>IJR</th>\n",
              "      <th>IVV</th>\n",
              "      <th>IYR</th>\n",
              "      <th>USO</th>\n",
              "    </tr>\n",
              "    <tr>\n",
              "      <th>Date</th>\n",
              "      <th></th>\n",
              "      <th></th>\n",
              "      <th></th>\n",
              "      <th></th>\n",
              "      <th></th>\n",
              "      <th></th>\n",
              "      <th></th>\n",
              "    </tr>\n",
              "  </thead>\n",
              "  <tbody>\n",
              "    <tr>\n",
              "      <th>2014-09-17</th>\n",
              "      <td>89.697563</td>\n",
              "      <td>457.334015</td>\n",
              "      <td>117.540001</td>\n",
              "      <td>48.441826</td>\n",
              "      <td>173.461288</td>\n",
              "      <td>54.247066</td>\n",
              "      <td>280.079987</td>\n",
              "    </tr>\n",
              "    <tr>\n",
              "      <th>2014-09-18</th>\n",
              "      <td>89.705856</td>\n",
              "      <td>424.440002</td>\n",
              "      <td>117.779999</td>\n",
              "      <td>48.735386</td>\n",
              "      <td>174.371292</td>\n",
              "      <td>53.852165</td>\n",
              "      <td>276.959991</td>\n",
              "    </tr>\n",
              "    <tr>\n",
              "      <th>2014-09-19</th>\n",
              "      <td>89.854668</td>\n",
              "      <td>394.795990</td>\n",
              "      <td>117.089996</td>\n",
              "      <td>48.130486</td>\n",
              "      <td>174.165314</td>\n",
              "      <td>53.882538</td>\n",
              "      <td>276.559998</td>\n",
              "    </tr>\n",
              "    <tr>\n",
              "      <th>2014-09-22</th>\n",
              "      <td>89.978699</td>\n",
              "      <td>402.152008</td>\n",
              "      <td>116.849998</td>\n",
              "      <td>47.618969</td>\n",
              "      <td>172.894684</td>\n",
              "      <td>53.404091</td>\n",
              "      <td>273.519989</td>\n",
              "    </tr>\n",
              "    <tr>\n",
              "      <th>2014-09-23</th>\n",
              "      <td>90.061363</td>\n",
              "      <td>435.790985</td>\n",
              "      <td>117.599998</td>\n",
              "      <td>47.143051</td>\n",
              "      <td>171.941742</td>\n",
              "      <td>53.100311</td>\n",
              "      <td>275.519989</td>\n",
              "    </tr>\n",
              "    <tr>\n",
              "      <th>...</th>\n",
              "      <td>...</td>\n",
              "      <td>...</td>\n",
              "      <td>...</td>\n",
              "      <td>...</td>\n",
              "      <td>...</td>\n",
              "      <td>...</td>\n",
              "      <td>...</td>\n",
              "    </tr>\n",
              "    <tr>\n",
              "      <th>2022-09-22</th>\n",
              "      <td>97.500000</td>\n",
              "      <td>19413.550781</td>\n",
              "      <td>155.699997</td>\n",
              "      <td>90.344963</td>\n",
              "      <td>375.751831</td>\n",
              "      <td>86.035141</td>\n",
              "      <td>68.970001</td>\n",
              "    </tr>\n",
              "    <tr>\n",
              "      <th>2022-09-23</th>\n",
              "      <td>97.199997</td>\n",
              "      <td>19297.638672</td>\n",
              "      <td>153.009995</td>\n",
              "      <td>88.394997</td>\n",
              "      <td>369.514008</td>\n",
              "      <td>84.907005</td>\n",
              "      <td>65.320000</td>\n",
              "    </tr>\n",
              "    <tr>\n",
              "      <th>2022-09-26</th>\n",
              "      <td>95.949997</td>\n",
              "      <td>19222.671875</td>\n",
              "      <td>151.229996</td>\n",
              "      <td>87.040001</td>\n",
              "      <td>365.869995</td>\n",
              "      <td>82.610001</td>\n",
              "      <td>63.200001</td>\n",
              "    </tr>\n",
              "    <tr>\n",
              "      <th>2022-09-27</th>\n",
              "      <td>95.540001</td>\n",
              "      <td>19110.546875</td>\n",
              "      <td>151.539993</td>\n",
              "      <td>87.110001</td>\n",
              "      <td>364.929993</td>\n",
              "      <td>81.430000</td>\n",
              "      <td>64.419998</td>\n",
              "    </tr>\n",
              "    <tr>\n",
              "      <th>2022-09-28</th>\n",
              "      <td>96.833504</td>\n",
              "      <td>19571.408203</td>\n",
              "      <td>154.509995</td>\n",
              "      <td>89.370003</td>\n",
              "      <td>370.988495</td>\n",
              "      <td>83.029999</td>\n",
              "      <td>67.125000</td>\n",
              "    </tr>\n",
              "  </tbody>\n",
              "</table>\n",
              "<p>2023 rows × 7 columns</p>\n",
              "</div>\n",
              "      <button class=\"colab-df-convert\" onclick=\"convertToInteractive('df-62146596-e5e7-4e48-88c2-d5f81f10d37b')\"\n",
              "              title=\"Convert this dataframe to an interactive table.\"\n",
              "              style=\"display:none;\">\n",
              "        \n",
              "  <svg xmlns=\"http://www.w3.org/2000/svg\" height=\"24px\"viewBox=\"0 0 24 24\"\n",
              "       width=\"24px\">\n",
              "    <path d=\"M0 0h24v24H0V0z\" fill=\"none\"/>\n",
              "    <path d=\"M18.56 5.44l.94 2.06.94-2.06 2.06-.94-2.06-.94-.94-2.06-.94 2.06-2.06.94zm-11 1L8.5 8.5l.94-2.06 2.06-.94-2.06-.94L8.5 2.5l-.94 2.06-2.06.94zm10 10l.94 2.06.94-2.06 2.06-.94-2.06-.94-.94-2.06-.94 2.06-2.06.94z\"/><path d=\"M17.41 7.96l-1.37-1.37c-.4-.4-.92-.59-1.43-.59-.52 0-1.04.2-1.43.59L10.3 9.45l-7.72 7.72c-.78.78-.78 2.05 0 2.83L4 21.41c.39.39.9.59 1.41.59.51 0 1.02-.2 1.41-.59l7.78-7.78 2.81-2.81c.8-.78.8-2.07 0-2.86zM5.41 20L4 18.59l7.72-7.72 1.47 1.35L5.41 20z\"/>\n",
              "  </svg>\n",
              "      </button>\n",
              "      \n",
              "  <style>\n",
              "    .colab-df-container {\n",
              "      display:flex;\n",
              "      flex-wrap:wrap;\n",
              "      gap: 12px;\n",
              "    }\n",
              "\n",
              "    .colab-df-convert {\n",
              "      background-color: #E8F0FE;\n",
              "      border: none;\n",
              "      border-radius: 50%;\n",
              "      cursor: pointer;\n",
              "      display: none;\n",
              "      fill: #1967D2;\n",
              "      height: 32px;\n",
              "      padding: 0 0 0 0;\n",
              "      width: 32px;\n",
              "    }\n",
              "\n",
              "    .colab-df-convert:hover {\n",
              "      background-color: #E2EBFA;\n",
              "      box-shadow: 0px 1px 2px rgba(60, 64, 67, 0.3), 0px 1px 3px 1px rgba(60, 64, 67, 0.15);\n",
              "      fill: #174EA6;\n",
              "    }\n",
              "\n",
              "    [theme=dark] .colab-df-convert {\n",
              "      background-color: #3B4455;\n",
              "      fill: #D2E3FC;\n",
              "    }\n",
              "\n",
              "    [theme=dark] .colab-df-convert:hover {\n",
              "      background-color: #434B5C;\n",
              "      box-shadow: 0px 1px 3px 1px rgba(0, 0, 0, 0.15);\n",
              "      filter: drop-shadow(0px 1px 2px rgba(0, 0, 0, 0.3));\n",
              "      fill: #FFFFFF;\n",
              "    }\n",
              "  </style>\n",
              "\n",
              "      <script>\n",
              "        const buttonEl =\n",
              "          document.querySelector('#df-62146596-e5e7-4e48-88c2-d5f81f10d37b button.colab-df-convert');\n",
              "        buttonEl.style.display =\n",
              "          google.colab.kernel.accessAllowed ? 'block' : 'none';\n",
              "\n",
              "        async function convertToInteractive(key) {\n",
              "          const element = document.querySelector('#df-62146596-e5e7-4e48-88c2-d5f81f10d37b');\n",
              "          const dataTable =\n",
              "            await google.colab.kernel.invokeFunction('convertToInteractive',\n",
              "                                                     [key], {});\n",
              "          if (!dataTable) return;\n",
              "\n",
              "          const docLinkHtml = 'Like what you see? Visit the ' +\n",
              "            '<a target=\"_blank\" href=https://colab.research.google.com/notebooks/data_table.ipynb>data table notebook</a>'\n",
              "            + ' to learn more about interactive tables.';\n",
              "          element.innerHTML = '';\n",
              "          dataTable['output_type'] = 'display_data';\n",
              "          await google.colab.output.renderOutput(dataTable, element);\n",
              "          const docLink = document.createElement('div');\n",
              "          docLink.innerHTML = docLinkHtml;\n",
              "          element.appendChild(docLink);\n",
              "        }\n",
              "      </script>\n",
              "    </div>\n",
              "  </div>\n",
              "  "
            ]
          },
          "metadata": {},
          "execution_count": 94
        }
      ]
    },
    {
      "cell_type": "code",
      "execution_count": null,
      "metadata": {
        "id": "w-VdGu98bY_-",
        "colab": {
          "base_uri": "https://localhost:8080/",
          "height": 595
        },
        "outputId": "70387041-0a92-4a09-a76a-507c5c181dcf"
      },
      "outputs": [
        {
          "output_type": "display_data",
          "data": {
            "text/plain": [
              "<Figure size 1440x720 with 2 Axes>"
            ],
            "image/png": "[encoded data removed]"
          },
          "metadata": {
            "needs_background": "light"
          }
        }
      ],
      "source": [
        "sns.heatmap(assets_df.corr(), annot=True, cmap='Blues');"
      ],
      "id": "w-VdGu98bY_-"
    },
    {
      "cell_type": "code",
      "execution_count": null,
      "metadata": {
        "id": "3804b5d3"
      },
      "outputs": [],
      "source": [
        "# returns & covariance matrix\n",
        "def returnscovmatrix(data):\n",
        "    returns = data.pct_change()\n",
        "    mu = returns.mean()\n",
        "    covmatrix = returns.cov()\n",
        "    return returns, mu, covmatrix\n",
        "\n",
        "# annualise performance\n",
        "def portfolioperformance(weights, mu, cov):\n",
        "    returns = np.sum(mu * weights * 252)\n",
        "    std = np.sqrt(np.dot(weights.T, np.dot(cov*252, weights)))\n",
        "    sr = returns/std\n",
        "    return returns, std, sr"
      ],
      "id": "3804b5d3"
    },
    {
      "cell_type": "markdown",
      "metadata": {
        "id": "273ee2e0"
      },
      "source": [
        "**Generate equal weighted portfolio**"
      ],
      "id": "273ee2e0"
    },
    {
      "cell_type": "code",
      "execution_count": null,
      "metadata": {
        "id": "fb39b670"
      },
      "outputs": [],
      "source": [
        "weights = [1/len(assets_df.columns)]*len(assets_df.columns)\n",
        "weights /= np.sum(weights)"
      ],
      "id": "fb39b670"
    },
    {
      "cell_type": "code",
      "execution_count": null,
      "metadata": {
        "id": "7e974711",
        "colab": {
          "base_uri": "https://localhost:8080/",
          "height": 269
        },
        "outputId": "7a0e22c2-8fb7-49be-f46e-eef3e83149c3"
      },
      "outputs": [
        {
          "output_type": "execute_result",
          "data": {
            "text/plain": [
              "         Annual Return (%)\n",
              "AGG                   1.07\n",
              "BTC-USD              73.57\n",
              "GLD                   4.42\n",
              "IJR                  10.22\n",
              "IVV                  11.19\n",
              "IYR                   7.40\n",
              "USO                  -8.91"
            ],
            "text/html": [
              "\n",
              "  <div id=\"df-9d7ad7e6-1f1c-4513-8ca7-4ba546e1861d\">\n",
              "    <div class=\"colab-df-container\">\n",
              "      <div>\n",
              "<style scoped>\n",
              "    .dataframe tbody tr th:only-of-type {\n",
              "        vertical-align: middle;\n",
              "    }\n",
              "\n",
              "    .dataframe tbody tr th {\n",
              "        vertical-align: top;\n",
              "    }\n",
              "\n",
              "    .dataframe thead th {\n",
              "        text-align: right;\n",
              "    }\n",
              "</style>\n",
              "<table border=\"1\" class=\"dataframe\">\n",
              "  <thead>\n",
              "    <tr style=\"text-align: right;\">\n",
              "      <th></th>\n",
              "      <th>Annual Return (%)</th>\n",
              "    </tr>\n",
              "  </thead>\n",
              "  <tbody>\n",
              "    <tr>\n",
              "      <th>AGG</th>\n",
              "      <td>1.07</td>\n",
              "    </tr>\n",
              "    <tr>\n",
              "      <th>BTC-USD</th>\n",
              "      <td>73.57</td>\n",
              "    </tr>\n",
              "    <tr>\n",
              "      <th>GLD</th>\n",
              "      <td>4.42</td>\n",
              "    </tr>\n",
              "    <tr>\n",
              "      <th>IJR</th>\n",
              "      <td>10.22</td>\n",
              "    </tr>\n",
              "    <tr>\n",
              "      <th>IVV</th>\n",
              "      <td>11.19</td>\n",
              "    </tr>\n",
              "    <tr>\n",
              "      <th>IYR</th>\n",
              "      <td>7.40</td>\n",
              "    </tr>\n",
              "    <tr>\n",
              "      <th>USO</th>\n",
              "      <td>-8.91</td>\n",
              "    </tr>\n",
              "  </tbody>\n",
              "</table>\n",
              "</div>\n",
              "      <button class=\"colab-df-convert\" onclick=\"convertToInteractive('df-9d7ad7e6-1f1c-4513-8ca7-4ba546e1861d')\"\n",
              "              title=\"Convert this dataframe to an interactive table.\"\n",
              "              style=\"display:none;\">\n",
              "        \n",
              "  <svg xmlns=\"http://www.w3.org/2000/svg\" height=\"24px\"viewBox=\"0 0 24 24\"\n",
              "       width=\"24px\">\n",
              "    <path d=\"M0 0h24v24H0V0z\" fill=\"none\"/>\n",
              "    <path d=\"M18.56 5.44l.94 2.06.94-2.06 2.06-.94-2.06-.94-.94-2.06-.94 2.06-2.06.94zm-11 1L8.5 8.5l.94-2.06 2.06-.94-2.06-.94L8.5 2.5l-.94 2.06-2.06.94zm10 10l.94 2.06.94-2.06 2.06-.94-2.06-.94-.94-2.06-.94 2.06-2.06.94z\"/><path d=\"M17.41 7.96l-1.37-1.37c-.4-.4-.92-.59-1.43-.59-.52 0-1.04.2-1.43.59L10.3 9.45l-7.72 7.72c-.78.78-.78 2.05 0 2.83L4 21.41c.39.39.9.59 1.41.59.51 0 1.02-.2 1.41-.59l7.78-7.78 2.81-2.81c.8-.78.8-2.07 0-2.86zM5.41 20L4 18.59l7.72-7.72 1.47 1.35L5.41 20z\"/>\n",
              "  </svg>\n",
              "      </button>\n",
              "      \n",
              "  <style>\n",
              "    .colab-df-container {\n",
              "      display:flex;\n",
              "      flex-wrap:wrap;\n",
              "      gap: 12px;\n",
              "    }\n",
              "\n",
              "    .colab-df-convert {\n",
              "      background-color: #E8F0FE;\n",
              "      border: none;\n",
              "      border-radius: 50%;\n",
              "      cursor: pointer;\n",
              "      display: none;\n",
              "      fill: #1967D2;\n",
              "      height: 32px;\n",
              "      padding: 0 0 0 0;\n",
              "      width: 32px;\n",
              "    }\n",
              "\n",
              "    .colab-df-convert:hover {\n",
              "      background-color: #E2EBFA;\n",
              "      box-shadow: 0px 1px 2px rgba(60, 64, 67, 0.3), 0px 1px 3px 1px rgba(60, 64, 67, 0.15);\n",
              "      fill: #174EA6;\n",
              "    }\n",
              "\n",
              "    [theme=dark] .colab-df-convert {\n",
              "      background-color: #3B4455;\n",
              "      fill: #D2E3FC;\n",
              "    }\n",
              "\n",
              "    [theme=dark] .colab-df-convert:hover {\n",
              "      background-color: #434B5C;\n",
              "      box-shadow: 0px 1px 3px 1px rgba(0, 0, 0, 0.15);\n",
              "      filter: drop-shadow(0px 1px 2px rgba(0, 0, 0, 0.3));\n",
              "      fill: #FFFFFF;\n",
              "    }\n",
              "  </style>\n",
              "\n",
              "      <script>\n",
              "        const buttonEl =\n",
              "          document.querySelector('#df-9d7ad7e6-1f1c-4513-8ca7-4ba546e1861d button.colab-df-convert');\n",
              "        buttonEl.style.display =\n",
              "          google.colab.kernel.accessAllowed ? 'block' : 'none';\n",
              "\n",
              "        async function convertToInteractive(key) {\n",
              "          const element = document.querySelector('#df-9d7ad7e6-1f1c-4513-8ca7-4ba546e1861d');\n",
              "          const dataTable =\n",
              "            await google.colab.kernel.invokeFunction('convertToInteractive',\n",
              "                                                     [key], {});\n",
              "          if (!dataTable) return;\n",
              "\n",
              "          const docLinkHtml = 'Like what you see? Visit the ' +\n",
              "            '<a target=\"_blank\" href=https://colab.research.google.com/notebooks/data_table.ipynb>data table notebook</a>'\n",
              "            + ' to learn more about interactive tables.';\n",
              "          element.innerHTML = '';\n",
              "          dataTable['output_type'] = 'display_data';\n",
              "          await google.colab.output.renderOutput(dataTable, element);\n",
              "          const docLink = document.createElement('div');\n",
              "          docLink.innerHTML = docLinkHtml;\n",
              "          element.appendChild(docLink);\n",
              "        }\n",
              "      </script>\n",
              "    </div>\n",
              "  </div>\n",
              "  "
            ]
          },
          "metadata": {},
          "execution_count": 103
        }
      ],
      "source": [
        "returns, mu, cov = returnscovmatrix(assets_df)\n",
        "(mu*252*100).sort_values(ascending=False)\n",
        "\n",
        "pd.DataFrame(round(mu*252*100,2), columns=['Annual Return (%)'])"
      ],
      "id": "7e974711"
    },
    {
      "cell_type": "code",
      "execution_count": null,
      "metadata": {
        "id": "30a4c63b",
        "colab": {
          "base_uri": "https://localhost:8080/",
          "height": 143
        },
        "outputId": "df0c43ec-8247-45a0-c428-b2962bb4c75b"
      },
      "outputs": [
        {
          "output_type": "execute_result",
          "data": {
            "text/plain": [
              "            EW Pf Performance\n",
              "Returns                  0.14\n",
              "Volatility               0.17\n",
              "Sharpe                   0.83"
            ],
            "text/html": [
              "\n",
              "  <div id=\"df-3dc49b2a-dc9e-4cd2-b7e3-b78eeecc2749\">\n",
              "    <div class=\"colab-df-container\">\n",
              "      <div>\n",
              "<style scoped>\n",
              "    .dataframe tbody tr th:only-of-type {\n",
              "        vertical-align: middle;\n",
              "    }\n",
              "\n",
              "    .dataframe tbody tr th {\n",
              "        vertical-align: top;\n",
              "    }\n",
              "\n",
              "    .dataframe thead th {\n",
              "        text-align: right;\n",
              "    }\n",
              "</style>\n",
              "<table border=\"1\" class=\"dataframe\">\n",
              "  <thead>\n",
              "    <tr style=\"text-align: right;\">\n",
              "      <th></th>\n",
              "      <th>EW Pf Performance</th>\n",
              "    </tr>\n",
              "  </thead>\n",
              "  <tbody>\n",
              "    <tr>\n",
              "      <th>Returns</th>\n",
              "      <td>0.14</td>\n",
              "    </tr>\n",
              "    <tr>\n",
              "      <th>Volatility</th>\n",
              "      <td>0.17</td>\n",
              "    </tr>\n",
              "    <tr>\n",
              "      <th>Sharpe</th>\n",
              "      <td>0.83</td>\n",
              "    </tr>\n",
              "  </tbody>\n",
              "</table>\n",
              "</div>\n",
              "      <button class=\"colab-df-convert\" onclick=\"convertToInteractive('df-3dc49b2a-dc9e-4cd2-b7e3-b78eeecc2749')\"\n",
              "              title=\"Convert this dataframe to an interactive table.\"\n",
              "              style=\"display:none;\">\n",
              "        \n",
              "  <svg xmlns=\"http://www.w3.org/2000/svg\" height=\"24px\"viewBox=\"0 0 24 24\"\n",
              "       width=\"24px\">\n",
              "    <path d=\"M0 0h24v24H0V0z\" fill=\"none\"/>\n",
              "    <path d=\"M18.56 5.44l.94 2.06.94-2.06 2.06-.94-2.06-.94-.94-2.06-.94 2.06-2.06.94zm-11 1L8.5 8.5l.94-2.06 2.06-.94-2.06-.94L8.5 2.5l-.94 2.06-2.06.94zm10 10l.94 2.06.94-2.06 2.06-.94-2.06-.94-.94-2.06-.94 2.06-2.06.94z\"/><path d=\"M17.41 7.96l-1.37-1.37c-.4-.4-.92-.59-1.43-.59-.52 0-1.04.2-1.43.59L10.3 9.45l-7.72 7.72c-.78.78-.78 2.05 0 2.83L4 21.41c.39.39.9.59 1.41.59.51 0 1.02-.2 1.41-.59l7.78-7.78 2.81-2.81c.8-.78.8-2.07 0-2.86zM5.41 20L4 18.59l7.72-7.72 1.47 1.35L5.41 20z\"/>\n",
              "  </svg>\n",
              "      </button>\n",
              "      \n",
              "  <style>\n",
              "    .colab-df-container {\n",
              "      display:flex;\n",
              "      flex-wrap:wrap;\n",
              "      gap: 12px;\n",
              "    }\n",
              "\n",
              "    .colab-df-convert {\n",
              "      background-color: #E8F0FE;\n",
              "      border: none;\n",
              "      border-radius: 50%;\n",
              "      cursor: pointer;\n",
              "      display: none;\n",
              "      fill: #1967D2;\n",
              "      height: 32px;\n",
              "      padding: 0 0 0 0;\n",
              "      width: 32px;\n",
              "    }\n",
              "\n",
              "    .colab-df-convert:hover {\n",
              "      background-color: #E2EBFA;\n",
              "      box-shadow: 0px 1px 2px rgba(60, 64, 67, 0.3), 0px 1px 3px 1px rgba(60, 64, 67, 0.15);\n",
              "      fill: #174EA6;\n",
              "    }\n",
              "\n",
              "    [theme=dark] .colab-df-convert {\n",
              "      background-color: #3B4455;\n",
              "      fill: #D2E3FC;\n",
              "    }\n",
              "\n",
              "    [theme=dark] .colab-df-convert:hover {\n",
              "      background-color: #434B5C;\n",
              "      box-shadow: 0px 1px 3px 1px rgba(0, 0, 0, 0.15);\n",
              "      filter: drop-shadow(0px 1px 2px rgba(0, 0, 0, 0.3));\n",
              "      fill: #FFFFFF;\n",
              "    }\n",
              "  </style>\n",
              "\n",
              "      <script>\n",
              "        const buttonEl =\n",
              "          document.querySelector('#df-3dc49b2a-dc9e-4cd2-b7e3-b78eeecc2749 button.colab-df-convert');\n",
              "        buttonEl.style.display =\n",
              "          google.colab.kernel.accessAllowed ? 'block' : 'none';\n",
              "\n",
              "        async function convertToInteractive(key) {\n",
              "          const element = document.querySelector('#df-3dc49b2a-dc9e-4cd2-b7e3-b78eeecc2749');\n",
              "          const dataTable =\n",
              "            await google.colab.kernel.invokeFunction('convertToInteractive',\n",
              "                                                     [key], {});\n",
              "          if (!dataTable) return;\n",
              "\n",
              "          const docLinkHtml = 'Like what you see? Visit the ' +\n",
              "            '<a target=\"_blank\" href=https://colab.research.google.com/notebooks/data_table.ipynb>data table notebook</a>'\n",
              "            + ' to learn more about interactive tables.';\n",
              "          element.innerHTML = '';\n",
              "          dataTable['output_type'] = 'display_data';\n",
              "          await google.colab.output.renderOutput(dataTable, element);\n",
              "          const docLink = document.createElement('div');\n",
              "          docLink.innerHTML = docLinkHtml;\n",
              "          element.appendChild(docLink);\n",
              "        }\n",
              "      </script>\n",
              "    </div>\n",
              "  </div>\n",
              "  "
            ]
          },
          "metadata": {},
          "execution_count": 104
        }
      ],
      "source": [
        "returns, std, sr = portfolioperformance(weights, mu, cov)\n",
        "\n",
        "pd.DataFrame([round(returns,2), round(std,2), round(sr,2)], \n",
        "             index=['Returns', 'Volatility', 'Sharpe'], columns = ['EW Pf Performance'])"
      ],
      "id": "30a4c63b"
    },
    {
      "cell_type": "markdown",
      "metadata": {
        "id": "8f060547"
      },
      "source": [
        "# **Plotting the Efficient Frontier**"
      ],
      "id": "8f060547"
    },
    {
      "cell_type": "markdown",
      "metadata": {
        "id": "0024abb3"
      },
      "source": [
        "**Simulate portfolios**"
      ],
      "id": "0024abb3"
    },
    {
      "cell_type": "code",
      "execution_count": null,
      "metadata": {
        "id": "a9c3c37e"
      },
      "outputs": [],
      "source": [
        "n_portfolios = 20000\n",
        "results = np.zeros((3+len(mu), n_portfolios)) # 3 rows: return, std, sharpe\n",
        "\n",
        "for i in range(n_portfolios):\n",
        "    # make random weights\n",
        "    weights = np.random.rand(len(mu))\n",
        "    weights /= np.sum(weights)\n",
        "    \n",
        "    # Expected return\n",
        "    portfolio_return = np.sum(mu * weights * 252)\n",
        "    \n",
        "    # Expected volatility\n",
        "    portfolio_stdev = np.sqrt(np.dot(weights.T, np.dot(cov*252, weights)))\n",
        "    \n",
        "    # storing to results array\n",
        "    results[0,i] = portfolio_return\n",
        "    results[1,i] = portfolio_stdev\n",
        "    results[2,i] = results[0,i] / results[1,i] # sharpe\n",
        "\n",
        "\n",
        "    #iterate through the weight vector and add data to results array\n",
        "    for j in range(len(weights)):\n",
        "        results[j+3,i] = weights[j]\n",
        "        "
      ],
      "id": "a9c3c37e"
    },
    {
      "cell_type": "code",
      "execution_count": null,
      "metadata": {
        "id": "1d2595ba",
        "colab": {
          "base_uri": "https://localhost:8080/",
          "height": 206
        },
        "outputId": "e42a3052-a55c-4980-8b31-4e702671e8f4"
      },
      "outputs": [
        {
          "output_type": "execute_result",
          "data": {
            "text/plain": [
              "     return     stdev    sharpe       AGG   BTC-USD       GLD       IJR  \\\n",
              "0  0.111761  0.184009  0.607368  0.091278  0.096197  0.026318  0.254007   \n",
              "1  0.194964  0.218972  0.890361  0.185417  0.247941  0.139377  0.012298   \n",
              "2  0.045981  0.158644  0.289835  0.209973  0.015034  0.023326  0.151005   \n",
              "3  0.107023  0.183097  0.584512  0.098267  0.106590  0.120416  0.152271   \n",
              "4  0.166949  0.200116  0.834264  0.179087  0.193392  0.064394  0.133660   \n",
              "\n",
              "        IVV       IYR       USO  \n",
              "0  0.110527  0.233686  0.187988  \n",
              "1  0.024723  0.215757  0.174488  \n",
              "2  0.207312  0.172139  0.221211  \n",
              "3  0.242661  0.027344  0.252450  \n",
              "4  0.119174  0.126198  0.184095  "
            ],
            "text/html": [
              "\n",
              "  <div id=\"df-acd27c04-a63e-463c-b2fe-892230ea1844\">\n",
              "    <div class=\"colab-df-container\">\n",
              "      <div>\n",
              "<style scoped>\n",
              "    .dataframe tbody tr th:only-of-type {\n",
              "        vertical-align: middle;\n",
              "    }\n",
              "\n",
              "    .dataframe tbody tr th {\n",
              "        vertical-align: top;\n",
              "    }\n",
              "\n",
              "    .dataframe thead th {\n",
              "        text-align: right;\n",
              "    }\n",
              "</style>\n",
              "<table border=\"1\" class=\"dataframe\">\n",
              "  <thead>\n",
              "    <tr style=\"text-align: right;\">\n",
              "      <th></th>\n",
              "      <th>return</th>\n",
              "      <th>stdev</th>\n",
              "      <th>sharpe</th>\n",
              "      <th>AGG</th>\n",
              "      <th>BTC-USD</th>\n",
              "      <th>GLD</th>\n",
              "      <th>IJR</th>\n",
              "      <th>IVV</th>\n",
              "      <th>IYR</th>\n",
              "      <th>USO</th>\n",
              "    </tr>\n",
              "  </thead>\n",
              "  <tbody>\n",
              "    <tr>\n",
              "      <th>0</th>\n",
              "      <td>0.111761</td>\n",
              "      <td>0.184009</td>\n",
              "      <td>0.607368</td>\n",
              "      <td>0.091278</td>\n",
              "      <td>0.096197</td>\n",
              "      <td>0.026318</td>\n",
              "      <td>0.254007</td>\n",
              "      <td>0.110527</td>\n",
              "      <td>0.233686</td>\n",
              "      <td>0.187988</td>\n",
              "    </tr>\n",
              "    <tr>\n",
              "      <th>1</th>\n",
              "      <td>0.194964</td>\n",
              "      <td>0.218972</td>\n",
              "      <td>0.890361</td>\n",
              "      <td>0.185417</td>\n",
              "      <td>0.247941</td>\n",
              "      <td>0.139377</td>\n",
              "      <td>0.012298</td>\n",
              "      <td>0.024723</td>\n",
              "      <td>0.215757</td>\n",
              "      <td>0.174488</td>\n",
              "    </tr>\n",
              "    <tr>\n",
              "      <th>2</th>\n",
              "      <td>0.045981</td>\n",
              "      <td>0.158644</td>\n",
              "      <td>0.289835</td>\n",
              "      <td>0.209973</td>\n",
              "      <td>0.015034</td>\n",
              "      <td>0.023326</td>\n",
              "      <td>0.151005</td>\n",
              "      <td>0.207312</td>\n",
              "      <td>0.172139</td>\n",
              "      <td>0.221211</td>\n",
              "    </tr>\n",
              "    <tr>\n",
              "      <th>3</th>\n",
              "      <td>0.107023</td>\n",
              "      <td>0.183097</td>\n",
              "      <td>0.584512</td>\n",
              "      <td>0.098267</td>\n",
              "      <td>0.106590</td>\n",
              "      <td>0.120416</td>\n",
              "      <td>0.152271</td>\n",
              "      <td>0.242661</td>\n",
              "      <td>0.027344</td>\n",
              "      <td>0.252450</td>\n",
              "    </tr>\n",
              "    <tr>\n",
              "      <th>4</th>\n",
              "      <td>0.166949</td>\n",
              "      <td>0.200116</td>\n",
              "      <td>0.834264</td>\n",
              "      <td>0.179087</td>\n",
              "      <td>0.193392</td>\n",
              "      <td>0.064394</td>\n",
              "      <td>0.133660</td>\n",
              "      <td>0.119174</td>\n",
              "      <td>0.126198</td>\n",
              "      <td>0.184095</td>\n",
              "    </tr>\n",
              "  </tbody>\n",
              "</table>\n",
              "</div>\n",
              "      <button class=\"colab-df-convert\" onclick=\"convertToInteractive('df-acd27c04-a63e-463c-b2fe-892230ea1844')\"\n",
              "              title=\"Convert this dataframe to an interactive table.\"\n",
              "              style=\"display:none;\">\n",
              "        \n",
              "  <svg xmlns=\"http://www.w3.org/2000/svg\" height=\"24px\"viewBox=\"0 0 24 24\"\n",
              "       width=\"24px\">\n",
              "    <path d=\"M0 0h24v24H0V0z\" fill=\"none\"/>\n",
              "    <path d=\"M18.56 5.44l.94 2.06.94-2.06 2.06-.94-2.06-.94-.94-2.06-.94 2.06-2.06.94zm-11 1L8.5 8.5l.94-2.06 2.06-.94-2.06-.94L8.5 2.5l-.94 2.06-2.06.94zm10 10l.94 2.06.94-2.06 2.06-.94-2.06-.94-.94-2.06-.94 2.06-2.06.94z\"/><path d=\"M17.41 7.96l-1.37-1.37c-.4-.4-.92-.59-1.43-.59-.52 0-1.04.2-1.43.59L10.3 9.45l-7.72 7.72c-.78.78-.78 2.05 0 2.83L4 21.41c.39.39.9.59 1.41.59.51 0 1.02-.2 1.41-.59l7.78-7.78 2.81-2.81c.8-.78.8-2.07 0-2.86zM5.41 20L4 18.59l7.72-7.72 1.47 1.35L5.41 20z\"/>\n",
              "  </svg>\n",
              "      </button>\n",
              "      \n",
              "  <style>\n",
              "    .colab-df-container {\n",
              "      display:flex;\n",
              "      flex-wrap:wrap;\n",
              "      gap: 12px;\n",
              "    }\n",
              "\n",
              "    .colab-df-convert {\n",
              "      background-color: #E8F0FE;\n",
              "      border: none;\n",
              "      border-radius: 50%;\n",
              "      cursor: pointer;\n",
              "      display: none;\n",
              "      fill: #1967D2;\n",
              "      height: 32px;\n",
              "      padding: 0 0 0 0;\n",
              "      width: 32px;\n",
              "    }\n",
              "\n",
              "    .colab-df-convert:hover {\n",
              "      background-color: #E2EBFA;\n",
              "      box-shadow: 0px 1px 2px rgba(60, 64, 67, 0.3), 0px 1px 3px 1px rgba(60, 64, 67, 0.15);\n",
              "      fill: #174EA6;\n",
              "    }\n",
              "\n",
              "    [theme=dark] .colab-df-convert {\n",
              "      background-color: #3B4455;\n",
              "      fill: #D2E3FC;\n",
              "    }\n",
              "\n",
              "    [theme=dark] .colab-df-convert:hover {\n",
              "      background-color: #434B5C;\n",
              "      box-shadow: 0px 1px 3px 1px rgba(0, 0, 0, 0.15);\n",
              "      filter: drop-shadow(0px 1px 2px rgba(0, 0, 0, 0.3));\n",
              "      fill: #FFFFFF;\n",
              "    }\n",
              "  </style>\n",
              "\n",
              "      <script>\n",
              "        const buttonEl =\n",
              "          document.querySelector('#df-acd27c04-a63e-463c-b2fe-892230ea1844 button.colab-df-convert');\n",
              "        buttonEl.style.display =\n",
              "          google.colab.kernel.accessAllowed ? 'block' : 'none';\n",
              "\n",
              "        async function convertToInteractive(key) {\n",
              "          const element = document.querySelector('#df-acd27c04-a63e-463c-b2fe-892230ea1844');\n",
              "          const dataTable =\n",
              "            await google.colab.kernel.invokeFunction('convertToInteractive',\n",
              "                                                     [key], {});\n",
              "          if (!dataTable) return;\n",
              "\n",
              "          const docLinkHtml = 'Like what you see? Visit the ' +\n",
              "            '<a target=\"_blank\" href=https://colab.research.google.com/notebooks/data_table.ipynb>data table notebook</a>'\n",
              "            + ' to learn more about interactive tables.';\n",
              "          element.innerHTML = '';\n",
              "          dataTable['output_type'] = 'display_data';\n",
              "          await google.colab.output.renderOutput(dataTable, element);\n",
              "          const docLink = document.createElement('div');\n",
              "          docLink.innerHTML = docLinkHtml;\n",
              "          element.appendChild(docLink);\n",
              "        }\n",
              "      </script>\n",
              "    </div>\n",
              "  </div>\n",
              "  "
            ]
          },
          "metadata": {},
          "execution_count": 112
        }
      ],
      "source": [
        "col_names = [i for i in assets_df.columns]\n",
        "col_names = ['return', 'stdev', 'sharpe'] + col_names\n",
        "results_df = pd.DataFrame(results.T, columns=col_names)\n",
        "results_df.head()"
      ],
      "id": "1d2595ba"
    },
    {
      "cell_type": "code",
      "execution_count": null,
      "metadata": {
        "id": "7cdec477"
      },
      "outputs": [],
      "source": [
        "# find Max Sharpe Ratio\n",
        "max_sharpe = results_df.iloc[results_df.sharpe.idxmax()]\n",
        "\n",
        "# find Min Vol \n",
        "min_vol = results_df.iloc[results_df.stdev.idxmin()]"
      ],
      "id": "7cdec477"
    },
    {
      "cell_type": "code",
      "execution_count": null,
      "metadata": {
        "id": "8bed16b9",
        "scrolled": true,
        "colab": {
          "base_uri": "https://localhost:8080/",
          "height": 606
        },
        "outputId": "300a4950-7ade-4096-9730-a4f781068c98"
      },
      "outputs": [
        {
          "output_type": "display_data",
          "data": {
            "text/plain": [
              "<Figure size 1440x720 with 2 Axes>"
            ],
            "image/png": "[encoded data removed]"
          },
          "metadata": {
            "needs_background": "light"
          }
        }
      ],
      "source": [
        "plt.scatter(results_df['stdev'], results_df['return'],c=results_df['sharpe'],cmap='Blues', s=5)\n",
        "\n",
        "plt.colorbar(label='Sharpe Ratio')\n",
        "plt.xlabel('Volatility')\n",
        "plt.ylabel('Return')\n",
        "\n",
        "plt.scatter(max_sharpe[1], max_sharpe[0], color='r',s=150)\n",
        "plt.scatter(min_vol[1],min_vol[0], color='g',s=150)\n",
        "\n",
        "plt.show()"
      ],
      "id": "8bed16b9"
    },
    {
      "cell_type": "markdown",
      "metadata": {
        "id": "36d9317e"
      },
      "source": [
        "**Portfolio with max sharpe**"
      ],
      "id": "36d9317e"
    },
    {
      "cell_type": "code",
      "execution_count": null,
      "metadata": {
        "id": "b94a3d86",
        "colab": {
          "base_uri": "https://localhost:8080/",
          "height": 81
        },
        "outputId": "8d54ba31-e41d-4e9a-f8ec-b945a09d2814"
      },
      "outputs": [
        {
          "output_type": "execute_result",
          "data": {
            "text/plain": [
              "        return     stdev    sharpe       AGG   BTC-USD       GLD       IJR  \\\n",
              "5374  0.184967  0.166907  1.108203  0.248466  0.182656  0.206279  0.043088   \n",
              "\n",
              "           IVV       IYR       USO  \n",
              "5374  0.304562  0.010304  0.004646  "
            ],
            "text/html": [
              "\n",
              "  <div id=\"df-031894d5-3c49-424e-a3db-399536e685da\">\n",
              "    <div class=\"colab-df-container\">\n",
              "      <div>\n",
              "<style scoped>\n",
              "    .dataframe tbody tr th:only-of-type {\n",
              "        vertical-align: middle;\n",
              "    }\n",
              "\n",
              "    .dataframe tbody tr th {\n",
              "        vertical-align: top;\n",
              "    }\n",
              "\n",
              "    .dataframe thead th {\n",
              "        text-align: right;\n",
              "    }\n",
              "</style>\n",
              "<table border=\"1\" class=\"dataframe\">\n",
              "  <thead>\n",
              "    <tr style=\"text-align: right;\">\n",
              "      <th></th>\n",
              "      <th>return</th>\n",
              "      <th>stdev</th>\n",
              "      <th>sharpe</th>\n",
              "      <th>AGG</th>\n",
              "      <th>BTC-USD</th>\n",
              "      <th>GLD</th>\n",
              "      <th>IJR</th>\n",
              "      <th>IVV</th>\n",
              "      <th>IYR</th>\n",
              "      <th>USO</th>\n",
              "    </tr>\n",
              "  </thead>\n",
              "  <tbody>\n",
              "    <tr>\n",
              "      <th>5374</th>\n",
              "      <td>0.184967</td>\n",
              "      <td>0.166907</td>\n",
              "      <td>1.108203</td>\n",
              "      <td>0.248466</td>\n",
              "      <td>0.182656</td>\n",
              "      <td>0.206279</td>\n",
              "      <td>0.043088</td>\n",
              "      <td>0.304562</td>\n",
              "      <td>0.010304</td>\n",
              "      <td>0.004646</td>\n",
              "    </tr>\n",
              "  </tbody>\n",
              "</table>\n",
              "</div>\n",
              "      <button class=\"colab-df-convert\" onclick=\"convertToInteractive('df-031894d5-3c49-424e-a3db-399536e685da')\"\n",
              "              title=\"Convert this dataframe to an interactive table.\"\n",
              "              style=\"display:none;\">\n",
              "        \n",
              "  <svg xmlns=\"http://www.w3.org/2000/svg\" height=\"24px\"viewBox=\"0 0 24 24\"\n",
              "       width=\"24px\">\n",
              "    <path d=\"M0 0h24v24H0V0z\" fill=\"none\"/>\n",
              "    <path d=\"M18.56 5.44l.94 2.06.94-2.06 2.06-.94-2.06-.94-.94-2.06-.94 2.06-2.06.94zm-11 1L8.5 8.5l.94-2.06 2.06-.94-2.06-.94L8.5 2.5l-.94 2.06-2.06.94zm10 10l.94 2.06.94-2.06 2.06-.94-2.06-.94-.94-2.06-.94 2.06-2.06.94z\"/><path d=\"M17.41 7.96l-1.37-1.37c-.4-.4-.92-.59-1.43-.59-.52 0-1.04.2-1.43.59L10.3 9.45l-7.72 7.72c-.78.78-.78 2.05 0 2.83L4 21.41c.39.39.9.59 1.41.59.51 0 1.02-.2 1.41-.59l7.78-7.78 2.81-2.81c.8-.78.8-2.07 0-2.86zM5.41 20L4 18.59l7.72-7.72 1.47 1.35L5.41 20z\"/>\n",
              "  </svg>\n",
              "      </button>\n",
              "      \n",
              "  <style>\n",
              "    .colab-df-container {\n",
              "      display:flex;\n",
              "      flex-wrap:wrap;\n",
              "      gap: 12px;\n",
              "    }\n",
              "\n",
              "    .colab-df-convert {\n",
              "      background-color: #E8F0FE;\n",
              "      border: none;\n",
              "      border-radius: 50%;\n",
              "      cursor: pointer;\n",
              "      display: none;\n",
              "      fill: #1967D2;\n",
              "      height: 32px;\n",
              "      padding: 0 0 0 0;\n",
              "      width: 32px;\n",
              "    }\n",
              "\n",
              "    .colab-df-convert:hover {\n",
              "      background-color: #E2EBFA;\n",
              "      box-shadow: 0px 1px 2px rgba(60, 64, 67, 0.3), 0px 1px 3px 1px rgba(60, 64, 67, 0.15);\n",
              "      fill: #174EA6;\n",
              "    }\n",
              "\n",
              "    [theme=dark] .colab-df-convert {\n",
              "      background-color: #3B4455;\n",
              "      fill: #D2E3FC;\n",
              "    }\n",
              "\n",
              "    [theme=dark] .colab-df-convert:hover {\n",
              "      background-color: #434B5C;\n",
              "      box-shadow: 0px 1px 3px 1px rgba(0, 0, 0, 0.15);\n",
              "      filter: drop-shadow(0px 1px 2px rgba(0, 0, 0, 0.3));\n",
              "      fill: #FFFFFF;\n",
              "    }\n",
              "  </style>\n",
              "\n",
              "      <script>\n",
              "        const buttonEl =\n",
              "          document.querySelector('#df-031894d5-3c49-424e-a3db-399536e685da button.colab-df-convert');\n",
              "        buttonEl.style.display =\n",
              "          google.colab.kernel.accessAllowed ? 'block' : 'none';\n",
              "\n",
              "        async function convertToInteractive(key) {\n",
              "          const element = document.querySelector('#df-031894d5-3c49-424e-a3db-399536e685da');\n",
              "          const dataTable =\n",
              "            await google.colab.kernel.invokeFunction('convertToInteractive',\n",
              "                                                     [key], {});\n",
              "          if (!dataTable) return;\n",
              "\n",
              "          const docLinkHtml = 'Like what you see? Visit the ' +\n",
              "            '<a target=\"_blank\" href=https://colab.research.google.com/notebooks/data_table.ipynb>data table notebook</a>'\n",
              "            + ' to learn more about interactive tables.';\n",
              "          element.innerHTML = '';\n",
              "          dataTable['output_type'] = 'display_data';\n",
              "          await google.colab.output.renderOutput(dataTable, element);\n",
              "          const docLink = document.createElement('div');\n",
              "          docLink.innerHTML = docLinkHtml;\n",
              "          element.appendChild(docLink);\n",
              "        }\n",
              "      </script>\n",
              "    </div>\n",
              "  </div>\n",
              "  "
            ]
          },
          "metadata": {},
          "execution_count": 115
        }
      ],
      "source": [
        "pd.DataFrame(max_sharpe).T"
      ],
      "id": "b94a3d86"
    },
    {
      "cell_type": "markdown",
      "metadata": {
        "id": "4b0bdc19"
      },
      "source": [
        "**Portfolio with min volatility**"
      ],
      "id": "4b0bdc19"
    },
    {
      "cell_type": "code",
      "execution_count": null,
      "metadata": {
        "id": "1847f1c1",
        "colab": {
          "base_uri": "https://localhost:8080/",
          "height": 81
        },
        "outputId": "dd7bac54-a3a1-4a5d-c0bf-b4e7361486a5"
      },
      "outputs": [
        {
          "output_type": "execute_result",
          "data": {
            "text/plain": [
              "         return     stdev    sharpe       AGG   BTC-USD      GLD     IJR  \\\n",
              "16317  0.055848  0.083434  0.669365  0.364697  0.025071  0.34313  0.0158   \n",
              "\n",
              "            IVV       IYR       USO  \n",
              "16317  0.104418  0.111315  0.035568  "
            ],
            "text/html": [
              "\n",
              "  <div id=\"df-d3f587e3-73ab-4b83-ae6b-04c69e7589b4\">\n",
              "    <div class=\"colab-df-container\">\n",
              "      <div>\n",
              "<style scoped>\n",
              "    .dataframe tbody tr th:only-of-type {\n",
              "        vertical-align: middle;\n",
              "    }\n",
              "\n",
              "    .dataframe tbody tr th {\n",
              "        vertical-align: top;\n",
              "    }\n",
              "\n",
              "    .dataframe thead th {\n",
              "        text-align: right;\n",
              "    }\n",
              "</style>\n",
              "<table border=\"1\" class=\"dataframe\">\n",
              "  <thead>\n",
              "    <tr style=\"text-align: right;\">\n",
              "      <th></th>\n",
              "      <th>return</th>\n",
              "      <th>stdev</th>\n",
              "      <th>sharpe</th>\n",
              "      <th>AGG</th>\n",
              "      <th>BTC-USD</th>\n",
              "      <th>GLD</th>\n",
              "      <th>IJR</th>\n",
              "      <th>IVV</th>\n",
              "      <th>IYR</th>\n",
              "      <th>USO</th>\n",
              "    </tr>\n",
              "  </thead>\n",
              "  <tbody>\n",
              "    <tr>\n",
              "      <th>16317</th>\n",
              "      <td>0.055848</td>\n",
              "      <td>0.083434</td>\n",
              "      <td>0.669365</td>\n",
              "      <td>0.364697</td>\n",
              "      <td>0.025071</td>\n",
              "      <td>0.34313</td>\n",
              "      <td>0.0158</td>\n",
              "      <td>0.104418</td>\n",
              "      <td>0.111315</td>\n",
              "      <td>0.035568</td>\n",
              "    </tr>\n",
              "  </tbody>\n",
              "</table>\n",
              "</div>\n",
              "      <button class=\"colab-df-convert\" onclick=\"convertToInteractive('df-d3f587e3-73ab-4b83-ae6b-04c69e7589b4')\"\n",
              "              title=\"Convert this dataframe to an interactive table.\"\n",
              "              style=\"display:none;\">\n",
              "        \n",
              "  <svg xmlns=\"http://www.w3.org/2000/svg\" height=\"24px\"viewBox=\"0 0 24 24\"\n",
              "       width=\"24px\">\n",
              "    <path d=\"M0 0h24v24H0V0z\" fill=\"none\"/>\n",
              "    <path d=\"M18.56 5.44l.94 2.06.94-2.06 2.06-.94-2.06-.94-.94-2.06-.94 2.06-2.06.94zm-11 1L8.5 8.5l.94-2.06 2.06-.94-2.06-.94L8.5 2.5l-.94 2.06-2.06.94zm10 10l.94 2.06.94-2.06 2.06-.94-2.06-.94-.94-2.06-.94 2.06-2.06.94z\"/><path d=\"M17.41 7.96l-1.37-1.37c-.4-.4-.92-.59-1.43-.59-.52 0-1.04.2-1.43.59L10.3 9.45l-7.72 7.72c-.78.78-.78 2.05 0 2.83L4 21.41c.39.39.9.59 1.41.59.51 0 1.02-.2 1.41-.59l7.78-7.78 2.81-2.81c.8-.78.8-2.07 0-2.86zM5.41 20L4 18.59l7.72-7.72 1.47 1.35L5.41 20z\"/>\n",
              "  </svg>\n",
              "      </button>\n",
              "      \n",
              "  <style>\n",
              "    .colab-df-container {\n",
              "      display:flex;\n",
              "      flex-wrap:wrap;\n",
              "      gap: 12px;\n",
              "    }\n",
              "\n",
              "    .colab-df-convert {\n",
              "      background-color: #E8F0FE;\n",
              "      border: none;\n",
              "      border-radius: 50%;\n",
              "      cursor: pointer;\n",
              "      display: none;\n",
              "      fill: #1967D2;\n",
              "      height: 32px;\n",
              "      padding: 0 0 0 0;\n",
              "      width: 32px;\n",
              "    }\n",
              "\n",
              "    .colab-df-convert:hover {\n",
              "      background-color: #E2EBFA;\n",
              "      box-shadow: 0px 1px 2px rgba(60, 64, 67, 0.3), 0px 1px 3px 1px rgba(60, 64, 67, 0.15);\n",
              "      fill: #174EA6;\n",
              "    }\n",
              "\n",
              "    [theme=dark] .colab-df-convert {\n",
              "      background-color: #3B4455;\n",
              "      fill: #D2E3FC;\n",
              "    }\n",
              "\n",
              "    [theme=dark] .colab-df-convert:hover {\n",
              "      background-color: #434B5C;\n",
              "      box-shadow: 0px 1px 3px 1px rgba(0, 0, 0, 0.15);\n",
              "      filter: drop-shadow(0px 1px 2px rgba(0, 0, 0, 0.3));\n",
              "      fill: #FFFFFF;\n",
              "    }\n",
              "  </style>\n",
              "\n",
              "      <script>\n",
              "        const buttonEl =\n",
              "          document.querySelector('#df-d3f587e3-73ab-4b83-ae6b-04c69e7589b4 button.colab-df-convert');\n",
              "        buttonEl.style.display =\n",
              "          google.colab.kernel.accessAllowed ? 'block' : 'none';\n",
              "\n",
              "        async function convertToInteractive(key) {\n",
              "          const element = document.querySelector('#df-d3f587e3-73ab-4b83-ae6b-04c69e7589b4');\n",
              "          const dataTable =\n",
              "            await google.colab.kernel.invokeFunction('convertToInteractive',\n",
              "                                                     [key], {});\n",
              "          if (!dataTable) return;\n",
              "\n",
              "          const docLinkHtml = 'Like what you see? Visit the ' +\n",
              "            '<a target=\"_blank\" href=https://colab.research.google.com/notebooks/data_table.ipynb>data table notebook</a>'\n",
              "            + ' to learn more about interactive tables.';\n",
              "          element.innerHTML = '';\n",
              "          dataTable['output_type'] = 'display_data';\n",
              "          await google.colab.output.renderOutput(dataTable, element);\n",
              "          const docLink = document.createElement('div');\n",
              "          docLink.innerHTML = docLinkHtml;\n",
              "          element.appendChild(docLink);\n",
              "        }\n",
              "      </script>\n",
              "    </div>\n",
              "  </div>\n",
              "  "
            ]
          },
          "metadata": {},
          "execution_count": 116
        }
      ],
      "source": [
        "pd.DataFrame(min_vol).T"
      ],
      "id": "1847f1c1"
    },
    {
      "cell_type": "markdown",
      "metadata": {
        "id": "105139c9"
      },
      "source": [
        "# **Optimising with  Constraints**\n",
        "**scipy.optimize -> Maximize Sharpe by minimising negative sharpe**"
      ],
      "id": "105139c9"
    },
    {
      "cell_type": "code",
      "execution_count": null,
      "metadata": {
        "id": "7c1d8ae7"
      },
      "outputs": [],
      "source": [
        "import scipy.optimize as sc\n",
        "from scipy.optimize import Bounds\n",
        "\n",
        "# get Returns, Volatility, Sharpe Ratio\n",
        "def get_ret_vol_sr(weights):\n",
        "    weights = np.array(weights)\n",
        "    ret = np.sum(mu * weights * 252)\n",
        "    vol = np.sqrt(np.dot(weights.T, np.dot(cov*252, weights)))\n",
        "    sr = (ret-rf) / vol\n",
        "    return np.array([ret, vol, sr])\n",
        "\n",
        "# Get negative sharpe (because minimise negative sharpe = maximising sharpe)\n",
        "def neg_sharpe(weights):\n",
        "    return get_ret_vol_sr(weights)[2] * -1 # index 2 for Sharpe, also negate it\n",
        "\n",
        "# Get volatility (will minimise this)\n",
        "def min_variance(weights):\n",
        "    return get_ret_vol_sr(weights)[1] # index 1 for volatility # no need to negate as we are minimizing it\n",
        "\n",
        "# Check if weights = 1\n",
        "def check_sum(weights):\n",
        "    #return 0 if sum of the weights is 1\n",
        "    return np.sum(weights)-1\n"
      ],
      "id": "7c1d8ae7"
    },
    {
      "cell_type": "code",
      "execution_count": null,
      "metadata": {
        "id": "b1LM8Xni0Pd_",
        "colab": {
          "base_uri": "https://localhost:8080/"
        },
        "outputId": "3a3ff709-a69c-4710-b08b-5a9c4126be11"
      },
      "outputs": [
        {
          "output_type": "stream",
          "name": "stdout",
          "text": [
            "[*********************100%***********************]  7 of 7 completed\n"
          ]
        }
      ],
      "source": [
        "asset_lists = [\n",
        "    'IJR', # iShares Core S&P Small-Cap ETF\n",
        "    'IVV', # iShares Core S&P 500 ETF\n",
        "    'AGG', # iShares Core U.S. Aggregate Bond ETF\n",
        "    'IYR', # iShares U.S. Real Estate ETF\n",
        "    'GLD', # SPDR Gold Shares\n",
        "    'USO', # United States Oil Fund, LP\n",
        "    'BTC-USD', # Bitcoin\n",
        "]\n",
        "assets_df = yf.download(asset_lists)['Adj Close'].dropna()"
      ],
      "id": "b1LM8Xni0Pd_"
    },
    {
      "cell_type": "code",
      "source": [
        "# Define constraints\n",
        "bounds = ((0,1),(0,1),(0,1),(0,1),(0,1),(0,1),(0,1))\n",
        "\n",
        "# Define risk free rate\n",
        "rf = 0"
      ],
      "metadata": {
        "id": "1BSv-cUp5XiF"
      },
      "id": "1BSv-cUp5XiF",
      "execution_count": null,
      "outputs": []
    },
    {
      "cell_type": "markdown",
      "metadata": {
        "id": "76b4e4df"
      },
      "source": [
        "**Define weights, mu, covariance matrix, risk free rate**"
      ],
      "id": "76b4e4df"
    },
    {
      "cell_type": "code",
      "execution_count": null,
      "metadata": {
        "id": "ff1408a5"
      },
      "outputs": [],
      "source": [
        "# start with equal weight\n",
        "weights = [1/len(assets_df.columns)]*len(assets_df.columns)\n",
        "weights /= np.sum(weights)\n",
        "\n",
        "# Calculate returns, mean returns, covariance matrix\n",
        "returns, mu, cov = returnscovmatrix(assets_df)"
      ],
      "id": "ff1408a5"
    },
    {
      "cell_type": "markdown",
      "metadata": {
        "id": "2eb9a785"
      },
      "source": [
        "**Run optimisers on Negative Sharpe, and Minimum Volatiltiy**"
      ],
      "id": "2eb9a785"
    },
    {
      "cell_type": "code",
      "execution_count": null,
      "metadata": {
        "id": "501bfac6"
      },
      "outputs": [],
      "source": [
        "cons = ({'type':'eq', 'fun':check_sum})\n",
        "init_guess = weights\n",
        "\n",
        "\n",
        "opt_sr_results = sc.minimize(neg_sharpe, init_guess, method='SLSQP', bounds=bounds, constraints=cons)\n",
        "opt_vol_results = sc.minimize(min_variance, init_guess, method='SLSQP', bounds=bounds, constraints=cons)"
      ],
      "id": "501bfac6"
    },
    {
      "cell_type": "markdown",
      "metadata": {
        "id": "bcd34eae"
      },
      "source": [
        "### **Maximum Sharpe Portfolio**"
      ],
      "id": "bcd34eae"
    },
    {
      "cell_type": "code",
      "execution_count": null,
      "metadata": {
        "id": "16e6fbb2",
        "colab": {
          "base_uri": "https://localhost:8080/",
          "height": 81
        },
        "outputId": "5d339bf4-c218-4e56-c7f0-9aba26af768a"
      },
      "outputs": [
        {
          "output_type": "execute_result",
          "data": {
            "text/plain": [
              "     Return  Volatility    Sharpe    AGG  BTC-USD    GLD  IJR    IVV  IYR  USO\n",
              "0  0.205543    0.183411  1.120669  0.154    0.204  0.263  0.0  0.379  0.0  0.0"
            ],
            "text/html": [
              "\n",
              "  <div id=\"df-1de753c2-7f14-4547-9221-8e31b41b8a68\">\n",
              "    <div class=\"colab-df-container\">\n",
              "      <div>\n",
              "<style scoped>\n",
              "    .dataframe tbody tr th:only-of-type {\n",
              "        vertical-align: middle;\n",
              "    }\n",
              "\n",
              "    .dataframe tbody tr th {\n",
              "        vertical-align: top;\n",
              "    }\n",
              "\n",
              "    .dataframe thead th {\n",
              "        text-align: right;\n",
              "    }\n",
              "</style>\n",
              "<table border=\"1\" class=\"dataframe\">\n",
              "  <thead>\n",
              "    <tr style=\"text-align: right;\">\n",
              "      <th></th>\n",
              "      <th>Return</th>\n",
              "      <th>Volatility</th>\n",
              "      <th>Sharpe</th>\n",
              "      <th>AGG</th>\n",
              "      <th>BTC-USD</th>\n",
              "      <th>GLD</th>\n",
              "      <th>IJR</th>\n",
              "      <th>IVV</th>\n",
              "      <th>IYR</th>\n",
              "      <th>USO</th>\n",
              "    </tr>\n",
              "  </thead>\n",
              "  <tbody>\n",
              "    <tr>\n",
              "      <th>0</th>\n",
              "      <td>0.205543</td>\n",
              "      <td>0.183411</td>\n",
              "      <td>1.120669</td>\n",
              "      <td>0.154</td>\n",
              "      <td>0.204</td>\n",
              "      <td>0.263</td>\n",
              "      <td>0.0</td>\n",
              "      <td>0.379</td>\n",
              "      <td>0.0</td>\n",
              "      <td>0.0</td>\n",
              "    </tr>\n",
              "  </tbody>\n",
              "</table>\n",
              "</div>\n",
              "      <button class=\"colab-df-convert\" onclick=\"convertToInteractive('df-1de753c2-7f14-4547-9221-8e31b41b8a68')\"\n",
              "              title=\"Convert this dataframe to an interactive table.\"\n",
              "              style=\"display:none;\">\n",
              "        \n",
              "  <svg xmlns=\"http://www.w3.org/2000/svg\" height=\"24px\"viewBox=\"0 0 24 24\"\n",
              "       width=\"24px\">\n",
              "    <path d=\"M0 0h24v24H0V0z\" fill=\"none\"/>\n",
              "    <path d=\"M18.56 5.44l.94 2.06.94-2.06 2.06-.94-2.06-.94-.94-2.06-.94 2.06-2.06.94zm-11 1L8.5 8.5l.94-2.06 2.06-.94-2.06-.94L8.5 2.5l-.94 2.06-2.06.94zm10 10l.94 2.06.94-2.06 2.06-.94-2.06-.94-.94-2.06-.94 2.06-2.06.94z\"/><path d=\"M17.41 7.96l-1.37-1.37c-.4-.4-.92-.59-1.43-.59-.52 0-1.04.2-1.43.59L10.3 9.45l-7.72 7.72c-.78.78-.78 2.05 0 2.83L4 21.41c.39.39.9.59 1.41.59.51 0 1.02-.2 1.41-.59l7.78-7.78 2.81-2.81c.8-.78.8-2.07 0-2.86zM5.41 20L4 18.59l7.72-7.72 1.47 1.35L5.41 20z\"/>\n",
              "  </svg>\n",
              "      </button>\n",
              "      \n",
              "  <style>\n",
              "    .colab-df-container {\n",
              "      display:flex;\n",
              "      flex-wrap:wrap;\n",
              "      gap: 12px;\n",
              "    }\n",
              "\n",
              "    .colab-df-convert {\n",
              "      background-color: #E8F0FE;\n",
              "      border: none;\n",
              "      border-radius: 50%;\n",
              "      cursor: pointer;\n",
              "      display: none;\n",
              "      fill: #1967D2;\n",
              "      height: 32px;\n",
              "      padding: 0 0 0 0;\n",
              "      width: 32px;\n",
              "    }\n",
              "\n",
              "    .colab-df-convert:hover {\n",
              "      background-color: #E2EBFA;\n",
              "      box-shadow: 0px 1px 2px rgba(60, 64, 67, 0.3), 0px 1px 3px 1px rgba(60, 64, 67, 0.15);\n",
              "      fill: #174EA6;\n",
              "    }\n",
              "\n",
              "    [theme=dark] .colab-df-convert {\n",
              "      background-color: #3B4455;\n",
              "      fill: #D2E3FC;\n",
              "    }\n",
              "\n",
              "    [theme=dark] .colab-df-convert:hover {\n",
              "      background-color: #434B5C;\n",
              "      box-shadow: 0px 1px 3px 1px rgba(0, 0, 0, 0.15);\n",
              "      filter: drop-shadow(0px 1px 2px rgba(0, 0, 0, 0.3));\n",
              "      fill: #FFFFFF;\n",
              "    }\n",
              "  </style>\n",
              "\n",
              "      <script>\n",
              "        const buttonEl =\n",
              "          document.querySelector('#df-1de753c2-7f14-4547-9221-8e31b41b8a68 button.colab-df-convert');\n",
              "        buttonEl.style.display =\n",
              "          google.colab.kernel.accessAllowed ? 'block' : 'none';\n",
              "\n",
              "        async function convertToInteractive(key) {\n",
              "          const element = document.querySelector('#df-1de753c2-7f14-4547-9221-8e31b41b8a68');\n",
              "          const dataTable =\n",
              "            await google.colab.kernel.invokeFunction('convertToInteractive',\n",
              "                                                     [key], {});\n",
              "          if (!dataTable) return;\n",
              "\n",
              "          const docLinkHtml = 'Like what you see? Visit the ' +\n",
              "            '<a target=\"_blank\" href=https://colab.research.google.com/notebooks/data_table.ipynb>data table notebook</a>'\n",
              "            + ' to learn more about interactive tables.';\n",
              "          element.innerHTML = '';\n",
              "          dataTable['output_type'] = 'display_data';\n",
              "          await google.colab.output.renderOutput(dataTable, element);\n",
              "          const docLink = document.createElement('div');\n",
              "          docLink.innerHTML = docLinkHtml;\n",
              "          element.appendChild(docLink);\n",
              "        }\n",
              "      </script>\n",
              "    </div>\n",
              "  </div>\n",
              "  "
            ]
          },
          "metadata": {},
          "execution_count": 130
        }
      ],
      "source": [
        "pf_sr_results = pd.DataFrame(get_ret_vol_sr(opt_sr_results.x)).T\n",
        "pf_sr_results.set_axis(['Return', 'Volatility', 'Sharpe'], axis=1, inplace=True)\n",
        "\n",
        "pf_sr_weights = pd.DataFrame(np.round(opt_sr_results.x,3)).T\n",
        "pf_sr_weights.set_axis([x for x in assets_df.columns], axis=1, inplace=True)\n",
        "\n",
        "pd.concat([pf_sr_results, pf_sr_weights], axis=1)"
      ],
      "id": "16e6fbb2"
    },
    {
      "cell_type": "markdown",
      "metadata": {
        "id": "6590a01b"
      },
      "source": [
        "### **Minimum Volatility Portfolio**"
      ],
      "id": "6590a01b"
    },
    {
      "cell_type": "code",
      "execution_count": null,
      "metadata": {
        "colab": {
          "base_uri": "https://localhost:8080/",
          "height": 81
        },
        "id": "0416f460",
        "outputId": "330e575d-562a-4d31-f6ff-a4381f81568f"
      },
      "outputs": [
        {
          "output_type": "execute_result",
          "data": {
            "text/plain": [
              "     Return  Volatility   Sharpe    AGG  BTC-USD  GLD  IJR    IVV  IYR    USO\n",
              "0  0.014859    0.046143  0.32201  0.944      0.0  0.0  0.0  0.049  0.0  0.007"
            ],
            "text/html": [
              "\n",
              "  <div id=\"df-2c83ad67-1679-4b7e-9944-81c4c3e87201\">\n",
              "    <div class=\"colab-df-container\">\n",
              "      <div>\n",
              "<style scoped>\n",
              "    .dataframe tbody tr th:only-of-type {\n",
              "        vertical-align: middle;\n",
              "    }\n",
              "\n",
              "    .dataframe tbody tr th {\n",
              "        vertical-align: top;\n",
              "    }\n",
              "\n",
              "    .dataframe thead th {\n",
              "        text-align: right;\n",
              "    }\n",
              "</style>\n",
              "<table border=\"1\" class=\"dataframe\">\n",
              "  <thead>\n",
              "    <tr style=\"text-align: right;\">\n",
              "      <th></th>\n",
              "      <th>Return</th>\n",
              "      <th>Volatility</th>\n",
              "      <th>Sharpe</th>\n",
              "      <th>AGG</th>\n",
              "      <th>BTC-USD</th>\n",
              "      <th>GLD</th>\n",
              "      <th>IJR</th>\n",
              "      <th>IVV</th>\n",
              "      <th>IYR</th>\n",
              "      <th>USO</th>\n",
              "    </tr>\n",
              "  </thead>\n",
              "  <tbody>\n",
              "    <tr>\n",
              "      <th>0</th>\n",
              "      <td>0.014859</td>\n",
              "      <td>0.046143</td>\n",
              "      <td>0.32201</td>\n",
              "      <td>0.944</td>\n",
              "      <td>0.0</td>\n",
              "      <td>0.0</td>\n",
              "      <td>0.0</td>\n",
              "      <td>0.049</td>\n",
              "      <td>0.0</td>\n",
              "      <td>0.007</td>\n",
              "    </tr>\n",
              "  </tbody>\n",
              "</table>\n",
              "</div>\n",
              "      <button class=\"colab-df-convert\" onclick=\"convertToInteractive('df-2c83ad67-1679-4b7e-9944-81c4c3e87201')\"\n",
              "              title=\"Convert this dataframe to an interactive table.\"\n",
              "              style=\"display:none;\">\n",
              "        \n",
              "  <svg xmlns=\"http://www.w3.org/2000/svg\" height=\"24px\"viewBox=\"0 0 24 24\"\n",
              "       width=\"24px\">\n",
              "    <path d=\"M0 0h24v24H0V0z\" fill=\"none\"/>\n",
              "    <path d=\"M18.56 5.44l.94 2.06.94-2.06 2.06-.94-2.06-.94-.94-2.06-.94 2.06-2.06.94zm-11 1L8.5 8.5l.94-2.06 2.06-.94-2.06-.94L8.5 2.5l-.94 2.06-2.06.94zm10 10l.94 2.06.94-2.06 2.06-.94-2.06-.94-.94-2.06-.94 2.06-2.06.94z\"/><path d=\"M17.41 7.96l-1.37-1.37c-.4-.4-.92-.59-1.43-.59-.52 0-1.04.2-1.43.59L10.3 9.45l-7.72 7.72c-.78.78-.78 2.05 0 2.83L4 21.41c.39.39.9.59 1.41.59.51 0 1.02-.2 1.41-.59l7.78-7.78 2.81-2.81c.8-.78.8-2.07 0-2.86zM5.41 20L4 18.59l7.72-7.72 1.47 1.35L5.41 20z\"/>\n",
              "  </svg>\n",
              "      </button>\n",
              "      \n",
              "  <style>\n",
              "    .colab-df-container {\n",
              "      display:flex;\n",
              "      flex-wrap:wrap;\n",
              "      gap: 12px;\n",
              "    }\n",
              "\n",
              "    .colab-df-convert {\n",
              "      background-color: #E8F0FE;\n",
              "      border: none;\n",
              "      border-radius: 50%;\n",
              "      cursor: pointer;\n",
              "      display: none;\n",
              "      fill: #1967D2;\n",
              "      height: 32px;\n",
              "      padding: 0 0 0 0;\n",
              "      width: 32px;\n",
              "    }\n",
              "\n",
              "    .colab-df-convert:hover {\n",
              "      background-color: #E2EBFA;\n",
              "      box-shadow: 0px 1px 2px rgba(60, 64, 67, 0.3), 0px 1px 3px 1px rgba(60, 64, 67, 0.15);\n",
              "      fill: #174EA6;\n",
              "    }\n",
              "\n",
              "    [theme=dark] .colab-df-convert {\n",
              "      background-color: #3B4455;\n",
              "      fill: #D2E3FC;\n",
              "    }\n",
              "\n",
              "    [theme=dark] .colab-df-convert:hover {\n",
              "      background-color: #434B5C;\n",
              "      box-shadow: 0px 1px 3px 1px rgba(0, 0, 0, 0.15);\n",
              "      filter: drop-shadow(0px 1px 2px rgba(0, 0, 0, 0.3));\n",
              "      fill: #FFFFFF;\n",
              "    }\n",
              "  </style>\n",
              "\n",
              "      <script>\n",
              "        const buttonEl =\n",
              "          document.querySelector('#df-2c83ad67-1679-4b7e-9944-81c4c3e87201 button.colab-df-convert');\n",
              "        buttonEl.style.display =\n",
              "          google.colab.kernel.accessAllowed ? 'block' : 'none';\n",
              "\n",
              "        async function convertToInteractive(key) {\n",
              "          const element = document.querySelector('#df-2c83ad67-1679-4b7e-9944-81c4c3e87201');\n",
              "          const dataTable =\n",
              "            await google.colab.kernel.invokeFunction('convertToInteractive',\n",
              "                                                     [key], {});\n",
              "          if (!dataTable) return;\n",
              "\n",
              "          const docLinkHtml = 'Like what you see? Visit the ' +\n",
              "            '<a target=\"_blank\" href=https://colab.research.google.com/notebooks/data_table.ipynb>data table notebook</a>'\n",
              "            + ' to learn more about interactive tables.';\n",
              "          element.innerHTML = '';\n",
              "          dataTable['output_type'] = 'display_data';\n",
              "          await google.colab.output.renderOutput(dataTable, element);\n",
              "          const docLink = document.createElement('div');\n",
              "          docLink.innerHTML = docLinkHtml;\n",
              "          element.appendChild(docLink);\n",
              "        }\n",
              "      </script>\n",
              "    </div>\n",
              "  </div>\n",
              "  "
            ]
          },
          "metadata": {},
          "execution_count": 131
        }
      ],
      "source": [
        "pf_vol_results = pd.DataFrame(get_ret_vol_sr(opt_vol_results.x)).T\n",
        "pf_vol_results.set_axis(['Return', 'Volatility', 'Sharpe'], axis=1, inplace=True)\n",
        "\n",
        "pf_vol_weights = pd.DataFrame(np.round(opt_vol_results.x,3)).T\n",
        "pf_vol_weights.set_axis([x for x in assets_df.columns], axis=1, inplace=True)\n",
        "\n",
        "pd.concat([pf_vol_results, pf_vol_weights], axis=1)"
      ],
      "id": "0416f460"
    },
    {
      "cell_type": "markdown",
      "metadata": {
        "id": "d6282553"
      },
      "source": [
        "# **Portfolio Risk Management: Value at Risk**\n",
        "* Once the direction or asset class has been decided, it is always good to look look at the quantitative risk models.\n",
        "* Value at Risk is the simples and most intuitive model to understand the risk exposure of the portfolio\n",
        "\n",
        "# **4 types of VaR**🔥\n",
        "* **VaR** - use historical data\n",
        "* **Parametric VaR** - use assumptions\n",
        "* **CVaR** - distribution of losses\n",
        "* **Monte Carlo** - forward looking"
      ],
      "id": "d6282553"
    },
    {
      "cell_type": "code",
      "execution_count": null,
      "metadata": {
        "id": "55abd294"
      },
      "outputs": [],
      "source": [
        "import seaborn as sns"
      ],
      "id": "55abd294"
    },
    {
      "cell_type": "markdown",
      "metadata": {
        "id": "98d0bd49"
      },
      "source": [
        "## 1. Historical Drawdown"
      ],
      "id": "98d0bd49"
    },
    {
      "cell_type": "code",
      "execution_count": null,
      "metadata": {
        "id": "195054e3"
      },
      "outputs": [],
      "source": [
        "# returns & covariance matrix\n",
        "def returnscovmatrix(data):\n",
        "    returns = np.log(data/data.shift(1))\n",
        "    mu = returns.mean()\n",
        "    covmatrix = returns.cov()\n",
        "    return returns, mu, covmatrix\n",
        "\n",
        "# annualise performance\n",
        "def portfolioperformance(weights, mu, cov):\n",
        "    returns = np.sum(mu * weights * 252)\n",
        "    std = np.sqrt(np.dot(weights.T, np.dot(cov*252, weights)))\n",
        "    sr = returns/std\n",
        "    return returns, std, sr"
      ],
      "id": "195054e3"
    },
    {
      "cell_type": "code",
      "execution_count": null,
      "metadata": {
        "id": "1680b310",
        "colab": {
          "base_uri": "https://localhost:8080/",
          "height": 237
        },
        "outputId": "c3ad3a39-c763-4226-f161-3136153e79ed"
      },
      "outputs": [
        {
          "output_type": "execute_result",
          "data": {
            "text/plain": [
              "                  AGG     BTC-USD         GLD        IJR         IVV  \\\n",
              "Date                                                                   \n",
              "2014-09-17  89.697563  457.334015  117.540001  48.441837  173.461380   \n",
              "2014-09-18  89.705879  424.440002  117.779999  48.735390  174.371323   \n",
              "2014-09-19  89.854668  394.795990  117.089996  48.130482  174.165253   \n",
              "2014-09-22  89.978706  402.152008  116.849998  47.618977  172.894699   \n",
              "2014-09-23  90.061394  435.790985  117.599998  47.143055  171.941803   \n",
              "\n",
              "                  IYR         USO  \n",
              "Date                               \n",
              "2014-09-17  54.247074  280.079987  \n",
              "2014-09-18  53.852165  276.959991  \n",
              "2014-09-19  53.882530  276.559998  \n",
              "2014-09-22  53.404083  273.519989  \n",
              "2014-09-23  53.100307  275.519989  "
            ],
            "text/html": [
              "\n",
              "  <div id=\"df-a50b5cef-ec96-4544-bf55-0f916d352ddc\">\n",
              "    <div class=\"colab-df-container\">\n",
              "      <div>\n",
              "<style scoped>\n",
              "    .dataframe tbody tr th:only-of-type {\n",
              "        vertical-align: middle;\n",
              "    }\n",
              "\n",
              "    .dataframe tbody tr th {\n",
              "        vertical-align: top;\n",
              "    }\n",
              "\n",
              "    .dataframe thead th {\n",
              "        text-align: right;\n",
              "    }\n",
              "</style>\n",
              "<table border=\"1\" class=\"dataframe\">\n",
              "  <thead>\n",
              "    <tr style=\"text-align: right;\">\n",
              "      <th></th>\n",
              "      <th>AGG</th>\n",
              "      <th>BTC-USD</th>\n",
              "      <th>GLD</th>\n",
              "      <th>IJR</th>\n",
              "      <th>IVV</th>\n",
              "      <th>IYR</th>\n",
              "      <th>USO</th>\n",
              "    </tr>\n",
              "    <tr>\n",
              "      <th>Date</th>\n",
              "      <th></th>\n",
              "      <th></th>\n",
              "      <th></th>\n",
              "      <th></th>\n",
              "      <th></th>\n",
              "      <th></th>\n",
              "      <th></th>\n",
              "    </tr>\n",
              "  </thead>\n",
              "  <tbody>\n",
              "    <tr>\n",
              "      <th>2014-09-17</th>\n",
              "      <td>89.697563</td>\n",
              "      <td>457.334015</td>\n",
              "      <td>117.540001</td>\n",
              "      <td>48.441837</td>\n",
              "      <td>173.461380</td>\n",
              "      <td>54.247074</td>\n",
              "      <td>280.079987</td>\n",
              "    </tr>\n",
              "    <tr>\n",
              "      <th>2014-09-18</th>\n",
              "      <td>89.705879</td>\n",
              "      <td>424.440002</td>\n",
              "      <td>117.779999</td>\n",
              "      <td>48.735390</td>\n",
              "      <td>174.371323</td>\n",
              "      <td>53.852165</td>\n",
              "      <td>276.959991</td>\n",
              "    </tr>\n",
              "    <tr>\n",
              "      <th>2014-09-19</th>\n",
              "      <td>89.854668</td>\n",
              "      <td>394.795990</td>\n",
              "      <td>117.089996</td>\n",
              "      <td>48.130482</td>\n",
              "      <td>174.165253</td>\n",
              "      <td>53.882530</td>\n",
              "      <td>276.559998</td>\n",
              "    </tr>\n",
              "    <tr>\n",
              "      <th>2014-09-22</th>\n",
              "      <td>89.978706</td>\n",
              "      <td>402.152008</td>\n",
              "      <td>116.849998</td>\n",
              "      <td>47.618977</td>\n",
              "      <td>172.894699</td>\n",
              "      <td>53.404083</td>\n",
              "      <td>273.519989</td>\n",
              "    </tr>\n",
              "    <tr>\n",
              "      <th>2014-09-23</th>\n",
              "      <td>90.061394</td>\n",
              "      <td>435.790985</td>\n",
              "      <td>117.599998</td>\n",
              "      <td>47.143055</td>\n",
              "      <td>171.941803</td>\n",
              "      <td>53.100307</td>\n",
              "      <td>275.519989</td>\n",
              "    </tr>\n",
              "  </tbody>\n",
              "</table>\n",
              "</div>\n",
              "      <button class=\"colab-df-convert\" onclick=\"convertToInteractive('df-a50b5cef-ec96-4544-bf55-0f916d352ddc')\"\n",
              "              title=\"Convert this dataframe to an interactive table.\"\n",
              "              style=\"display:none;\">\n",
              "        \n",
              "  <svg xmlns=\"http://www.w3.org/2000/svg\" height=\"24px\"viewBox=\"0 0 24 24\"\n",
              "       width=\"24px\">\n",
              "    <path d=\"M0 0h24v24H0V0z\" fill=\"none\"/>\n",
              "    <path d=\"M18.56 5.44l.94 2.06.94-2.06 2.06-.94-2.06-.94-.94-2.06-.94 2.06-2.06.94zm-11 1L8.5 8.5l.94-2.06 2.06-.94-2.06-.94L8.5 2.5l-.94 2.06-2.06.94zm10 10l.94 2.06.94-2.06 2.06-.94-2.06-.94-.94-2.06-.94 2.06-2.06.94z\"/><path d=\"M17.41 7.96l-1.37-1.37c-.4-.4-.92-.59-1.43-.59-.52 0-1.04.2-1.43.59L10.3 9.45l-7.72 7.72c-.78.78-.78 2.05 0 2.83L4 21.41c.39.39.9.59 1.41.59.51 0 1.02-.2 1.41-.59l7.78-7.78 2.81-2.81c.8-.78.8-2.07 0-2.86zM5.41 20L4 18.59l7.72-7.72 1.47 1.35L5.41 20z\"/>\n",
              "  </svg>\n",
              "      </button>\n",
              "      \n",
              "  <style>\n",
              "    .colab-df-container {\n",
              "      display:flex;\n",
              "      flex-wrap:wrap;\n",
              "      gap: 12px;\n",
              "    }\n",
              "\n",
              "    .colab-df-convert {\n",
              "      background-color: #E8F0FE;\n",
              "      border: none;\n",
              "      border-radius: 50%;\n",
              "      cursor: pointer;\n",
              "      display: none;\n",
              "      fill: #1967D2;\n",
              "      height: 32px;\n",
              "      padding: 0 0 0 0;\n",
              "      width: 32px;\n",
              "    }\n",
              "\n",
              "    .colab-df-convert:hover {\n",
              "      background-color: #E2EBFA;\n",
              "      box-shadow: 0px 1px 2px rgba(60, 64, 67, 0.3), 0px 1px 3px 1px rgba(60, 64, 67, 0.15);\n",
              "      fill: #174EA6;\n",
              "    }\n",
              "\n",
              "    [theme=dark] .colab-df-convert {\n",
              "      background-color: #3B4455;\n",
              "      fill: #D2E3FC;\n",
              "    }\n",
              "\n",
              "    [theme=dark] .colab-df-convert:hover {\n",
              "      background-color: #434B5C;\n",
              "      box-shadow: 0px 1px 3px 1px rgba(0, 0, 0, 0.15);\n",
              "      filter: drop-shadow(0px 1px 2px rgba(0, 0, 0, 0.3));\n",
              "      fill: #FFFFFF;\n",
              "    }\n",
              "  </style>\n",
              "\n",
              "      <script>\n",
              "        const buttonEl =\n",
              "          document.querySelector('#df-a50b5cef-ec96-4544-bf55-0f916d352ddc button.colab-df-convert');\n",
              "        buttonEl.style.display =\n",
              "          google.colab.kernel.accessAllowed ? 'block' : 'none';\n",
              "\n",
              "        async function convertToInteractive(key) {\n",
              "          const element = document.querySelector('#df-a50b5cef-ec96-4544-bf55-0f916d352ddc');\n",
              "          const dataTable =\n",
              "            await google.colab.kernel.invokeFunction('convertToInteractive',\n",
              "                                                     [key], {});\n",
              "          if (!dataTable) return;\n",
              "\n",
              "          const docLinkHtml = 'Like what you see? Visit the ' +\n",
              "            '<a target=\"_blank\" href=https://colab.research.google.com/notebooks/data_table.ipynb>data table notebook</a>'\n",
              "            + ' to learn more about interactive tables.';\n",
              "          element.innerHTML = '';\n",
              "          dataTable['output_type'] = 'display_data';\n",
              "          await google.colab.output.renderOutput(dataTable, element);\n",
              "          const docLink = document.createElement('div');\n",
              "          docLink.innerHTML = docLinkHtml;\n",
              "          element.appendChild(docLink);\n",
              "        }\n",
              "      </script>\n",
              "    </div>\n",
              "  </div>\n",
              "  "
            ]
          },
          "metadata": {},
          "execution_count": 134
        }
      ],
      "source": [
        "assets_df.head()"
      ],
      "id": "1680b310"
    },
    {
      "cell_type": "code",
      "execution_count": null,
      "metadata": {
        "id": "Bg5rxYcHDioT",
        "colab": {
          "base_uri": "https://localhost:8080/"
        },
        "outputId": "c306aa3c-a04a-4546-c68d-3ff76305a56b"
      },
      "outputs": [
        {
          "output_type": "execute_result",
          "data": {
            "text/plain": [
              "array([1.53846343e-01, 2.03723943e-01, 2.63221996e-01, 2.37418592e-15,\n",
              "       3.79207719e-01, 0.00000000e+00, 0.00000000e+00])"
            ]
          },
          "metadata": {},
          "execution_count": 135
        }
      ],
      "source": [
        "opt_sr_results.x"
      ],
      "id": "Bg5rxYcHDioT"
    },
    {
      "cell_type": "code",
      "execution_count": null,
      "metadata": {
        "id": "BxPrwyuCDkep"
      },
      "outputs": [],
      "source": [
        "pf_weights = np.array([.55,.45])"
      ],
      "id": "BxPrwyuCDkep"
    },
    {
      "cell_type": "code",
      "execution_count": null,
      "metadata": {
        "id": "eb561806",
        "colab": {
          "base_uri": "https://localhost:8080/",
          "height": 237
        },
        "outputId": "9d7ca6f3-996c-49df-c90d-7c140d0a5c08"
      },
      "outputs": [
        {
          "output_type": "execute_result",
          "data": {
            "text/plain": [
              "                 AGG   BTC-USD       GLD       IJR       IVV       IYR  \\\n",
              "Date                                                                     \n",
              "2014-09-18  0.000093 -0.074643  0.002040  0.006042  0.005232 -0.007306   \n",
              "2014-09-19  0.001657 -0.072402 -0.005876 -0.012490 -0.001182  0.000564   \n",
              "2014-09-22  0.001379  0.018461 -0.002052 -0.010684 -0.007322 -0.008919   \n",
              "2014-09-23  0.000919  0.080333  0.006398 -0.010045 -0.005527 -0.005704   \n",
              "2014-09-24 -0.000643 -0.029306 -0.004688  0.007936  0.007715 -0.001011   \n",
              "\n",
              "                 USO  portfolio   cum_ret  \n",
              "Date                                       \n",
              "2014-09-18 -0.011202  -0.012671 -0.012671  \n",
              "2014-09-19 -0.001445  -0.016490 -0.028952  \n",
              "2014-09-22 -0.011053   0.000657 -0.028315  \n",
              "2014-09-23  0.007285   0.016095 -0.012675  \n",
              "2014-09-24  0.016129  -0.004377 -0.016997  "
            ],
            "text/html": [
              "\n",
              "  <div id=\"df-c033b7d3-c127-4df8-90c2-f23d8251994f\">\n",
              "    <div class=\"colab-df-container\">\n",
              "      <div>\n",
              "<style scoped>\n",
              "    .dataframe tbody tr th:only-of-type {\n",
              "        vertical-align: middle;\n",
              "    }\n",
              "\n",
              "    .dataframe tbody tr th {\n",
              "        vertical-align: top;\n",
              "    }\n",
              "\n",
              "    .dataframe thead th {\n",
              "        text-align: right;\n",
              "    }\n",
              "</style>\n",
              "<table border=\"1\" class=\"dataframe\">\n",
              "  <thead>\n",
              "    <tr style=\"text-align: right;\">\n",
              "      <th></th>\n",
              "      <th>AGG</th>\n",
              "      <th>BTC-USD</th>\n",
              "      <th>GLD</th>\n",
              "      <th>IJR</th>\n",
              "      <th>IVV</th>\n",
              "      <th>IYR</th>\n",
              "      <th>USO</th>\n",
              "      <th>portfolio</th>\n",
              "      <th>cum_ret</th>\n",
              "    </tr>\n",
              "    <tr>\n",
              "      <th>Date</th>\n",
              "      <th></th>\n",
              "      <th></th>\n",
              "      <th></th>\n",
              "      <th></th>\n",
              "      <th></th>\n",
              "      <th></th>\n",
              "      <th></th>\n",
              "      <th></th>\n",
              "      <th></th>\n",
              "    </tr>\n",
              "  </thead>\n",
              "  <tbody>\n",
              "    <tr>\n",
              "      <th>2014-09-18</th>\n",
              "      <td>0.000093</td>\n",
              "      <td>-0.074643</td>\n",
              "      <td>0.002040</td>\n",
              "      <td>0.006042</td>\n",
              "      <td>0.005232</td>\n",
              "      <td>-0.007306</td>\n",
              "      <td>-0.011202</td>\n",
              "      <td>-0.012671</td>\n",
              "      <td>-0.012671</td>\n",
              "    </tr>\n",
              "    <tr>\n",
              "      <th>2014-09-19</th>\n",
              "      <td>0.001657</td>\n",
              "      <td>-0.072402</td>\n",
              "      <td>-0.005876</td>\n",
              "      <td>-0.012490</td>\n",
              "      <td>-0.001182</td>\n",
              "      <td>0.000564</td>\n",
              "      <td>-0.001445</td>\n",
              "      <td>-0.016490</td>\n",
              "      <td>-0.028952</td>\n",
              "    </tr>\n",
              "    <tr>\n",
              "      <th>2014-09-22</th>\n",
              "      <td>0.001379</td>\n",
              "      <td>0.018461</td>\n",
              "      <td>-0.002052</td>\n",
              "      <td>-0.010684</td>\n",
              "      <td>-0.007322</td>\n",
              "      <td>-0.008919</td>\n",
              "      <td>-0.011053</td>\n",
              "      <td>0.000657</td>\n",
              "      <td>-0.028315</td>\n",
              "    </tr>\n",
              "    <tr>\n",
              "      <th>2014-09-23</th>\n",
              "      <td>0.000919</td>\n",
              "      <td>0.080333</td>\n",
              "      <td>0.006398</td>\n",
              "      <td>-0.010045</td>\n",
              "      <td>-0.005527</td>\n",
              "      <td>-0.005704</td>\n",
              "      <td>0.007285</td>\n",
              "      <td>0.016095</td>\n",
              "      <td>-0.012675</td>\n",
              "    </tr>\n",
              "    <tr>\n",
              "      <th>2014-09-24</th>\n",
              "      <td>-0.000643</td>\n",
              "      <td>-0.029306</td>\n",
              "      <td>-0.004688</td>\n",
              "      <td>0.007936</td>\n",
              "      <td>0.007715</td>\n",
              "      <td>-0.001011</td>\n",
              "      <td>0.016129</td>\n",
              "      <td>-0.004377</td>\n",
              "      <td>-0.016997</td>\n",
              "    </tr>\n",
              "  </tbody>\n",
              "</table>\n",
              "</div>\n",
              "      <button class=\"colab-df-convert\" onclick=\"convertToInteractive('df-c033b7d3-c127-4df8-90c2-f23d8251994f')\"\n",
              "              title=\"Convert this dataframe to an interactive table.\"\n",
              "              style=\"display:none;\">\n",
              "        \n",
              "  <svg xmlns=\"http://www.w3.org/2000/svg\" height=\"24px\"viewBox=\"0 0 24 24\"\n",
              "       width=\"24px\">\n",
              "    <path d=\"M0 0h24v24H0V0z\" fill=\"none\"/>\n",
              "    <path d=\"M18.56 5.44l.94 2.06.94-2.06 2.06-.94-2.06-.94-.94-2.06-.94 2.06-2.06.94zm-11 1L8.5 8.5l.94-2.06 2.06-.94-2.06-.94L8.5 2.5l-.94 2.06-2.06.94zm10 10l.94 2.06.94-2.06 2.06-.94-2.06-.94-.94-2.06-.94 2.06-2.06.94z\"/><path d=\"M17.41 7.96l-1.37-1.37c-.4-.4-.92-.59-1.43-.59-.52 0-1.04.2-1.43.59L10.3 9.45l-7.72 7.72c-.78.78-.78 2.05 0 2.83L4 21.41c.39.39.9.59 1.41.59.51 0 1.02-.2 1.41-.59l7.78-7.78 2.81-2.81c.8-.78.8-2.07 0-2.86zM5.41 20L4 18.59l7.72-7.72 1.47 1.35L5.41 20z\"/>\n",
              "  </svg>\n",
              "      </button>\n",
              "      \n",
              "  <style>\n",
              "    .colab-df-container {\n",
              "      display:flex;\n",
              "      flex-wrap:wrap;\n",
              "      gap: 12px;\n",
              "    }\n",
              "\n",
              "    .colab-df-convert {\n",
              "      background-color: #E8F0FE;\n",
              "      border: none;\n",
              "      border-radius: 50%;\n",
              "      cursor: pointer;\n",
              "      display: none;\n",
              "      fill: #1967D2;\n",
              "      height: 32px;\n",
              "      padding: 0 0 0 0;\n",
              "      width: 32px;\n",
              "    }\n",
              "\n",
              "    .colab-df-convert:hover {\n",
              "      background-color: #E2EBFA;\n",
              "      box-shadow: 0px 1px 2px rgba(60, 64, 67, 0.3), 0px 1px 3px 1px rgba(60, 64, 67, 0.15);\n",
              "      fill: #174EA6;\n",
              "    }\n",
              "\n",
              "    [theme=dark] .colab-df-convert {\n",
              "      background-color: #3B4455;\n",
              "      fill: #D2E3FC;\n",
              "    }\n",
              "\n",
              "    [theme=dark] .colab-df-convert:hover {\n",
              "      background-color: #434B5C;\n",
              "      box-shadow: 0px 1px 3px 1px rgba(0, 0, 0, 0.15);\n",
              "      filter: drop-shadow(0px 1px 2px rgba(0, 0, 0, 0.3));\n",
              "      fill: #FFFFFF;\n",
              "    }\n",
              "  </style>\n",
              "\n",
              "      <script>\n",
              "        const buttonEl =\n",
              "          document.querySelector('#df-c033b7d3-c127-4df8-90c2-f23d8251994f button.colab-df-convert');\n",
              "        buttonEl.style.display =\n",
              "          google.colab.kernel.accessAllowed ? 'block' : 'none';\n",
              "\n",
              "        async function convertToInteractive(key) {\n",
              "          const element = document.querySelector('#df-c033b7d3-c127-4df8-90c2-f23d8251994f');\n",
              "          const dataTable =\n",
              "            await google.colab.kernel.invokeFunction('convertToInteractive',\n",
              "                                                     [key], {});\n",
              "          if (!dataTable) return;\n",
              "\n",
              "          const docLinkHtml = 'Like what you see? Visit the ' +\n",
              "            '<a target=\"_blank\" href=https://colab.research.google.com/notebooks/data_table.ipynb>data table notebook</a>'\n",
              "            + ' to learn more about interactive tables.';\n",
              "          element.innerHTML = '';\n",
              "          dataTable['output_type'] = 'display_data';\n",
              "          await google.colab.output.renderOutput(dataTable, element);\n",
              "          const docLink = document.createElement('div');\n",
              "          docLink.innerHTML = docLinkHtml;\n",
              "          element.appendChild(docLink);\n",
              "        }\n",
              "      </script>\n",
              "    </div>\n",
              "  </div>\n",
              "  "
            ]
          },
          "metadata": {},
          "execution_count": 137
        }
      ],
      "source": [
        "returns, mu, covmatrix = returnscovmatrix(assets_df)\n",
        "returns = returns.dropna()\n",
        "weights = opt_sr_results.x\n",
        "\n",
        "returns['portfolio'] = returns.dot(weights)\n",
        "returns['cum_ret'] = (1+returns.portfolio).cumprod()-1\n",
        "returns.head()"
      ],
      "id": "eb561806"
    },
    {
      "cell_type": "code",
      "execution_count": null,
      "metadata": {
        "id": "4bcc66d6",
        "colab": {
          "base_uri": "https://localhost:8080/",
          "height": 579
        },
        "outputId": "a26c8ff6-dabc-4999-df41-e182d6413860"
      },
      "outputs": [
        {
          "output_type": "display_data",
          "data": {
            "text/plain": [
              "<Figure size 1440x720 with 1 Axes>"
            ],
            "image/png": "[encoded data removed]"
          },
          "metadata": {
            "needs_background": "light"
          }
        }
      ],
      "source": [
        "# Calculate the running maximum\n",
        "running_max = np.maximum.accumulate(returns.cum_ret)\n",
        "\n",
        "# Ensure the value never drops below 1\n",
        "running_max[running_max < 1] = 1\n",
        "\n",
        "# Calculate the percentage drawdown\n",
        "drawdown = (returns.cum_ret)/running_max - 1\n",
        "\n",
        "# Plot the results\n",
        "drawdown.plot()\n",
        "plt.title('Historical Drawdown of Portfolio')\n",
        "plt.show()"
      ],
      "id": "4bcc66d6"
    },
    {
      "cell_type": "markdown",
      "metadata": {
        "id": "246abc81"
      },
      "source": [
        "# 2. Historical Value at Risk\n",
        "* assumes distribution of historical lsoses will be the same in future"
      ],
      "id": "246abc81"
    },
    {
      "cell_type": "code",
      "execution_count": null,
      "metadata": {
        "id": "aadbc80f"
      },
      "outputs": [],
      "source": [
        "alpha = 5"
      ],
      "id": "aadbc80f"
    },
    {
      "cell_type": "code",
      "execution_count": null,
      "metadata": {
        "id": "89a75f5a",
        "colab": {
          "base_uri": "https://localhost:8080/"
        },
        "outputId": "737f4677-5bea-4016-b5e6-356f7c6e0cce"
      },
      "outputs": [
        {
          "output_type": "stream",
          "name": "stdout",
          "text": [
            "historical VaR: -1.77%\n"
          ]
        }
      ],
      "source": [
        "hist_var = np.percentile(returns.portfolio, alpha)\n",
        "print('historical VaR: {:.2%}'.format(hist_var))"
      ],
      "id": "89a75f5a"
    },
    {
      "cell_type": "code",
      "execution_count": null,
      "metadata": {
        "id": "a341f758",
        "colab": {
          "base_uri": "https://localhost:8080/",
          "height": 350
        },
        "outputId": "7c6e9c6e-321e-4d51-97b3-d120550a3d05"
      },
      "outputs": [
        {
          "output_type": "display_data",
          "data": {
            "text/plain": [
              "<Figure size 720x360 with 1 Axes>"
            ],
            "image/png": "[encoded data removed]"
          },
          "metadata": {
            "needs_background": "light"
          }
        }
      ],
      "source": [
        "plt.figure(figsize=(10,5))\n",
        "\n",
        "sns.histplot(returns.portfolio*100, stat='density',kde=True,bins=100)\n",
        "plt.axvline(x=hist_var*100, color='r', label='Historic VaR 95')\n",
        "plt.legend()\n",
        "plt.title('Historical VaR of Max Sharpe Portfolio: {:.2%}'.format(hist_var))\n",
        "plt.show()"
      ],
      "id": "a341f758"
    },
    {
      "cell_type": "markdown",
      "metadata": {
        "id": "47a73c1c"
      },
      "source": [
        "# 3. Historical Expected Shortfall (CVaR, or Conditional VaR)\n",
        "* or the expected loss, given losses, the average of losses"
      ],
      "id": "47a73c1c"
    },
    {
      "cell_type": "code",
      "execution_count": null,
      "metadata": {
        "id": "e15be48a",
        "colab": {
          "base_uri": "https://localhost:8080/"
        },
        "outputId": "3c19822a-015b-4ec2-ad49-7d61b9620eb2"
      },
      "outputs": [
        {
          "output_type": "stream",
          "name": "stdout",
          "text": [
            "Expected loss: -2.84%\n"
          ]
        }
      ],
      "source": [
        "# Slice losses\n",
        "cvar = returns.portfolio[returns.portfolio <= hist_var].mean()\n",
        "print('Expected loss: {:.2%}'.format(cvar))"
      ],
      "id": "e15be48a"
    },
    {
      "cell_type": "code",
      "execution_count": null,
      "metadata": {
        "id": "20cdf608",
        "colab": {
          "base_uri": "https://localhost:8080/",
          "height": 350
        },
        "outputId": "422c77b3-c70c-473b-ac1f-b1853322c38a"
      },
      "outputs": [
        {
          "output_type": "display_data",
          "data": {
            "text/plain": [
              "<Figure size 720x360 with 1 Axes>"
            ],
            "image/png": "[encoded data removed]"
          },
          "metadata": {
            "needs_background": "light"
          }
        }
      ],
      "source": [
        "plt.figure(figsize=(10,5))\n",
        "\n",
        "sns.histplot(returns.portfolio*100, stat='density',kde=True,bins=100)\n",
        "plt.axvline(x=hist_var*100, color='r', label='Historic VaR 95')\n",
        "plt.axvline(x=cvar*100, color='y', label='Historic CVaR 95')\n",
        "plt.legend()\n",
        "plt.title(f\"Historical VaR: {round(hist_var*100,2)}%, CVaR: {round(cvar*100,2)}%\")\n",
        "plt.show()"
      ],
      "id": "20cdf608"
    },
    {
      "cell_type": "markdown",
      "metadata": {
        "id": "bf82655a"
      },
      "source": [
        "# 4. Parametric VaR\n",
        "**Parametric VaR**\n",
        "* Describes a distribution based our estimated mean and volatility of portfolio.\n",
        "* Then finds var from that distributino\n",
        "* Value at Risk computed parametrically uses a method known as variance/co-variance VaR. \n",
        "* This method simulate a range of possibilities based on historical return distribution properties rather than actual return values.\n",
        "\n",
        "**Calculate Parametric VaR**\n",
        "* **norm.ppf(confidence_level=0.10, mu, vol)**\n",
        "where mu and vol are the mean and volatility, respectively."
      ],
      "id": "bf82655a"
    },
    {
      "cell_type": "code",
      "execution_count": null,
      "metadata": {
        "id": "87c1645b"
      },
      "outputs": [],
      "source": [
        "# import norm from scipy.stats\n",
        "from scipy.stats import norm"
      ],
      "id": "87c1645b"
    },
    {
      "cell_type": "code",
      "execution_count": null,
      "metadata": {
        "id": "14d95979"
      },
      "outputs": [],
      "source": [
        "# estimate average daily returns\n",
        "mu = np.mean(returns.portfolio) \n",
        "# estimate daily volatility\n",
        "vol = np.std(returns.portfolio)"
      ],
      "id": "14d95979"
    },
    {
      "cell_type": "code",
      "execution_count": null,
      "metadata": {
        "id": "9578306d",
        "colab": {
          "base_uri": "https://localhost:8080/"
        },
        "outputId": "c26e0ceb-0ec1-4b7c-9108-26ad31346486"
      },
      "outputs": [
        {
          "output_type": "stream",
          "name": "stdout",
          "text": [
            "Parametric VaR: -1.87%\n"
          ]
        }
      ],
      "source": [
        "# set confidence level\n",
        "confidence_level = 0.05\n",
        "\n",
        "# Calculate Parametric VaR\n",
        "pVaR = norm.ppf(confidence_level, mu, vol)\n",
        "print('Parametric VaR: {:.2%}'.format(pVaR))"
      ],
      "id": "9578306d"
    },
    {
      "cell_type": "code",
      "execution_count": null,
      "metadata": {
        "id": "e5495359",
        "colab": {
          "base_uri": "https://localhost:8080/",
          "height": 350
        },
        "outputId": "e59e5259-352d-4f9b-9850-67a5242466f0"
      },
      "outputs": [
        {
          "output_type": "display_data",
          "data": {
            "text/plain": [
              "<Figure size 720x360 with 1 Axes>"
            ],
            "image/png": "[encoded data removed]"
          },
          "metadata": {
            "needs_background": "light"
          }
        }
      ],
      "source": [
        "plt.figure(figsize=(10,5))\n",
        "\n",
        "\n",
        "sns.histplot(returns.portfolio*100, stat='density',kde=True,bins=100)\n",
        "plt.axvline(x=hist_var*100, color='r', label='Historic VaR 95')\n",
        "plt.axvline(x=cvar*100, color='y', label='Historic CVaR 95')\n",
        "plt.axvline(x=pVaR*100, color='b', label='Parametric VaR 95')\n",
        "plt.legend()\n",
        "plt.title(f\"Historical VaR: {round(hist_var*100,2)}%, CVaR: {round(cvar*100,2)}%, PVaR: {round(pVaR*100,2)}%\")\n",
        "plt.show()"
      ],
      "id": "e5495359"
    },
    {
      "cell_type": "markdown",
      "metadata": {
        "id": "54012ff3"
      },
      "source": [
        "# 5. Visualising VaR over time\n",
        "Previous VaR looks at risk for a single time (in this case, t = day)"
      ],
      "id": "54012ff3"
    },
    {
      "cell_type": "markdown",
      "metadata": {
        "id": "9c90daf1"
      },
      "source": [
        "**To scale VaR:**\n",
        "$VaR(95)t = VaR(95)t * \\sqrt{t}$ "
      ],
      "id": "9c90daf1"
    },
    {
      "cell_type": "code",
      "execution_count": null,
      "metadata": {
        "id": "22991a53",
        "colab": {
          "base_uri": "https://localhost:8080/"
        },
        "outputId": "33195700-35c9-40d0-828c-86cb313b4e8d"
      },
      "outputs": [
        {
          "output_type": "execute_result",
          "data": {
            "text/plain": [
              "(-0.01772812352533428, -0.028420799279919792, -0.018669809009744503)"
            ]
          },
          "metadata": {},
          "execution_count": 148
        }
      ],
      "source": [
        "hist_var, cvar, pVaR"
      ],
      "id": "22991a53"
    },
    {
      "cell_type": "code",
      "execution_count": null,
      "metadata": {
        "id": "e452c29c"
      },
      "outputs": [],
      "source": [
        "scaled_vars = np.empty([100,2])\n",
        "\n",
        "for i in range(0, 100):\n",
        "    scaled_vars[i,0] = i\n",
        "    scaled_vars[i,1] = -hist_var*100*np.sqrt(i)"
      ],
      "id": "e452c29c"
    },
    {
      "cell_type": "code",
      "execution_count": null,
      "metadata": {
        "id": "51313e5d",
        "colab": {
          "base_uri": "https://localhost:8080/",
          "height": 350
        },
        "outputId": "cb7d438d-9cb7-44ff-c0f8-3ea086e63a85"
      },
      "outputs": [
        {
          "output_type": "display_data",
          "data": {
            "text/plain": [
              "<Figure size 720x360 with 1 Axes>"
            ],
            "image/png": "[encoded data removed]"
          },
          "metadata": {
            "needs_background": "light"
          }
        }
      ],
      "source": [
        "plt.figure(figsize=(10,5))\n",
        "\n",
        "plt.plot(scaled_vars[:,0], scaled_vars[:,1])\n",
        "plt.title('Historical VaR 95 Scaled by Time')\n",
        "plt.ylabel('Forecasted VaR (95)%')\n",
        "plt.xlabel('Time Horizon T')\n",
        "plt.show()"
      ],
      "id": "51313e5d"
    },
    {
      "cell_type": "markdown",
      "metadata": {
        "id": "e4af0e85"
      },
      "source": [
        "# 6. Monte Carlo Simulating VaR and CVaR\n",
        "* Stochastic or random movements in mathematics to describe fractal behavior, and in finance to describe stock market movements.\n",
        "* Aggregate the returns data at each iteration\n",
        "* Use the resulting values to forecast parametric VaR(95).\n",
        "* **np.random.normal()** function is used to model random walk movements of the portfolio"
      ],
      "id": "e4af0e85"
    },
    {
      "cell_type": "code",
      "execution_count": null,
      "metadata": {
        "id": "18757a8f"
      },
      "outputs": [],
      "source": [
        "# estimate average daily returns\n",
        "mu = np.mean(returns.portfolio) \n",
        "# estimate daily volatility\n",
        "vol = np.std(returns.portfolio)\n",
        "T = 252"
      ],
      "id": "18757a8f"
    },
    {
      "cell_type": "code",
      "execution_count": null,
      "metadata": {
        "id": "f4ff2d1f",
        "colab": {
          "base_uri": "https://localhost:8080/"
        },
        "outputId": "54895cfb-16c2-4219-e3a8-ebb60b5e5148"
      },
      "outputs": [
        {
          "output_type": "stream",
          "name": "stdout",
          "text": [
            "Parametric VaR(95):  -1.87 %\n"
          ]
        }
      ],
      "source": [
        "# Aggregate the returns\n",
        "sim_returns = []\n",
        "\n",
        "# Loop through 10000 simulations\n",
        "for i in range(10000):\n",
        "\n",
        "    # Generate the Random Walk\n",
        "    rand_rets = np.random.normal(mu, vol, T)\n",
        "    # Store results\n",
        "    sim_returns.append(rand_rets)\n",
        "\n",
        "mc_var = np.percentile(sim_returns, 5)\n",
        "print(\"Parametric VaR(95): \", round(100*mc_var, 2),\"%\")"
      ],
      "id": "f4ff2d1f"
    }
  ],
  "metadata": {
    "colab": {
      "collapsed_sections": [],
      "provenance": [],
      "toc_visible": true,
      "include_colab_link": true
    },
    "kernelspec": {
      "display_name": "Python 3 (ipykernel)",
      "language": "python",
      "name": "python3"
    },
    "language_info": {
      "codemirror_mode": {
        "name": "ipython",
        "version": 3
      },
      "file_extension": ".py",
      "mimetype": "text/x-python",
      "name": "python",
      "nbconvert_exporter": "python",
      "pygments_lexer": "ipython3",
      "version": "3.10.5"
    }
  },
  "nbformat": 4,
  "nbformat_minor": 5
}