{
  "cells": [
    {
      "cell_type": "markdown",
      "metadata": {
        "id": "view-in-github",
        "colab_type": "text"
      },
      "source": [
        "<a href=\"https://colab.research.google.com/github/buttersaltpepper/Financial-Data-Analytics/blob/main/HypothesisTesting.ipynb\" target=\"_parent\"><img src=\"https://colab.research.google.com/assets/colab-badge.svg\" alt=\"Open In Colab\"/></a>"
      ]
    },
    {
      "cell_type": "markdown",
      "metadata": {
        "id": "BNsBJBKv7dnS"
      },
      "source": [
        "# **Problem: Is the Bank's Debt Recovery Strategy Worth the Human Resource Cost?**\n",
        "\n",
        "*`bank_data.csv` from Datacamp*\n",
        "\n",
        "\n",
        "**Brief**\n",
        "* After debt is uncollectable, the bank will assess the expected recovery amount. \n",
        "\n",
        "* The greater the recovery amount, the more effort the bank puts into contacting the customer. But this has increased human resource costs\n",
        "\n",
        "* The recovery amount is split into Strategy Levels at thresholds: \n",
        "  * 1000, 2000, 3000, 5000,\n",
        "  * and each level incurs an additional $50 human resource expense per customer.\n",
        "\n",
        "\n",
        "**Objective**\n",
        "\n",
        "To find out if the increased recovery amount at higher levels are worth the extra costs per customer\n",
        "\n",
        "**Method**\n",
        "* Analyse data at the 1000 threshold\n",
        "* If any discontinuity occurs at these areas, it may mean the increased recovery amount is not caused by better recovery strategy and is caused by other factors such as age or sex. \n",
        "* Build a regression model to quantify the benefit of recovery strategies.\n",
        "* If coefficient is greater than the $50 cost, it is worth it. \n",
        " \n",
        "\n"
      ]
    },
    {
      "cell_type": "code",
      "execution_count": null,
      "metadata": {
        "id": "kXNcFn8I734q"
      },
      "outputs": [],
      "source": [
        "import pandas as pd\n",
        "import numpy as np\n",
        "\n",
        "from scipy import stats # statistical inferece\n",
        "from scipy.stats import kurtosis, skew # normality tests\n",
        "\n",
        "from sklearn.linear_model import LinearRegression # heteroscedascity tests\n",
        "from statsmodels.stats.diagnostic import het_white\n",
        "import statsmodels.api as sm\n",
        "\n",
        "\n",
        "import seaborn as sns\n",
        "import matplotlib.pyplot as plt \n",
        "plt.rcParams[\"figure.figsize\"] = (10,5)"
      ]
    },
    {
      "cell_type": "code",
      "execution_count": null,
      "metadata": {
        "colab": {
          "base_uri": "https://localhost:8080/"
        },
        "id": "bFaozDOXBjhV",
        "outputId": "357a3e6d-41dd-4bb5-c9b7-28a7898a15bb"
      },
      "outputs": [
        {
          "data": {
            "text/plain": [
              "(id                            int64\n",
              " expected_recovery_amount      int64\n",
              " actual_recovery_amount      float64\n",
              " recovery_strategy            object\n",
              " age                           int64\n",
              " sex                          object\n",
              " dtype: object, (1882, 6))"
            ]
          },
          "execution_count": 254,
          "metadata": {},
          "output_type": "execute_result"
        }
      ],
      "source": [
        "df = pd.read_csv('bank_data.csv') # dataset from Datacamp\n",
        "df.dtypes, df.shape"
      ]
    },
    {
      "cell_type": "code",
      "execution_count": null,
      "metadata": {
        "colab": {
          "base_uri": "https://localhost:8080/"
        },
        "id": "itrZpDwwCOro",
        "outputId": "a99a092c-2f37-44ab-e03d-a0a4b060e2c0"
      },
      "outputs": [
        {
          "data": {
            "text/plain": [
              "id                          0\n",
              "expected_recovery_amount    0\n",
              "actual_recovery_amount      0\n",
              "recovery_strategy           0\n",
              "age                         0\n",
              "sex                         0\n",
              "dtype: int64"
            ]
          },
          "execution_count": 242,
          "metadata": {},
          "output_type": "execute_result"
        }
      ],
      "source": [
        "df.isna().sum()"
      ]
    },
    {
      "cell_type": "code",
      "execution_count": null,
      "metadata": {
        "colab": {
          "base_uri": "https://localhost:8080/"
        },
        "id": "iwmgslE-DTub",
        "outputId": "b09118db-4e47-4675-d55a-f62a84ac815f"
      },
      "outputs": [
        {
          "data": {
            "text/plain": [
              "id                          1882\n",
              "expected_recovery_amount    1529\n",
              "actual_recovery_amount      1882\n",
              "recovery_strategy              5\n",
              "age                           67\n",
              "sex                            2\n",
              "dtype: int64"
            ]
          },
          "execution_count": 249,
          "metadata": {},
          "output_type": "execute_result"
        }
      ],
      "source": [
        "# Very clean csv. which is not good for learning :(\n",
        "df.nunique()"
      ]
    },
    {
      "cell_type": "code",
      "execution_count": null,
      "metadata": {
        "colab": {
          "base_uri": "https://localhost:8080/",
          "height": 206
        },
        "id": "tYcVxdG7FgH8",
        "outputId": "3ad26465-24f4-42e0-b3fc-2c44ba8d9b3c"
      },
      "outputs": [
        {
          "data": {
            "text/html": [
              "\n",
              "  <div id=\"df-9759f149-71dd-4fe5-8f2a-56e7e107827a\">\n",
              "    <div class=\"colab-df-container\">\n",
              "      <div>\n",
              "<style scoped>\n",
              "    .dataframe tbody tr th:only-of-type {\n",
              "        vertical-align: middle;\n",
              "    }\n",
              "\n",
              "    .dataframe tbody tr th {\n",
              "        vertical-align: top;\n",
              "    }\n",
              "\n",
              "    .dataframe thead th {\n",
              "        text-align: right;\n",
              "    }\n",
              "</style>\n",
              "<table border=\"1\" class=\"dataframe\">\n",
              "  <thead>\n",
              "    <tr style=\"text-align: right;\">\n",
              "      <th></th>\n",
              "      <th>id</th>\n",
              "      <th>expected_recovery_amount</th>\n",
              "      <th>actual_recovery_amount</th>\n",
              "      <th>recovery_strategy</th>\n",
              "      <th>age</th>\n",
              "      <th>sex</th>\n",
              "    </tr>\n",
              "  </thead>\n",
              "  <tbody>\n",
              "    <tr>\n",
              "      <th>0</th>\n",
              "      <td>2030</td>\n",
              "      <td>194</td>\n",
              "      <td>263.540</td>\n",
              "      <td>Level 0 Recovery</td>\n",
              "      <td>19</td>\n",
              "      <td>Male</td>\n",
              "    </tr>\n",
              "    <tr>\n",
              "      <th>1</th>\n",
              "      <td>1150</td>\n",
              "      <td>486</td>\n",
              "      <td>416.090</td>\n",
              "      <td>Level 0 Recovery</td>\n",
              "      <td>25</td>\n",
              "      <td>Female</td>\n",
              "    </tr>\n",
              "    <tr>\n",
              "      <th>2</th>\n",
              "      <td>380</td>\n",
              "      <td>527</td>\n",
              "      <td>429.350</td>\n",
              "      <td>Level 0 Recovery</td>\n",
              "      <td>27</td>\n",
              "      <td>Male</td>\n",
              "    </tr>\n",
              "    <tr>\n",
              "      <th>3</th>\n",
              "      <td>1838</td>\n",
              "      <td>536</td>\n",
              "      <td>296.990</td>\n",
              "      <td>Level 0 Recovery</td>\n",
              "      <td>25</td>\n",
              "      <td>Male</td>\n",
              "    </tr>\n",
              "    <tr>\n",
              "      <th>4</th>\n",
              "      <td>1995</td>\n",
              "      <td>541</td>\n",
              "      <td>346.385</td>\n",
              "      <td>Level 0 Recovery</td>\n",
              "      <td>34</td>\n",
              "      <td>Male</td>\n",
              "    </tr>\n",
              "  </tbody>\n",
              "</table>\n",
              "</div>\n",
              "      <button class=\"colab-df-convert\" onclick=\"convertToInteractive('df-9759f149-71dd-4fe5-8f2a-56e7e107827a')\"\n",
              "              title=\"Convert this dataframe to an interactive table.\"\n",
              "              style=\"display:none;\">\n",
              "        \n",
              "  <svg xmlns=\"http://www.w3.org/2000/svg\" height=\"24px\"viewBox=\"0 0 24 24\"\n",
              "       width=\"24px\">\n",
              "    <path d=\"M0 0h24v24H0V0z\" fill=\"none\"/>\n",
              "    <path d=\"M18.56 5.44l.94 2.06.94-2.06 2.06-.94-2.06-.94-.94-2.06-.94 2.06-2.06.94zm-11 1L8.5 8.5l.94-2.06 2.06-.94-2.06-.94L8.5 2.5l-.94 2.06-2.06.94zm10 10l.94 2.06.94-2.06 2.06-.94-2.06-.94-.94-2.06-.94 2.06-2.06.94z\"/><path d=\"M17.41 7.96l-1.37-1.37c-.4-.4-.92-.59-1.43-.59-.52 0-1.04.2-1.43.59L10.3 9.45l-7.72 7.72c-.78.78-.78 2.05 0 2.83L4 21.41c.39.39.9.59 1.41.59.51 0 1.02-.2 1.41-.59l7.78-7.78 2.81-2.81c.8-.78.8-2.07 0-2.86zM5.41 20L4 18.59l7.72-7.72 1.47 1.35L5.41 20z\"/>\n",
              "  </svg>\n",
              "      </button>\n",
              "      \n",
              "  <style>\n",
              "    .colab-df-container {\n",
              "      display:flex;\n",
              "      flex-wrap:wrap;\n",
              "      gap: 12px;\n",
              "    }\n",
              "\n",
              "    .colab-df-convert {\n",
              "      background-color: #E8F0FE;\n",
              "      border: none;\n",
              "      border-radius: 50%;\n",
              "      cursor: pointer;\n",
              "      display: none;\n",
              "      fill: #1967D2;\n",
              "      height: 32px;\n",
              "      padding: 0 0 0 0;\n",
              "      width: 32px;\n",
              "    }\n",
              "\n",
              "    .colab-df-convert:hover {\n",
              "      background-color: #E2EBFA;\n",
              "      box-shadow: 0px 1px 2px rgba(60, 64, 67, 0.3), 0px 1px 3px 1px rgba(60, 64, 67, 0.15);\n",
              "      fill: #174EA6;\n",
              "    }\n",
              "\n",
              "    [theme=dark] .colab-df-convert {\n",
              "      background-color: #3B4455;\n",
              "      fill: #D2E3FC;\n",
              "    }\n",
              "\n",
              "    [theme=dark] .colab-df-convert:hover {\n",
              "      background-color: #434B5C;\n",
              "      box-shadow: 0px 1px 3px 1px rgba(0, 0, 0, 0.15);\n",
              "      filter: drop-shadow(0px 1px 2px rgba(0, 0, 0, 0.3));\n",
              "      fill: #FFFFFF;\n",
              "    }\n",
              "  </style>\n",
              "\n",
              "      <script>\n",
              "        const buttonEl =\n",
              "          document.querySelector('#df-9759f149-71dd-4fe5-8f2a-56e7e107827a button.colab-df-convert');\n",
              "        buttonEl.style.display =\n",
              "          google.colab.kernel.accessAllowed ? 'block' : 'none';\n",
              "\n",
              "        async function convertToInteractive(key) {\n",
              "          const element = document.querySelector('#df-9759f149-71dd-4fe5-8f2a-56e7e107827a');\n",
              "          const dataTable =\n",
              "            await google.colab.kernel.invokeFunction('convertToInteractive',\n",
              "                                                     [key], {});\n",
              "          if (!dataTable) return;\n",
              "\n",
              "          const docLinkHtml = 'Like what you see? Visit the ' +\n",
              "            '<a target=\"_blank\" href=https://colab.research.google.com/notebooks/data_table.ipynb>data table notebook</a>'\n",
              "            + ' to learn more about interactive tables.';\n",
              "          element.innerHTML = '';\n",
              "          dataTable['output_type'] = 'display_data';\n",
              "          await google.colab.output.renderOutput(dataTable, element);\n",
              "          const docLink = document.createElement('div');\n",
              "          docLink.innerHTML = docLinkHtml;\n",
              "          element.appendChild(docLink);\n",
              "        }\n",
              "      </script>\n",
              "    </div>\n",
              "  </div>\n",
              "  "
            ],
            "text/plain": [
              "     id  expected_recovery_amount  actual_recovery_amount recovery_strategy  \\\n",
              "0  2030                       194                 263.540  Level 0 Recovery   \n",
              "1  1150                       486                 416.090  Level 0 Recovery   \n",
              "2   380                       527                 429.350  Level 0 Recovery   \n",
              "3  1838                       536                 296.990  Level 0 Recovery   \n",
              "4  1995                       541                 346.385  Level 0 Recovery   \n",
              "\n",
              "   age     sex  \n",
              "0   19    Male  \n",
              "1   25  Female  \n",
              "2   27    Male  \n",
              "3   25    Male  \n",
              "4   34    Male  "
            ]
          },
          "execution_count": 256,
          "metadata": {},
          "output_type": "execute_result"
        }
      ],
      "source": [
        "df.head()"
      ]
    },
    {
      "cell_type": "code",
      "execution_count": null,
      "metadata": {
        "id": "vj5HvMTtGkPn"
      },
      "outputs": [],
      "source": [
        "# start with Numerical Variables\n",
        "X = df.select_dtypes(exclude='O').drop('id',axis=1)\n",
        "y = df['actual_recovery_amount']"
      ]
    },
    {
      "cell_type": "code",
      "execution_count": null,
      "metadata": {
        "colab": {
          "base_uri": "https://localhost:8080/",
          "height": 143
        },
        "id": "KSSDuew9GCcr",
        "outputId": "cfa39ebd-3ce9-4955-d4d4-39add27d6ebf"
      },
      "outputs": [
        {
          "data": {
            "text/html": [
              "\n",
              "  <div id=\"df-5d7df567-685f-484b-bbc7-a4f33acff6bf\">\n",
              "    <div class=\"colab-df-container\">\n",
              "      <div>\n",
              "<style scoped>\n",
              "    .dataframe tbody tr th:only-of-type {\n",
              "        vertical-align: middle;\n",
              "    }\n",
              "\n",
              "    .dataframe tbody tr th {\n",
              "        vertical-align: top;\n",
              "    }\n",
              "\n",
              "    .dataframe thead th {\n",
              "        text-align: right;\n",
              "    }\n",
              "</style>\n",
              "<table border=\"1\" class=\"dataframe\">\n",
              "  <thead>\n",
              "    <tr style=\"text-align: right;\">\n",
              "      <th></th>\n",
              "      <th>Stat</th>\n",
              "      <th>+/-</th>\n",
              "      <th>Effect size</th>\n",
              "      <th>p-value</th>\n",
              "      <th>Kurtosis</th>\n",
              "      <th>Skewness</th>\n",
              "    </tr>\n",
              "  </thead>\n",
              "  <tbody>\n",
              "    <tr>\n",
              "      <th>actual_recovery_amount</th>\n",
              "      <td>r</td>\n",
              "      <td>1.0</td>\n",
              "      <td>1.000</td>\n",
              "      <td>0.0</td>\n",
              "      <td>6.720</td>\n",
              "      <td>2.288</td>\n",
              "    </tr>\n",
              "    <tr>\n",
              "      <th>expected_recovery_amount</th>\n",
              "      <td>r</td>\n",
              "      <td>1.0</td>\n",
              "      <td>0.904</td>\n",
              "      <td>0.0</td>\n",
              "      <td>1.583</td>\n",
              "      <td>1.434</td>\n",
              "    </tr>\n",
              "    <tr>\n",
              "      <th>age</th>\n",
              "      <td>r</td>\n",
              "      <td>1.0</td>\n",
              "      <td>0.716</td>\n",
              "      <td>0.0</td>\n",
              "      <td>-0.127</td>\n",
              "      <td>0.809</td>\n",
              "    </tr>\n",
              "  </tbody>\n",
              "</table>\n",
              "</div>\n",
              "      <button class=\"colab-df-convert\" onclick=\"convertToInteractive('df-5d7df567-685f-484b-bbc7-a4f33acff6bf')\"\n",
              "              title=\"Convert this dataframe to an interactive table.\"\n",
              "              style=\"display:none;\">\n",
              "        \n",
              "  <svg xmlns=\"http://www.w3.org/2000/svg\" height=\"24px\"viewBox=\"0 0 24 24\"\n",
              "       width=\"24px\">\n",
              "    <path d=\"M0 0h24v24H0V0z\" fill=\"none\"/>\n",
              "    <path d=\"M18.56 5.44l.94 2.06.94-2.06 2.06-.94-2.06-.94-.94-2.06-.94 2.06-2.06.94zm-11 1L8.5 8.5l.94-2.06 2.06-.94-2.06-.94L8.5 2.5l-.94 2.06-2.06.94zm10 10l.94 2.06.94-2.06 2.06-.94-2.06-.94-.94-2.06-.94 2.06-2.06.94z\"/><path d=\"M17.41 7.96l-1.37-1.37c-.4-.4-.92-.59-1.43-.59-.52 0-1.04.2-1.43.59L10.3 9.45l-7.72 7.72c-.78.78-.78 2.05 0 2.83L4 21.41c.39.39.9.59 1.41.59.51 0 1.02-.2 1.41-.59l7.78-7.78 2.81-2.81c.8-.78.8-2.07 0-2.86zM5.41 20L4 18.59l7.72-7.72 1.47 1.35L5.41 20z\"/>\n",
              "  </svg>\n",
              "      </button>\n",
              "      \n",
              "  <style>\n",
              "    .colab-df-container {\n",
              "      display:flex;\n",
              "      flex-wrap:wrap;\n",
              "      gap: 12px;\n",
              "    }\n",
              "\n",
              "    .colab-df-convert {\n",
              "      background-color: #E8F0FE;\n",
              "      border: none;\n",
              "      border-radius: 50%;\n",
              "      cursor: pointer;\n",
              "      display: none;\n",
              "      fill: #1967D2;\n",
              "      height: 32px;\n",
              "      padding: 0 0 0 0;\n",
              "      width: 32px;\n",
              "    }\n",
              "\n",
              "    .colab-df-convert:hover {\n",
              "      background-color: #E2EBFA;\n",
              "      box-shadow: 0px 1px 2px rgba(60, 64, 67, 0.3), 0px 1px 3px 1px rgba(60, 64, 67, 0.15);\n",
              "      fill: #174EA6;\n",
              "    }\n",
              "\n",
              "    [theme=dark] .colab-df-convert {\n",
              "      background-color: #3B4455;\n",
              "      fill: #D2E3FC;\n",
              "    }\n",
              "\n",
              "    [theme=dark] .colab-df-convert:hover {\n",
              "      background-color: #434B5C;\n",
              "      box-shadow: 0px 1px 3px 1px rgba(0, 0, 0, 0.15);\n",
              "      filter: drop-shadow(0px 1px 2px rgba(0, 0, 0, 0.3));\n",
              "      fill: #FFFFFF;\n",
              "    }\n",
              "  </style>\n",
              "\n",
              "      <script>\n",
              "        const buttonEl =\n",
              "          document.querySelector('#df-5d7df567-685f-484b-bbc7-a4f33acff6bf button.colab-df-convert');\n",
              "        buttonEl.style.display =\n",
              "          google.colab.kernel.accessAllowed ? 'block' : 'none';\n",
              "\n",
              "        async function convertToInteractive(key) {\n",
              "          const element = document.querySelector('#df-5d7df567-685f-484b-bbc7-a4f33acff6bf');\n",
              "          const dataTable =\n",
              "            await google.colab.kernel.invokeFunction('convertToInteractive',\n",
              "                                                     [key], {});\n",
              "          if (!dataTable) return;\n",
              "\n",
              "          const docLinkHtml = 'Like what you see? Visit the ' +\n",
              "            '<a target=\"_blank\" href=https://colab.research.google.com/notebooks/data_table.ipynb>data table notebook</a>'\n",
              "            + ' to learn more about interactive tables.';\n",
              "          element.innerHTML = '';\n",
              "          dataTable['output_type'] = 'display_data';\n",
              "          await google.colab.output.renderOutput(dataTable, element);\n",
              "          const docLink = document.createElement('div');\n",
              "          docLink.innerHTML = docLinkHtml;\n",
              "          element.appendChild(docLink);\n",
              "        }\n",
              "      </script>\n",
              "    </div>\n",
              "  </div>\n",
              "  "
            ],
            "text/plain": [
              "                         Stat  +/-  Effect size  p-value  Kurtosis  Skewness\n",
              "actual_recovery_amount      r  1.0        1.000      0.0     6.720     2.288\n",
              "expected_recovery_amount    r  1.0        0.904      0.0     1.583     1.434\n",
              "age                         r  1.0        0.716      0.0    -0.127     0.809"
            ]
          },
          "execution_count": 339,
          "metadata": {},
          "output_type": "execute_result"
        }
      ],
      "source": [
        "# Start with Pearsons correlation, Normality test\n",
        "num_stats_df = pd.DataFrame(columns=['Stat', '+/-', 'Effect size', 'p-value', 'Kurtosis', 'Skewness'])\n",
        "\n",
        "for col in X:\n",
        "  # Pearsons correlation\n",
        "  r, p = stats.pearsonr(y, df[col])\n",
        "\n",
        "  # Normality tests\n",
        "  k = kurtosis(X[col])\n",
        "  s = skew(X[col])\n",
        "\n",
        "  num_stats_df.loc[col] = ['r', np.sign(r), round(r,3), round(p,6), round(k,3), round(s,3)]\n",
        "\n",
        "num_stats_df.sort_values(by='Effect size', ascending=False)"
      ]
    },
    {
      "cell_type": "markdown",
      "metadata": {
        "id": "Q_9A8u06Oj8s"
      },
      "source": [
        "**First, focus around the $1000 area to see if there is a discontinuity**\n",
        "\n",
        "* If there is discontinuity, this is bad because it means the expected payoff is affected by other factors other than the recovery strategy.\n",
        "* We want the recovery amount to be consistent to be able to analyse the coefficient of bank's strategy effort"
      ]
    },
    {
      "cell_type": "code",
      "execution_count": null,
      "metadata": {
        "colab": {
          "base_uri": "https://localhost:8080/",
          "height": 339
        },
        "id": "uvsFsAB3JVaj",
        "outputId": "2419250e-3185-49f0-c316-532e0432185e"
      },
      "outputs": [
        {
          "data": {
            "image/png": "[encoded data removed]",
            "text/plain": [
              "<Figure size 720x360 with 1 Axes>"
            ]
          },
          "metadata": {},
          "output_type": "display_data"
        }
      ],
      "source": [
        "sns.scatterplot(y=df.age, x=df.expected_recovery_amount);\n",
        "plt.xlim(0, 2000)\n",
        "plt.ylim(0, 60);"
      ]
    },
    {
      "cell_type": "code",
      "execution_count": null,
      "metadata": {
        "colab": {
          "base_uri": "https://localhost:8080/",
          "height": 143
        },
        "id": "RqJF58g6MUv5",
        "outputId": "809abb2b-6dbd-4c1f-ee8e-4c107594b3fb"
      },
      "outputs": [
        {
          "data": {
            "text/html": [
              "\n",
              "  <div id=\"df-9c263689-8798-450b-b2f9-d5b15abb2667\">\n",
              "    <div class=\"colab-df-container\">\n",
              "      <div>\n",
              "<style scoped>\n",
              "    .dataframe tbody tr th:only-of-type {\n",
              "        vertical-align: middle;\n",
              "    }\n",
              "\n",
              "    .dataframe tbody tr th {\n",
              "        vertical-align: top;\n",
              "    }\n",
              "\n",
              "    .dataframe thead th {\n",
              "        text-align: right;\n",
              "    }\n",
              "</style>\n",
              "<table border=\"1\" class=\"dataframe\">\n",
              "  <thead>\n",
              "    <tr style=\"text-align: right;\">\n",
              "      <th></th>\n",
              "      <th>count</th>\n",
              "      <th>mean</th>\n",
              "      <th>std</th>\n",
              "      <th>min</th>\n",
              "      <th>25%</th>\n",
              "      <th>50%</th>\n",
              "      <th>75%</th>\n",
              "      <th>max</th>\n",
              "    </tr>\n",
              "    <tr>\n",
              "      <th>recovery_strategy</th>\n",
              "      <th></th>\n",
              "      <th></th>\n",
              "      <th></th>\n",
              "      <th></th>\n",
              "      <th></th>\n",
              "      <th></th>\n",
              "      <th></th>\n",
              "      <th></th>\n",
              "    </tr>\n",
              "  </thead>\n",
              "  <tbody>\n",
              "    <tr>\n",
              "      <th>Level 0 Recovery</th>\n",
              "      <td>89.0</td>\n",
              "      <td>27.224719</td>\n",
              "      <td>6.399135</td>\n",
              "      <td>18.0</td>\n",
              "      <td>23.0</td>\n",
              "      <td>26.0</td>\n",
              "      <td>31.0</td>\n",
              "      <td>56.0</td>\n",
              "    </tr>\n",
              "    <tr>\n",
              "      <th>Level 1 Recovery</th>\n",
              "      <td>94.0</td>\n",
              "      <td>28.755319</td>\n",
              "      <td>5.859807</td>\n",
              "      <td>18.0</td>\n",
              "      <td>24.0</td>\n",
              "      <td>29.0</td>\n",
              "      <td>33.0</td>\n",
              "      <td>43.0</td>\n",
              "    </tr>\n",
              "  </tbody>\n",
              "</table>\n",
              "</div>\n",
              "      <button class=\"colab-df-convert\" onclick=\"convertToInteractive('df-9c263689-8798-450b-b2f9-d5b15abb2667')\"\n",
              "              title=\"Convert this dataframe to an interactive table.\"\n",
              "              style=\"display:none;\">\n",
              "        \n",
              "  <svg xmlns=\"http://www.w3.org/2000/svg\" height=\"24px\"viewBox=\"0 0 24 24\"\n",
              "       width=\"24px\">\n",
              "    <path d=\"M0 0h24v24H0V0z\" fill=\"none\"/>\n",
              "    <path d=\"M18.56 5.44l.94 2.06.94-2.06 2.06-.94-2.06-.94-.94-2.06-.94 2.06-2.06.94zm-11 1L8.5 8.5l.94-2.06 2.06-.94-2.06-.94L8.5 2.5l-.94 2.06-2.06.94zm10 10l.94 2.06.94-2.06 2.06-.94-2.06-.94-.94-2.06-.94 2.06-2.06.94z\"/><path d=\"M17.41 7.96l-1.37-1.37c-.4-.4-.92-.59-1.43-.59-.52 0-1.04.2-1.43.59L10.3 9.45l-7.72 7.72c-.78.78-.78 2.05 0 2.83L4 21.41c.39.39.9.59 1.41.59.51 0 1.02-.2 1.41-.59l7.78-7.78 2.81-2.81c.8-.78.8-2.07 0-2.86zM5.41 20L4 18.59l7.72-7.72 1.47 1.35L5.41 20z\"/>\n",
              "  </svg>\n",
              "      </button>\n",
              "      \n",
              "  <style>\n",
              "    .colab-df-container {\n",
              "      display:flex;\n",
              "      flex-wrap:wrap;\n",
              "      gap: 12px;\n",
              "    }\n",
              "\n",
              "    .colab-df-convert {\n",
              "      background-color: #E8F0FE;\n",
              "      border: none;\n",
              "      border-radius: 50%;\n",
              "      cursor: pointer;\n",
              "      display: none;\n",
              "      fill: #1967D2;\n",
              "      height: 32px;\n",
              "      padding: 0 0 0 0;\n",
              "      width: 32px;\n",
              "    }\n",
              "\n",
              "    .colab-df-convert:hover {\n",
              "      background-color: #E2EBFA;\n",
              "      box-shadow: 0px 1px 2px rgba(60, 64, 67, 0.3), 0px 1px 3px 1px rgba(60, 64, 67, 0.15);\n",
              "      fill: #174EA6;\n",
              "    }\n",
              "\n",
              "    [theme=dark] .colab-df-convert {\n",
              "      background-color: #3B4455;\n",
              "      fill: #D2E3FC;\n",
              "    }\n",
              "\n",
              "    [theme=dark] .colab-df-convert:hover {\n",
              "      background-color: #434B5C;\n",
              "      box-shadow: 0px 1px 3px 1px rgba(0, 0, 0, 0.15);\n",
              "      filter: drop-shadow(0px 1px 2px rgba(0, 0, 0, 0.3));\n",
              "      fill: #FFFFFF;\n",
              "    }\n",
              "  </style>\n",
              "\n",
              "      <script>\n",
              "        const buttonEl =\n",
              "          document.querySelector('#df-9c263689-8798-450b-b2f9-d5b15abb2667 button.colab-df-convert');\n",
              "        buttonEl.style.display =\n",
              "          google.colab.kernel.accessAllowed ? 'block' : 'none';\n",
              "\n",
              "        async function convertToInteractive(key) {\n",
              "          const element = document.querySelector('#df-9c263689-8798-450b-b2f9-d5b15abb2667');\n",
              "          const dataTable =\n",
              "            await google.colab.kernel.invokeFunction('convertToInteractive',\n",
              "                                                     [key], {});\n",
              "          if (!dataTable) return;\n",
              "\n",
              "          const docLinkHtml = 'Like what you see? Visit the ' +\n",
              "            '<a target=\"_blank\" href=https://colab.research.google.com/notebooks/data_table.ipynb>data table notebook</a>'\n",
              "            + ' to learn more about interactive tables.';\n",
              "          element.innerHTML = '';\n",
              "          dataTable['output_type'] = 'display_data';\n",
              "          await google.colab.output.renderOutput(dataTable, element);\n",
              "          const docLink = document.createElement('div');\n",
              "          docLink.innerHTML = docLinkHtml;\n",
              "          element.appendChild(docLink);\n",
              "        }\n",
              "      </script>\n",
              "    </div>\n",
              "  </div>\n",
              "  "
            ],
            "text/plain": [
              "                   count       mean       std   min   25%   50%   75%   max\n",
              "recovery_strategy                                                          \n",
              "Level 0 Recovery    89.0  27.224719  6.399135  18.0  23.0  26.0  31.0  56.0\n",
              "Level 1 Recovery    94.0  28.755319  5.859807  18.0  24.0  29.0  33.0  43.0"
            ]
          },
          "execution_count": 329,
          "metadata": {},
          "output_type": "execute_result"
        }
      ],
      "source": [
        "df_900_1100 = df.loc[(df['expected_recovery_amount']<1100) & \n",
        "                      (df['expected_recovery_amount']>=900)]\n",
        "\n",
        "df_900_1100.groupby('recovery_strategy')['age'].describe()\n",
        "# There seems to be no difference, no discontinuity.\n",
        "# Need to test this with t-test"
      ]
    },
    {
      "cell_type": "code",
      "execution_count": null,
      "metadata": {
        "colab": {
          "base_uri": "https://localhost:8080/"
        },
        "id": "LggnnRdEVZoj",
        "outputId": "398defd6-0918-43f7-bfa3-d37b058645ce"
      },
      "outputs": [
        {
          "data": {
            "text/plain": [
              "Ttest_indResult(statistic=-1.6888055955231507, pvalue=0.09297868115283911)"
            ]
          },
          "execution_count": 333,
          "metadata": {},
          "output_type": "execute_result"
        }
      ],
      "source": [
        "df_900_1100_test = df_900_1100.groupby('recovery_strategy')['age'].apply(list)\n",
        "\n",
        "stats.ttest_ind(*df_900_1100_test)"
      ]
    },
    {
      "cell_type": "markdown",
      "metadata": {
        "id": "6LEY49afSpPK"
      },
      "source": [
        "**STATISTICALLY NO DIFFERENCE**\n",
        "\n",
        "This is important because we want to be able to conclude that differences in the actual recovery amount are due to the higher Recovery Strategy and not due to some other difference like age or sex."
      ]
    },
    {
      "cell_type": "code",
      "execution_count": null,
      "metadata": {
        "colab": {
          "base_uri": "https://localhost:8080/"
        },
        "id": "o4Ac_yBoSGjJ",
        "outputId": "5814c738-27c7-4a1c-a538-3f7f36b5d9df"
      },
      "outputs": [
        {
          "name": "stdout",
          "output_type": "stream",
          "text": [
            "sex                Female  Male\n",
            "recovery_strategy              \n",
            "Level 0 Recovery       31    55\n",
            "Level 1 Recovery       39    55\n",
            "chi2 stat:  0.35423507714452734 p-value:  0.5517254907831952\n"
          ]
        }
      ],
      "source": [
        "# Do the same for sex vs expected recovery amount\n",
        "# but this time use Chi2 since sex is categorical data\n",
        "\n",
        "# Chi squared independence test\n",
        "crosstab = pd.crosstab(df.loc[(df['expected_recovery_amount'] < 1100) & \n",
        "                   (df['expected_recovery_amount'] > 900)]['recovery_strategy'], df['sex'])\n",
        "\n",
        "print(crosstab)\n",
        "\n",
        "x2, p, dof, ex = stats.chi2_contingency(observed=crosstab)\n",
        "\n",
        "print('chi2 stat: ',x2, 'p-value: ',p)\n",
        "\n",
        "# also not statistically different. So no discontinuity"
      ]
    },
    {
      "cell_type": "code",
      "execution_count": null,
      "metadata": {
        "id": "mpbMGGJWV2lK"
      },
      "outputs": [],
      "source": [
        "sns.scatterpoint()"
      ]
    },
    {
      "cell_type": "markdown",
      "metadata": {
        "id": "_K64tGMnX80q"
      },
      "source": [
        "**Scatter plot of Expected Recovery Amount (X) versus Actual Recovery Amount (Y) for Expected Recovery Amounts between 900 to 1100**\n",
        "\n",
        "A key question is whether or not we see a discontinuity (jump) around the $1000 threshold."
      ]
    },
    {
      "cell_type": "code",
      "execution_count": null,
      "metadata": {
        "colab": {
          "base_uri": "https://localhost:8080/",
          "height": 339
        },
        "id": "YV-sITotX-PI",
        "outputId": "f5459300-1551-43e7-ae9a-4935a622caf8"
      },
      "outputs": [
        {
          "data": {
            "image/png": "[encoded data removed]",
            "text/plain": [
              "<Figure size 720x360 with 1 Axes>"
            ]
          },
          "metadata": {},
          "output_type": "display_data"
        }
      ],
      "source": [
        "sns.scatterplot(x = df.expected_recovery_amount, y = df.actual_recovery_amount)\n",
        "plt.xlim(900,1200)\n",
        "plt.ylim(0,2000);"
      ]
    },
    {
      "cell_type": "code",
      "execution_count": null,
      "metadata": {
        "id": "_ZOJTZGuYZhV"
      },
      "outputs": [],
      "source": [
        "# Numerical vs Numerical so can use t-test, or Kruskal test\n",
        "# lets use both"
      ]
    },
    {
      "cell_type": "code",
      "execution_count": null,
      "metadata": {
        "colab": {
          "base_uri": "https://localhost:8080/"
        },
        "id": "E03PMo_PY3-b",
        "outputId": "a54e2937-5568-4cc3-88a0-18d7671baf0d"
      },
      "outputs": [
        {
          "name": "stdout",
          "output_type": "stream",
          "text": [
            "Single t-test:  Ttest_indResult(statistic=-8.752120480758053, pvalue=1.4447438647832293e-15)\n",
            "Kruskal test:  KruskalResult(statistic=65.37966302528878, pvalue=6.177308752803109e-16)\n"
          ]
        }
      ],
      "source": [
        "df_900_1100 = df.loc[(df.expected_recovery_amount < 1100) & \n",
        "                    (df.expected_recovery_amount >= 900)]\n",
        "\n",
        "df_900_1100_test = df_900_1100.groupby('recovery_strategy')['actual_recovery_amount'].apply(list)\n",
        "\n",
        "\n",
        "\n",
        "print('Single t-test: ', stats.ttest_ind(*df_900_1100_test))\n",
        "print('Kruskal test: ', stats.kruskal(*df_900_1100_test))"
      ]
    },
    {
      "cell_type": "markdown",
      "metadata": {
        "id": "NACUnk8DZ6WY"
      },
      "source": [
        "**Those statistical tests were done so we know that non of those features affect the recovery amount at each threshold. Thats why we focused on the 900-1100 area so we can analyze if theres any change at the threshold level**"
      ]
    },
    {
      "cell_type": "markdown",
      "metadata": {
        "id": "ctuCNkR5bidD"
      },
      "source": [
        "**Regression Modelling**"
      ]
    },
    {
      "cell_type": "code",
      "execution_count": null,
      "metadata": {
        "colab": {
          "base_uri": "https://localhost:8080/"
        },
        "id": "b5MV0ZlWbkJq",
        "outputId": "ac3be769-2bb1-48af-ebbe-b667ade3102b"
      },
      "outputs": [
        {
          "name": "stdout",
          "output_type": "stream",
          "text": [
            "                              OLS Regression Results                              \n",
            "==================================================================================\n",
            "Dep. Variable:     actual_recovery_amount   R-squared:                       0.261\n",
            "Model:                                OLS   Adj. R-squared:                  0.256\n",
            "Method:                     Least Squares   F-statistic:                     63.78\n",
            "Date:                    Sat, 24 Sep 2022   Prob (F-statistic):           1.56e-13\n",
            "Time:                            12:27:26   Log-Likelihood:                -1278.9\n",
            "No. Observations:                     183   AIC:                             2562.\n",
            "Df Residuals:                         181   BIC:                             2568.\n",
            "Df Model:                               1                                         \n",
            "Covariance Type:                nonrobust                                         \n",
            "============================================================================================\n",
            "                               coef    std err          t      P>|t|      [0.025      0.975]\n",
            "--------------------------------------------------------------------------------------------\n",
            "expected_recovery_amount     2.7577      0.345      7.986      0.000       2.076       3.439\n",
            "const                    -1978.7597    347.741     -5.690      0.000   -2664.907   -1292.612\n",
            "==============================================================================\n",
            "Omnibus:                       64.493   Durbin-Watson:                   1.777\n",
            "Prob(Omnibus):                  0.000   Jarque-Bera (JB):              185.818\n",
            "Skew:                           1.463   Prob(JB):                     4.47e-41\n",
            "Kurtosis:                       6.977   Cond. No.                     1.80e+04\n",
            "==============================================================================\n",
            "\n",
            "Notes:\n",
            "[1] Standard Errors assume that the covariance matrix of the errors is correctly specified.\n",
            "[2] The condition number is large, 1.8e+04. This might indicate that there are\n",
            "strong multicollinearity or other numerical problems.\n"
          ]
        }
      ],
      "source": [
        "import statsmodels.api as sm\n",
        "\n",
        "\n",
        "y = df_900_1100[['actual_recovery_amount']]\n",
        "X = df_900_1100[['expected_recovery_amount']].assign(const=1)\n",
        "\n",
        "model = sm.OLS(y, X).fit()\n",
        "prediction = model.predict(X)\n",
        "\n",
        "print(model.summary())"
      ]
    },
    {
      "cell_type": "markdown",
      "metadata": {
        "id": "GYatu-68eFa5"
      },
      "source": [
        "**Interpretation:**\n",
        "\n",
        "* the coef is statistically significant.\n",
        "* The coef for this model actually measures the size of discontinuity for customers jsut around the 1000 threshold\n",
        "* Since coef is small, it indicates no discontinuity when Level 0 changes to Level 1\n"
      ]
    },
    {
      "cell_type": "markdown",
      "metadata": {
        "id": "_hanSqAbchMw"
      },
      "source": [
        "**Adding threshold**\n",
        "\n",
        "* Add indicator variable (0 or 1) that represents whether the expected recovery amount was greater than 1000\n",
        "* If the higher recovery strategy helped recovery more money, then the regression coefficient of the true threshold will be greater than zero. If the higher recovery strategy did not help recovery more money, then the regression coefficient will not be statistically significant."
      ]
    },
    {
      "cell_type": "code",
      "execution_count": null,
      "metadata": {
        "colab": {
          "base_uri": "https://localhost:8080/",
          "height": 612
        },
        "id": "sdMUS-Z6b7GB",
        "outputId": "6ce8e4f6-2a40-49ff-d034-3c58753f8c71"
      },
      "outputs": [
        {
          "name": "stderr",
          "output_type": "stream",
          "text": [
            "/usr/local/lib/python3.7/dist-packages/ipykernel_launcher.py:1: SettingWithCopyWarning: \n",
            "A value is trying to be set on a copy of a slice from a DataFrame.\n",
            "Try using .loc[row_indexer,col_indexer] = value instead\n",
            "\n",
            "See the caveats in the documentation: https://pandas.pydata.org/pandas-docs/stable/user_guide/indexing.html#returning-a-view-versus-a-copy\n",
            "  \"\"\"Entry point for launching an IPython kernel.\n"
          ]
        },
        {
          "data": {
            "text/html": [
              "<table class=\"simpletable\">\n",
              "<caption>OLS Regression Results</caption>\n",
              "<tr>\n",
              "  <th>Dep. Variable:</th>    <td>actual_recovery_amount</td> <th>  R-squared:         </th> <td>   0.314</td>\n",
              "</tr>\n",
              "<tr>\n",
              "  <th>Model:</th>                      <td>OLS</td>          <th>  Adj. R-squared:    </th> <td>   0.307</td>\n",
              "</tr>\n",
              "<tr>\n",
              "  <th>Method:</th>                <td>Least Squares</td>     <th>  F-statistic:       </th> <td>   41.22</td>\n",
              "</tr>\n",
              "<tr>\n",
              "  <th>Date:</th>                <td>Sat, 24 Sep 2022</td>    <th>  Prob (F-statistic):</th> <td>1.83e-15</td>\n",
              "</tr>\n",
              "<tr>\n",
              "  <th>Time:</th>                    <td>12:40:32</td>        <th>  Log-Likelihood:    </th> <td> -1272.0</td>\n",
              "</tr>\n",
              "<tr>\n",
              "  <th>No. Observations:</th>         <td>   183</td>         <th>  AIC:               </th> <td>   2550.</td>\n",
              "</tr>\n",
              "<tr>\n",
              "  <th>Df Residuals:</th>             <td>   180</td>         <th>  BIC:               </th> <td>   2560.</td>\n",
              "</tr>\n",
              "<tr>\n",
              "  <th>Df Model:</th>                 <td>     2</td>         <th>                     </th>     <td> </td>   \n",
              "</tr>\n",
              "<tr>\n",
              "  <th>Covariance Type:</th>         <td>nonrobust</td>       <th>                     </th>     <td> </td>   \n",
              "</tr>\n",
              "</table>\n",
              "<table class=\"simpletable\">\n",
              "<tr>\n",
              "              <td></td>                <th>coef</th>     <th>std err</th>      <th>t</th>      <th>P>|t|</th>  <th>[0.025</th>    <th>0.975]</th>  \n",
              "</tr>\n",
              "<tr>\n",
              "  <th>expected_recovery_amount</th> <td>    0.6430</td> <td>    0.655</td> <td>    0.981</td> <td> 0.328</td> <td>   -0.650</td> <td>    1.936</td>\n",
              "</tr>\n",
              "<tr>\n",
              "  <th>indicator_1000</th>           <td>  277.6344</td> <td>   74.043</td> <td>    3.750</td> <td> 0.000</td> <td>  131.530</td> <td>  423.739</td>\n",
              "</tr>\n",
              "<tr>\n",
              "  <th>const</th>                    <td>    3.3440</td> <td>  626.274</td> <td>    0.005</td> <td> 0.996</td> <td>-1232.440</td> <td> 1239.128</td>\n",
              "</tr>\n",
              "</table>\n",
              "<table class=\"simpletable\">\n",
              "<tr>\n",
              "  <th>Omnibus:</th>       <td>65.977</td> <th>  Durbin-Watson:     </th> <td>   1.906</td>\n",
              "</tr>\n",
              "<tr>\n",
              "  <th>Prob(Omnibus):</th> <td> 0.000</td> <th>  Jarque-Bera (JB):  </th> <td> 186.537</td>\n",
              "</tr>\n",
              "<tr>\n",
              "  <th>Skew:</th>          <td> 1.510</td> <th>  Prob(JB):          </th> <td>3.12e-41</td>\n",
              "</tr>\n",
              "<tr>\n",
              "  <th>Kurtosis:</th>      <td> 6.917</td> <th>  Cond. No.          </th> <td>3.37e+04</td>\n",
              "</tr>\n",
              "</table><br/><br/>Notes:<br/>[1] Standard Errors assume that the covariance matrix of the errors is correctly specified.<br/>[2] The condition number is large, 3.37e+04. This might indicate that there are<br/>strong multicollinearity or other numerical problems."
            ],
            "text/plain": [
              "<class 'statsmodels.iolib.summary.Summary'>\n",
              "\"\"\"\n",
              "                              OLS Regression Results                              \n",
              "==================================================================================\n",
              "Dep. Variable:     actual_recovery_amount   R-squared:                       0.314\n",
              "Model:                                OLS   Adj. R-squared:                  0.307\n",
              "Method:                     Least Squares   F-statistic:                     41.22\n",
              "Date:                    Sat, 24 Sep 2022   Prob (F-statistic):           1.83e-15\n",
              "Time:                            12:40:32   Log-Likelihood:                -1272.0\n",
              "No. Observations:                     183   AIC:                             2550.\n",
              "Df Residuals:                         180   BIC:                             2560.\n",
              "Df Model:                               2                                         \n",
              "Covariance Type:                nonrobust                                         \n",
              "============================================================================================\n",
              "                               coef    std err          t      P>|t|      [0.025      0.975]\n",
              "--------------------------------------------------------------------------------------------\n",
              "expected_recovery_amount     0.6430      0.655      0.981      0.328      -0.650       1.936\n",
              "indicator_1000             277.6344     74.043      3.750      0.000     131.530     423.739\n",
              "const                        3.3440    626.274      0.005      0.996   -1232.440    1239.128\n",
              "==============================================================================\n",
              "Omnibus:                       65.977   Durbin-Watson:                   1.906\n",
              "Prob(Omnibus):                  0.000   Jarque-Bera (JB):              186.537\n",
              "Skew:                           1.510   Prob(JB):                     3.12e-41\n",
              "Kurtosis:                       6.917   Cond. No.                     3.37e+04\n",
              "==============================================================================\n",
              "\n",
              "Notes:\n",
              "[1] Standard Errors assume that the covariance matrix of the errors is correctly specified.\n",
              "[2] The condition number is large, 3.37e+04. This might indicate that there are\n",
              "strong multicollinearity or other numerical problems.\n",
              "\"\"\""
            ]
          },
          "execution_count": 376,
          "metadata": {},
          "output_type": "execute_result"
        }
      ],
      "source": [
        "df_900_1100['indicator_1000'] = np.where(df_900_1100.expected_recovery_amount < 1000, 0 , 1)\n",
        "\n",
        "# Define X and y\n",
        "X = df_900_1100[['expected_recovery_amount', 'indicator_1000']].assign(const=1)\n",
        "y = df_900_1100.actual_recovery_amount \n",
        "\n",
        "# Build linear regression model\n",
        "model = sm.OLS(y, X).fit()\n",
        "model.summary()"
      ]
    },
    {
      "cell_type": "markdown",
      "metadata": {
        "id": "PAiDtiUbg6FL"
      },
      "source": [
        "**Results:**\n",
        "The regression coefficient for the true threshold was statistically significant with an estimated impact of around 278. This is much larger than the 50 per customer needed to run this higher recovery strategy.\n",
        "\n",
        "This means different recovery strategies run by the bank works! and they are recoverying more!\n",
        "\n",
        "**BUT, this was only modelled at the 900-1100 threshold**\n",
        "\n",
        "\n",
        "\n"
      ]
    },
    {
      "cell_type": "code",
      "execution_count": null,
      "metadata": {
        "colab": {
          "base_uri": "https://localhost:8080/",
          "height": 612
        },
        "id": "hjcqqfCnhtSM",
        "outputId": "d9f20759-f7bf-46b7-b166-37a34331b2b9"
      },
      "outputs": [
        {
          "name": "stderr",
          "output_type": "stream",
          "text": [
            "/usr/local/lib/python3.7/dist-packages/ipykernel_launcher.py:6: SettingWithCopyWarning: \n",
            "A value is trying to be set on a copy of a slice from a DataFrame.\n",
            "Try using .loc[row_indexer,col_indexer] = value instead\n",
            "\n",
            "See the caveats in the documentation: https://pandas.pydata.org/pandas-docs/stable/user_guide/indexing.html#returning-a-view-versus-a-copy\n",
            "  \n"
          ]
        },
        {
          "data": {
            "text/html": [
              "<table class=\"simpletable\">\n",
              "<caption>OLS Regression Results</caption>\n",
              "<tr>\n",
              "  <th>Dep. Variable:</th>    <td>actual_recovery_amount</td> <th>  R-squared:         </th> <td>   0.283</td>\n",
              "</tr>\n",
              "<tr>\n",
              "  <th>Model:</th>                      <td>OLS</td>          <th>  Adj. R-squared:    </th> <td>   0.269</td>\n",
              "</tr>\n",
              "<tr>\n",
              "  <th>Method:</th>                <td>Least Squares</td>     <th>  F-statistic:       </th> <td>   18.99</td>\n",
              "</tr>\n",
              "<tr>\n",
              "  <th>Date:</th>                <td>Sat, 24 Sep 2022</td>    <th>  Prob (F-statistic):</th> <td>1.12e-07</td>\n",
              "</tr>\n",
              "<tr>\n",
              "  <th>Time:</th>                    <td>12:46:45</td>        <th>  Log-Likelihood:    </th> <td> -692.92</td>\n",
              "</tr>\n",
              "<tr>\n",
              "  <th>No. Observations:</th>         <td>    99</td>         <th>  AIC:               </th> <td>   1392.</td>\n",
              "</tr>\n",
              "<tr>\n",
              "  <th>Df Residuals:</th>             <td>    96</td>         <th>  BIC:               </th> <td>   1400.</td>\n",
              "</tr>\n",
              "<tr>\n",
              "  <th>Df Model:</th>                 <td>     2</td>         <th>                     </th>     <td> </td>   \n",
              "</tr>\n",
              "<tr>\n",
              "  <th>Covariance Type:</th>         <td>nonrobust</td>       <th>                     </th>     <td> </td>   \n",
              "</tr>\n",
              "</table>\n",
              "<table class=\"simpletable\">\n",
              "<tr>\n",
              "              <td></td>                <th>coef</th>     <th>std err</th>      <th>t</th>      <th>P>|t|</th>  <th>[0.025</th>    <th>0.975]</th>  \n",
              "</tr>\n",
              "<tr>\n",
              "  <th>expected_recovery_amount</th> <td>    0.9189</td> <td>    1.886</td> <td>    0.487</td> <td> 0.627</td> <td>   -2.825</td> <td>    4.663</td>\n",
              "</tr>\n",
              "<tr>\n",
              "  <th>indicator_1000</th>           <td>  286.5337</td> <td>  111.352</td> <td>    2.573</td> <td> 0.012</td> <td>   65.502</td> <td>  507.566</td>\n",
              "</tr>\n",
              "<tr>\n",
              "  <th>const</th>                    <td> -279.5243</td> <td> 1840.707</td> <td>   -0.152</td> <td> 0.880</td> <td>-3933.298</td> <td> 3374.250</td>\n",
              "</tr>\n",
              "</table>\n",
              "<table class=\"simpletable\">\n",
              "<tr>\n",
              "  <th>Omnibus:</th>       <td>39.302</td> <th>  Durbin-Watson:     </th> <td>   1.955</td>\n",
              "</tr>\n",
              "<tr>\n",
              "  <th>Prob(Omnibus):</th> <td> 0.000</td> <th>  Jarque-Bera (JB):  </th> <td>  82.258</td>\n",
              "</tr>\n",
              "<tr>\n",
              "  <th>Skew:</th>          <td> 1.564</td> <th>  Prob(JB):          </th> <td>1.37e-18</td>\n",
              "</tr>\n",
              "<tr>\n",
              "  <th>Kurtosis:</th>      <td> 6.186</td> <th>  Cond. No.          </th> <td>6.81e+04</td>\n",
              "</tr>\n",
              "</table><br/><br/>Notes:<br/>[1] Standard Errors assume that the covariance matrix of the errors is correctly specified.<br/>[2] The condition number is large, 6.81e+04. This might indicate that there are<br/>strong multicollinearity or other numerical problems."
            ],
            "text/plain": [
              "<class 'statsmodels.iolib.summary.Summary'>\n",
              "\"\"\"\n",
              "                              OLS Regression Results                              \n",
              "==================================================================================\n",
              "Dep. Variable:     actual_recovery_amount   R-squared:                       0.283\n",
              "Model:                                OLS   Adj. R-squared:                  0.269\n",
              "Method:                     Least Squares   F-statistic:                     18.99\n",
              "Date:                    Sat, 24 Sep 2022   Prob (F-statistic):           1.12e-07\n",
              "Time:                            12:46:45   Log-Likelihood:                -692.92\n",
              "No. Observations:                      99   AIC:                             1392.\n",
              "Df Residuals:                          96   BIC:                             1400.\n",
              "Df Model:                               2                                         \n",
              "Covariance Type:                nonrobust                                         \n",
              "============================================================================================\n",
              "                               coef    std err          t      P>|t|      [0.025      0.975]\n",
              "--------------------------------------------------------------------------------------------\n",
              "expected_recovery_amount     0.9189      1.886      0.487      0.627      -2.825       4.663\n",
              "indicator_1000             286.5337    111.352      2.573      0.012      65.502     507.566\n",
              "const                     -279.5243   1840.707     -0.152      0.880   -3933.298    3374.250\n",
              "==============================================================================\n",
              "Omnibus:                       39.302   Durbin-Watson:                   1.955\n",
              "Prob(Omnibus):                  0.000   Jarque-Bera (JB):               82.258\n",
              "Skew:                           1.564   Prob(JB):                     1.37e-18\n",
              "Kurtosis:                       6.186   Cond. No.                     6.81e+04\n",
              "==============================================================================\n",
              "\n",
              "Notes:\n",
              "[1] Standard Errors assume that the covariance matrix of the errors is correctly specified.\n",
              "[2] The condition number is large, 6.81e+04. This might indicate that there are\n",
              "strong multicollinearity or other numerical problems.\n",
              "\"\"\""
            ]
          },
          "execution_count": 377,
          "metadata": {},
          "output_type": "execute_result"
        }
      ],
      "source": [
        "# Decrease window to 950 - 1050\n",
        "df_950_1050 = df.loc[(df['expected_recovery_amount']<1050) & \n",
        "                      (df['expected_recovery_amount']>=950)]\n",
        "\n",
        "\n",
        "df_950_1050['indicator_1000'] = np.where(df_950_1050.expected_recovery_amount < 1000, 0 , 1)\n",
        "\n",
        "X = df_950_1050[['expected_recovery_amount', 'indicator_1000']].assign(const=1)\n",
        "y = df_950_1050['actual_recovery_amount']\n",
        "\n",
        "model = sm.OLS(y, X).fit()\n",
        "\n",
        "model.summary()"
      ]
    },
    {
      "cell_type": "markdown",
      "metadata": {
        "id": "-rREpIfkiXd_"
      },
      "source": [
        "## **Conclusion:**\n",
        "\n",
        "The banks different strategies for different debt recovery actually works!\n",
        "\n",
        "And it is well worth the $50 cost per customer"
      ]
    },
    {
      "cell_type": "markdown",
      "metadata": {
        "id": "491UEZWOVy12"
      },
      "source": [
        "# **One Sample Proportion Test: z-test**\n",
        "\n",
        "Single variable test\n",
        "* H0: $\\bar{x} = u$\n",
        "* Ha: $\\bar{x} \\neq u$\n",
        "\n",
        "$z = \\frac{sample stat - population parameter}{standard error}$\n",
        "\n",
        "A z-test can only be used if the population standard deviation is known and the sample size is 30 data points or larger."
      ]
    },
    {
      "cell_type": "code",
      "execution_count": null,
      "metadata": {
        "id": "Bu5O7XzeWV46"
      },
      "outputs": [],
      "source": [
        "import numpy as np\n",
        "import pandas as pd\n",
        "\n",
        "import seaborn as sns\n",
        "import matplotlib.pyplot as plt\n",
        "\n",
        "from scipy.stats import norm"
      ]
    },
    {
      "cell_type": "code",
      "execution_count": null,
      "metadata": {
        "colab": {
          "base_uri": "https://localhost:8080/"
        },
        "id": "Xs_uT2J7WQDe",
        "outputId": "c4a6387d-b01e-4982-c877-073d853c987b"
      },
      "outputs": [
        {
          "data": {
            "text/plain": [
              "0.061"
            ]
          },
          "execution_count": 14,
          "metadata": {},
          "output_type": "execute_result"
        }
      ],
      "source": [
        "late_shipments = pd.read_feather('https://assets.datacamp.com/production/repositories/5982/datasets/887ec4bc2bcfd4195e7d3ad113168555f36d3afa/late_shipments.feather')"
      ]
    },
    {
      "cell_type": "code",
      "execution_count": null,
      "metadata": {
        "colab": {
          "base_uri": "https://localhost:8080/"
        },
        "id": "n20tT8dpWVT7",
        "outputId": "98b5d228-275d-45f9-c9b9-cd7d9c192b58"
      },
      "outputs": [
        {
          "name": "stdout",
          "output_type": "stream",
          "text": [
            "sample_mean:  0.061\n",
            "z_score:  0.13351134846461962 p-value:  0.806888876457349\n",
            "Failed to reject Null Hypothesis. The sample mean and population mean has no significant differnce\n"
          ]
        }
      ],
      "source": [
        "# First, lets have a look at sample mean\n",
        "sample_mean = (late_shipments['late'] == 'Yes').mean()\n",
        "print('sample_mean: ', sample_mean)\n",
        "\n",
        "\n",
        "# Check test if it is statistically significant\n",
        "std_error = 0.00749 # The std error\n",
        "late_prop_hyp = 0.06 # Our Null Hypothesis\n",
        "\n",
        "z_score = (sample_mean - late_prop_hyp) / std_error\n",
        "\n",
        "p_value = norm.cdf(1 - z_score)\n",
        "\n",
        "\n",
        "print('z_score: ', z_score, 'p-value: ', p_value)\n",
        "\n",
        "if p_value > 0.05:\n",
        "  print('Failed to reject Null Hypothesis. The sample mean and population mean has no significant differnce')"
      ]
    },
    {
      "cell_type": "markdown",
      "metadata": {
        "id": "9nNyJbU3Y3-w"
      },
      "source": [
        "# **Two-Sample: ANOVA and t-test**\n",
        "*t-distribution is a fat tailed normal distribution*\n",
        "\n",
        "What if we want to compare sample vs sample? we cannot use z-test\n",
        "\n",
        "* H0: $u_1 = u_2$  \n",
        "* Ha: $u_1 \\neq u_2$\n",
        "\n",
        "Does Response Variable's mean differ between sample groups?\n"
      ]
    },
    {
      "cell_type": "code",
      "execution_count": null,
      "metadata": {
        "id": "ncjRsfWpc0mx"
      },
      "outputs": [],
      "source": [
        "from scipy import stats # for single pair "
      ]
    },
    {
      "cell_type": "code",
      "execution_count": null,
      "metadata": {
        "colab": {
          "base_uri": "https://localhost:8080/"
        },
        "id": "cuQwKfuBenyv",
        "outputId": "ee667dc5-5669-4214-aecf-af0ebb34ec17"
      },
      "outputs": [
        {
          "data": {
            "text/plain": [
              "late_delivery\n",
              "0.0    35.951076\n",
              "1.0    46.110984\n",
              "Name: pack_price, dtype: float64"
            ]
          },
          "execution_count": 59,
          "metadata": {},
          "output_type": "execute_result"
        }
      ],
      "source": [
        "late_shipments.groupby('late_delivery')['pack_price'].mean()"
      ]
    },
    {
      "cell_type": "markdown",
      "metadata": {
        "id": "rOGVfmq3lWmd"
      },
      "source": [
        "## **Single Pair**"
      ]
    },
    {
      "cell_type": "code",
      "execution_count": null,
      "metadata": {
        "colab": {
          "base_uri": "https://localhost:8080/"
        },
        "id": "77FKgJ5Reu9Y",
        "outputId": "32e9cd41-18ef-4a46-bacd-51609b037e4d"
      },
      "outputs": [
        {
          "name": "stdout",
          "output_type": "stream",
          "text": [
            "t-stat:  -1.6163251640221612 p-value:  0.10634006467955008\n"
          ]
        }
      ],
      "source": [
        "late_delivery_test = late_shipments.groupby('late_delivery')['pack_price'].apply(list)\n",
        "\n",
        "# Single Pair t-test\n",
        "t, p = stats.ttest_ind(late_delivery_test[0], late_delivery_test[1])\n",
        "print('t-stat: ', t, 'p-value: ', p)"
      ]
    },
    {
      "cell_type": "code",
      "execution_count": null,
      "metadata": {
        "colab": {
          "base_uri": "https://localhost:8080/",
          "height": 296
        },
        "id": "MdHWYanzgwT7",
        "outputId": "9dc5eaa8-22f1-4b0c-94f0-1a432a985318"
      },
      "outputs": [
        {
          "data": {
            "image/png": "[encoded data removed]",
            "text/plain": [
              "<Figure size 432x288 with 1 Axes>"
            ]
          },
          "metadata": {},
          "output_type": "display_data"
        }
      ],
      "source": [
        "sns.boxplot(data=late_shipments,\n",
        "            x='late_delivery',\n",
        "            y='pack_price');\n",
        "\n",
        "plt.title('Looks significantly different, but we have outliers');"
      ]
    },
    {
      "cell_type": "markdown",
      "metadata": {
        "id": "fUykGKrjiQ_I"
      },
      "source": [
        "## **Pairwise: Tuskey's HSD**"
      ]
    },
    {
      "cell_type": "code",
      "execution_count": null,
      "metadata": {
        "id": "DnxebdMqqcp7"
      },
      "outputs": [],
      "source": [
        "from statsmodels.stats.multicomp import MultiComparison # for multiple Pairwise tests\n",
        "from statsmodels.stats.multicomp import pairwise_tukeyhsd"
      ]
    },
    {
      "cell_type": "code",
      "execution_count": null,
      "metadata": {
        "colab": {
          "base_uri": "https://localhost:8080/"
        },
        "id": "-MsF226mc6jk",
        "outputId": "6b62ed80-0c46-40f7-c110-ce8cc3befc3a"
      },
      "outputs": [
        {
          "data": {
            "text/plain": [
              "shipment_mode\n",
              "Air            39.712395\n",
              "Air Charter     4.226667\n",
              "Ocean           6.432273\n",
              "Name: pack_price, dtype: float64"
            ]
          },
          "execution_count": 48,
          "metadata": {},
          "output_type": "execute_result"
        }
      ],
      "source": [
        "late_shipments.groupby('shipment_mode')['pack_price'].mean()"
      ]
    },
    {
      "cell_type": "code",
      "execution_count": null,
      "metadata": {
        "colab": {
          "base_uri": "https://localhost:8080/"
        },
        "id": "CHNR9IyCWQWP",
        "outputId": "374ab0cf-0c44-4298-8c6c-b4a4a11fa151"
      },
      "outputs": [
        {
          "name": "stdout",
          "output_type": "stream",
          "text": [
            "      Multiple Comparison of Means - Tukey HSD, FWER=0.05      \n",
            "===============================================================\n",
            "   group1      group2   meandiff p-adj  lower    upper   reject\n",
            "---------------------------------------------------------------\n",
            "        Air Air Charter -35.4857 0.152 -80.3336   9.3621  False\n",
            "        Air       Ocean -33.2801 0.001 -45.5058 -21.0545   True\n",
            "Air Charter       Ocean   2.2056   0.9 -43.9932  48.4044  False\n",
            "---------------------------------------------------------------\n"
          ]
        }
      ],
      "source": [
        "mc = MultiComparison(late_shipments.pack_price, late_shipments.shipment_mode)\n",
        "print(mc.tukeyhsd())"
      ]
    },
    {
      "cell_type": "code",
      "execution_count": null,
      "metadata": {
        "colab": {
          "base_uri": "https://localhost:8080/",
          "height": 296
        },
        "id": "UzNpSd3DWQdF",
        "outputId": "83bc9dd5-e1a4-4b67-d707-d24d7c2273fc"
      },
      "outputs": [
        {
          "data": {
            "image/png": "[encoded data removed]",
            "text/plain": [
              "<Figure size 432x288 with 1 Axes>"
            ]
          },
          "metadata": {},
          "output_type": "display_data"
        }
      ],
      "source": [
        "sns.boxplot(data=late_shipments, \n",
        "            y='pack_price',\n",
        "            x='shipment_mode');\n",
        "\n",
        "plt.title('Massive Outliers. Not good');"
      ]
    },
    {
      "cell_type": "markdown",
      "metadata": {
        "id": "MteA77XdnrFa"
      },
      "source": [
        "# **Chi-Square Test of Independence**\n",
        "If proportions across categories are same = Independent\n",
        "\n",
        "**Statistical independence** \n",
        "\n",
        "proportion of successes in the response variable is the same across all categories of the explnatory variable"
      ]
    },
    {
      "cell_type": "code",
      "execution_count": null,
      "metadata": {
        "colab": {
          "base_uri": "https://localhost:8080/",
          "height": 206
        },
        "id": "7Bm5LvWSsoLu",
        "outputId": "b2089ebc-89eb-4f77-92ea-e321acbadbff"
      },
      "outputs": [
        {
          "data": {
            "text/html": [
              "\n",
              "  <div id=\"df-ee70b599-fe9e-4d18-8dcf-afa9f689438f\">\n",
              "    <div class=\"colab-df-container\">\n",
              "      <div>\n",
              "<style scoped>\n",
              "    .dataframe tbody tr th:only-of-type {\n",
              "        vertical-align: middle;\n",
              "    }\n",
              "\n",
              "    .dataframe tbody tr th {\n",
              "        vertical-align: top;\n",
              "    }\n",
              "\n",
              "    .dataframe thead th {\n",
              "        text-align: right;\n",
              "    }\n",
              "</style>\n",
              "<table border=\"1\" class=\"dataframe\">\n",
              "  <thead>\n",
              "    <tr style=\"text-align: right;\">\n",
              "      <th>freight_cost_groups</th>\n",
              "      <th>expensive</th>\n",
              "      <th>reasonable</th>\n",
              "    </tr>\n",
              "    <tr>\n",
              "      <th>vendor_inco_term</th>\n",
              "      <th></th>\n",
              "      <th></th>\n",
              "    </tr>\n",
              "  </thead>\n",
              "  <tbody>\n",
              "    <tr>\n",
              "      <th>CIP</th>\n",
              "      <td>0.320000</td>\n",
              "      <td>0.680000</td>\n",
              "    </tr>\n",
              "    <tr>\n",
              "      <th>DDP</th>\n",
              "      <td>0.550000</td>\n",
              "      <td>0.450000</td>\n",
              "    </tr>\n",
              "    <tr>\n",
              "      <th>EXW</th>\n",
              "      <td>0.583448</td>\n",
              "      <td>0.416552</td>\n",
              "    </tr>\n",
              "    <tr>\n",
              "      <th>FCA</th>\n",
              "      <td>0.336364</td>\n",
              "      <td>0.663636</td>\n",
              "    </tr>\n",
              "  </tbody>\n",
              "</table>\n",
              "</div>\n",
              "      <button class=\"colab-df-convert\" onclick=\"convertToInteractive('df-ee70b599-fe9e-4d18-8dcf-afa9f689438f')\"\n",
              "              title=\"Convert this dataframe to an interactive table.\"\n",
              "              style=\"display:none;\">\n",
              "        \n",
              "  <svg xmlns=\"http://www.w3.org/2000/svg\" height=\"24px\"viewBox=\"0 0 24 24\"\n",
              "       width=\"24px\">\n",
              "    <path d=\"M0 0h24v24H0V0z\" fill=\"none\"/>\n",
              "    <path d=\"M18.56 5.44l.94 2.06.94-2.06 2.06-.94-2.06-.94-.94-2.06-.94 2.06-2.06.94zm-11 1L8.5 8.5l.94-2.06 2.06-.94-2.06-.94L8.5 2.5l-.94 2.06-2.06.94zm10 10l.94 2.06.94-2.06 2.06-.94-2.06-.94-.94-2.06-.94 2.06-2.06.94z\"/><path d=\"M17.41 7.96l-1.37-1.37c-.4-.4-.92-.59-1.43-.59-.52 0-1.04.2-1.43.59L10.3 9.45l-7.72 7.72c-.78.78-.78 2.05 0 2.83L4 21.41c.39.39.9.59 1.41.59.51 0 1.02-.2 1.41-.59l7.78-7.78 2.81-2.81c.8-.78.8-2.07 0-2.86zM5.41 20L4 18.59l7.72-7.72 1.47 1.35L5.41 20z\"/>\n",
              "  </svg>\n",
              "      </button>\n",
              "      \n",
              "  <style>\n",
              "    .colab-df-container {\n",
              "      display:flex;\n",
              "      flex-wrap:wrap;\n",
              "      gap: 12px;\n",
              "    }\n",
              "\n",
              "    .colab-df-convert {\n",
              "      background-color: #E8F0FE;\n",
              "      border: none;\n",
              "      border-radius: 50%;\n",
              "      cursor: pointer;\n",
              "      display: none;\n",
              "      fill: #1967D2;\n",
              "      height: 32px;\n",
              "      padding: 0 0 0 0;\n",
              "      width: 32px;\n",
              "    }\n",
              "\n",
              "    .colab-df-convert:hover {\n",
              "      background-color: #E2EBFA;\n",
              "      box-shadow: 0px 1px 2px rgba(60, 64, 67, 0.3), 0px 1px 3px 1px rgba(60, 64, 67, 0.15);\n",
              "      fill: #174EA6;\n",
              "    }\n",
              "\n",
              "    [theme=dark] .colab-df-convert {\n",
              "      background-color: #3B4455;\n",
              "      fill: #D2E3FC;\n",
              "    }\n",
              "\n",
              "    [theme=dark] .colab-df-convert:hover {\n",
              "      background-color: #434B5C;\n",
              "      box-shadow: 0px 1px 3px 1px rgba(0, 0, 0, 0.15);\n",
              "      filter: drop-shadow(0px 1px 2px rgba(0, 0, 0, 0.3));\n",
              "      fill: #FFFFFF;\n",
              "    }\n",
              "  </style>\n",
              "\n",
              "      <script>\n",
              "        const buttonEl =\n",
              "          document.querySelector('#df-ee70b599-fe9e-4d18-8dcf-afa9f689438f button.colab-df-convert');\n",
              "        buttonEl.style.display =\n",
              "          google.colab.kernel.accessAllowed ? 'block' : 'none';\n",
              "\n",
              "        async function convertToInteractive(key) {\n",
              "          const element = document.querySelector('#df-ee70b599-fe9e-4d18-8dcf-afa9f689438f');\n",
              "          const dataTable =\n",
              "            await google.colab.kernel.invokeFunction('convertToInteractive',\n",
              "                                                     [key], {});\n",
              "          if (!dataTable) return;\n",
              "\n",
              "          const docLinkHtml = 'Like what you see? Visit the ' +\n",
              "            '<a target=\"_blank\" href=https://colab.research.google.com/notebooks/data_table.ipynb>data table notebook</a>'\n",
              "            + ' to learn more about interactive tables.';\n",
              "          element.innerHTML = '';\n",
              "          dataTable['output_type'] = 'display_data';\n",
              "          await google.colab.output.renderOutput(dataTable, element);\n",
              "          const docLink = document.createElement('div');\n",
              "          docLink.innerHTML = docLinkHtml;\n",
              "          element.appendChild(docLink);\n",
              "        }\n",
              "      </script>\n",
              "    </div>\n",
              "  </div>\n",
              "  "
            ],
            "text/plain": [
              "freight_cost_groups  expensive  reasonable\n",
              "vendor_inco_term                          \n",
              "CIP                   0.320000    0.680000\n",
              "DDP                   0.550000    0.450000\n",
              "EXW                   0.583448    0.416552\n",
              "FCA                   0.336364    0.663636"
            ]
          },
          "execution_count": 155,
          "metadata": {},
          "output_type": "execute_result"
        }
      ],
      "source": [
        "props = late_shipments.groupby('vendor_inco_term')['freight_cost_groups'].value_counts(normalize=True)\n",
        "wide_props = props.unstack().dropna()\n",
        "wide_props"
      ]
    },
    {
      "cell_type": "code",
      "execution_count": null,
      "metadata": {
        "colab": {
          "base_uri": "https://localhost:8080/",
          "height": 293
        },
        "id": "svAr6vAhsoEV",
        "outputId": "078a4e76-1575-41ea-cf63-a6e76ddf41ab"
      },
      "outputs": [
        {
          "data": {
            "image/png": "[encoded data removed]",
            "text/plain": [
              "<Figure size 432x288 with 1 Axes>"
            ]
          },
          "metadata": {},
          "output_type": "display_data"
        }
      ],
      "source": [
        "wide_props.plot(kind='bar', stacked=True);"
      ]
    },
    {
      "cell_type": "code",
      "execution_count": null,
      "metadata": {
        "colab": {
          "base_uri": "https://localhost:8080/"
        },
        "id": "C5R1DXHwsnqX",
        "outputId": "1636369e-12e4-41fe-8fba-77e85854e347"
      },
      "outputs": [
        {
          "name": "stdout",
          "output_type": "stream",
          "text": [
            "t:  0.2329558052596161\n",
            "p-value:  0.02789846987131228\n"
          ]
        }
      ],
      "source": [
        "print('t: ', stats.chi2_contingency(observed=wide_props)[0])\n",
        "print('p-value: ', 1 - stats.chi2_contingency(observed=wide_props)[1]) # because X2 is a right tail test"
      ]
    },
    {
      "cell_type": "markdown",
      "metadata": {
        "id": "3g0LyuDAqtba"
      },
      "source": [
        "# **Chi-Square Goodness of Fit Test**\n",
        "Compares single cateogrical variable to hypothesised distribution\n",
        "\n",
        "H0: Sample distribution $=$ Hypothesied Distribution\n",
        "\n",
        "Ha: Sample distribution $\\neq$ Hypothesied Distribution"
      ]
    },
    {
      "cell_type": "code",
      "execution_count": null,
      "metadata": {
        "colab": {
          "base_uri": "https://localhost:8080/",
          "height": 175
        },
        "id": "oiAys11DwvZN",
        "outputId": "2f5e9e74-8760-4478-a4d1-28ed21a46e2d"
      },
      "outputs": [
        {
          "data": {
            "text/html": [
              "\n",
              "  <div id=\"df-29322c4b-4de2-4779-80ce-c7fb221f898e\">\n",
              "    <div class=\"colab-df-container\">\n",
              "      <div>\n",
              "<style scoped>\n",
              "    .dataframe tbody tr th:only-of-type {\n",
              "        vertical-align: middle;\n",
              "    }\n",
              "\n",
              "    .dataframe tbody tr th {\n",
              "        vertical-align: top;\n",
              "    }\n",
              "\n",
              "    .dataframe thead th {\n",
              "        text-align: right;\n",
              "    }\n",
              "</style>\n",
              "<table border=\"1\" class=\"dataframe\">\n",
              "  <thead>\n",
              "    <tr style=\"text-align: right;\">\n",
              "      <th></th>\n",
              "      <th>vendor_inco_term</th>\n",
              "      <th>prop</th>\n",
              "      <th>n</th>\n",
              "    </tr>\n",
              "  </thead>\n",
              "  <tbody>\n",
              "    <tr>\n",
              "      <th>0</th>\n",
              "      <td>CIP</td>\n",
              "      <td>0.05</td>\n",
              "      <td>50.0</td>\n",
              "    </tr>\n",
              "    <tr>\n",
              "      <th>1</th>\n",
              "      <td>DDP</td>\n",
              "      <td>0.10</td>\n",
              "      <td>100.0</td>\n",
              "    </tr>\n",
              "    <tr>\n",
              "      <th>2</th>\n",
              "      <td>EXW</td>\n",
              "      <td>0.75</td>\n",
              "      <td>750.0</td>\n",
              "    </tr>\n",
              "    <tr>\n",
              "      <th>3</th>\n",
              "      <td>FCA</td>\n",
              "      <td>0.10</td>\n",
              "      <td>100.0</td>\n",
              "    </tr>\n",
              "  </tbody>\n",
              "</table>\n",
              "</div>\n",
              "      <button class=\"colab-df-convert\" onclick=\"convertToInteractive('df-29322c4b-4de2-4779-80ce-c7fb221f898e')\"\n",
              "              title=\"Convert this dataframe to an interactive table.\"\n",
              "              style=\"display:none;\">\n",
              "        \n",
              "  <svg xmlns=\"http://www.w3.org/2000/svg\" height=\"24px\"viewBox=\"0 0 24 24\"\n",
              "       width=\"24px\">\n",
              "    <path d=\"M0 0h24v24H0V0z\" fill=\"none\"/>\n",
              "    <path d=\"M18.56 5.44l.94 2.06.94-2.06 2.06-.94-2.06-.94-.94-2.06-.94 2.06-2.06.94zm-11 1L8.5 8.5l.94-2.06 2.06-.94-2.06-.94L8.5 2.5l-.94 2.06-2.06.94zm10 10l.94 2.06.94-2.06 2.06-.94-2.06-.94-.94-2.06-.94 2.06-2.06.94z\"/><path d=\"M17.41 7.96l-1.37-1.37c-.4-.4-.92-.59-1.43-.59-.52 0-1.04.2-1.43.59L10.3 9.45l-7.72 7.72c-.78.78-.78 2.05 0 2.83L4 21.41c.39.39.9.59 1.41.59.51 0 1.02-.2 1.41-.59l7.78-7.78 2.81-2.81c.8-.78.8-2.07 0-2.86zM5.41 20L4 18.59l7.72-7.72 1.47 1.35L5.41 20z\"/>\n",
              "  </svg>\n",
              "      </button>\n",
              "      \n",
              "  <style>\n",
              "    .colab-df-container {\n",
              "      display:flex;\n",
              "      flex-wrap:wrap;\n",
              "      gap: 12px;\n",
              "    }\n",
              "\n",
              "    .colab-df-convert {\n",
              "      background-color: #E8F0FE;\n",
              "      border: none;\n",
              "      border-radius: 50%;\n",
              "      cursor: pointer;\n",
              "      display: none;\n",
              "      fill: #1967D2;\n",
              "      height: 32px;\n",
              "      padding: 0 0 0 0;\n",
              "      width: 32px;\n",
              "    }\n",
              "\n",
              "    .colab-df-convert:hover {\n",
              "      background-color: #E2EBFA;\n",
              "      box-shadow: 0px 1px 2px rgba(60, 64, 67, 0.3), 0px 1px 3px 1px rgba(60, 64, 67, 0.15);\n",
              "      fill: #174EA6;\n",
              "    }\n",
              "\n",
              "    [theme=dark] .colab-df-convert {\n",
              "      background-color: #3B4455;\n",
              "      fill: #D2E3FC;\n",
              "    }\n",
              "\n",
              "    [theme=dark] .colab-df-convert:hover {\n",
              "      background-color: #434B5C;\n",
              "      box-shadow: 0px 1px 3px 1px rgba(0, 0, 0, 0.15);\n",
              "      filter: drop-shadow(0px 1px 2px rgba(0, 0, 0, 0.3));\n",
              "      fill: #FFFFFF;\n",
              "    }\n",
              "  </style>\n",
              "\n",
              "      <script>\n",
              "        const buttonEl =\n",
              "          document.querySelector('#df-29322c4b-4de2-4779-80ce-c7fb221f898e button.colab-df-convert');\n",
              "        buttonEl.style.display =\n",
              "          google.colab.kernel.accessAllowed ? 'block' : 'none';\n",
              "\n",
              "        async function convertToInteractive(key) {\n",
              "          const element = document.querySelector('#df-29322c4b-4de2-4779-80ce-c7fb221f898e');\n",
              "          const dataTable =\n",
              "            await google.colab.kernel.invokeFunction('convertToInteractive',\n",
              "                                                     [key], {});\n",
              "          if (!dataTable) return;\n",
              "\n",
              "          const docLinkHtml = 'Like what you see? Visit the ' +\n",
              "            '<a target=\"_blank\" href=https://colab.research.google.com/notebooks/data_table.ipynb>data table notebook</a>'\n",
              "            + ' to learn more about interactive tables.';\n",
              "          element.innerHTML = '';\n",
              "          dataTable['output_type'] = 'display_data';\n",
              "          await google.colab.output.renderOutput(dataTable, element);\n",
              "          const docLink = document.createElement('div');\n",
              "          docLink.innerHTML = docLinkHtml;\n",
              "          element.appendChild(docLink);\n",
              "        }\n",
              "      </script>\n",
              "    </div>\n",
              "  </div>\n",
              "  "
            ],
            "text/plain": [
              "  vendor_inco_term  prop      n\n",
              "0              CIP  0.05   50.0\n",
              "1              DDP  0.10  100.0\n",
              "2              EXW  0.75  750.0\n",
              "3              FCA  0.10  100.0"
            ]
          },
          "execution_count": 174,
          "metadata": {},
          "output_type": "execute_result"
        }
      ],
      "source": [
        "hypothesised = pd.DataFrame({'vendor_inco_term': ['CIP','DDP','EXW','FCA'], 'prop': [0.05,0.10,0.75,0.10]})\n",
        "hypothesised['n'] = hypothesised.prop * len(late_shipments)\n",
        "hypothesised"
      ]
    },
    {
      "cell_type": "code",
      "execution_count": null,
      "metadata": {
        "colab": {
          "base_uri": "https://localhost:8080/",
          "height": 175
        },
        "id": "LL2ePXgdyfrk",
        "outputId": "847efb2a-ffb9-4806-9a5d-9aa3537ad08f"
      },
      "outputs": [
        {
          "data": {
            "text/html": [
              "\n",
              "  <div id=\"df-89fc1024-76e5-45e9-bb8f-e141e5aaef5b\">\n",
              "    <div class=\"colab-df-container\">\n",
              "      <div>\n",
              "<style scoped>\n",
              "    .dataframe tbody tr th:only-of-type {\n",
              "        vertical-align: middle;\n",
              "    }\n",
              "\n",
              "    .dataframe tbody tr th {\n",
              "        vertical-align: top;\n",
              "    }\n",
              "\n",
              "    .dataframe thead th {\n",
              "        text-align: right;\n",
              "    }\n",
              "</style>\n",
              "<table border=\"1\" class=\"dataframe\">\n",
              "  <thead>\n",
              "    <tr style=\"text-align: right;\">\n",
              "      <th></th>\n",
              "      <th>vendor_inco_term</th>\n",
              "      <th>n</th>\n",
              "    </tr>\n",
              "  </thead>\n",
              "  <tbody>\n",
              "    <tr>\n",
              "      <th>0</th>\n",
              "      <td>CIP</td>\n",
              "      <td>57</td>\n",
              "    </tr>\n",
              "    <tr>\n",
              "      <th>1</th>\n",
              "      <td>DDP</td>\n",
              "      <td>100</td>\n",
              "    </tr>\n",
              "    <tr>\n",
              "      <th>2</th>\n",
              "      <td>EXW</td>\n",
              "      <td>732</td>\n",
              "    </tr>\n",
              "    <tr>\n",
              "      <th>3</th>\n",
              "      <td>FCA</td>\n",
              "      <td>111</td>\n",
              "    </tr>\n",
              "  </tbody>\n",
              "</table>\n",
              "</div>\n",
              "      <button class=\"colab-df-convert\" onclick=\"convertToInteractive('df-89fc1024-76e5-45e9-bb8f-e141e5aaef5b')\"\n",
              "              title=\"Convert this dataframe to an interactive table.\"\n",
              "              style=\"display:none;\">\n",
              "        \n",
              "  <svg xmlns=\"http://www.w3.org/2000/svg\" height=\"24px\"viewBox=\"0 0 24 24\"\n",
              "       width=\"24px\">\n",
              "    <path d=\"M0 0h24v24H0V0z\" fill=\"none\"/>\n",
              "    <path d=\"M18.56 5.44l.94 2.06.94-2.06 2.06-.94-2.06-.94-.94-2.06-.94 2.06-2.06.94zm-11 1L8.5 8.5l.94-2.06 2.06-.94-2.06-.94L8.5 2.5l-.94 2.06-2.06.94zm10 10l.94 2.06.94-2.06 2.06-.94-2.06-.94-.94-2.06-.94 2.06-2.06.94z\"/><path d=\"M17.41 7.96l-1.37-1.37c-.4-.4-.92-.59-1.43-.59-.52 0-1.04.2-1.43.59L10.3 9.45l-7.72 7.72c-.78.78-.78 2.05 0 2.83L4 21.41c.39.39.9.59 1.41.59.51 0 1.02-.2 1.41-.59l7.78-7.78 2.81-2.81c.8-.78.8-2.07 0-2.86zM5.41 20L4 18.59l7.72-7.72 1.47 1.35L5.41 20z\"/>\n",
              "  </svg>\n",
              "      </button>\n",
              "      \n",
              "  <style>\n",
              "    .colab-df-container {\n",
              "      display:flex;\n",
              "      flex-wrap:wrap;\n",
              "      gap: 12px;\n",
              "    }\n",
              "\n",
              "    .colab-df-convert {\n",
              "      background-color: #E8F0FE;\n",
              "      border: none;\n",
              "      border-radius: 50%;\n",
              "      cursor: pointer;\n",
              "      display: none;\n",
              "      fill: #1967D2;\n",
              "      height: 32px;\n",
              "      padding: 0 0 0 0;\n",
              "      width: 32px;\n",
              "    }\n",
              "\n",
              "    .colab-df-convert:hover {\n",
              "      background-color: #E2EBFA;\n",
              "      box-shadow: 0px 1px 2px rgba(60, 64, 67, 0.3), 0px 1px 3px 1px rgba(60, 64, 67, 0.15);\n",
              "      fill: #174EA6;\n",
              "    }\n",
              "\n",
              "    [theme=dark] .colab-df-convert {\n",
              "      background-color: #3B4455;\n",
              "      fill: #D2E3FC;\n",
              "    }\n",
              "\n",
              "    [theme=dark] .colab-df-convert:hover {\n",
              "      background-color: #434B5C;\n",
              "      box-shadow: 0px 1px 3px 1px rgba(0, 0, 0, 0.15);\n",
              "      filter: drop-shadow(0px 1px 2px rgba(0, 0, 0, 0.3));\n",
              "      fill: #FFFFFF;\n",
              "    }\n",
              "  </style>\n",
              "\n",
              "      <script>\n",
              "        const buttonEl =\n",
              "          document.querySelector('#df-89fc1024-76e5-45e9-bb8f-e141e5aaef5b button.colab-df-convert');\n",
              "        buttonEl.style.display =\n",
              "          google.colab.kernel.accessAllowed ? 'block' : 'none';\n",
              "\n",
              "        async function convertToInteractive(key) {\n",
              "          const element = document.querySelector('#df-89fc1024-76e5-45e9-bb8f-e141e5aaef5b');\n",
              "          const dataTable =\n",
              "            await google.colab.kernel.invokeFunction('convertToInteractive',\n",
              "                                                     [key], {});\n",
              "          if (!dataTable) return;\n",
              "\n",
              "          const docLinkHtml = 'Like what you see? Visit the ' +\n",
              "            '<a target=\"_blank\" href=https://colab.research.google.com/notebooks/data_table.ipynb>data table notebook</a>'\n",
              "            + ' to learn more about interactive tables.';\n",
              "          element.innerHTML = '';\n",
              "          dataTable['output_type'] = 'display_data';\n",
              "          await google.colab.output.renderOutput(dataTable, element);\n",
              "          const docLink = document.createElement('div');\n",
              "          docLink.innerHTML = docLinkHtml;\n",
              "          element.appendChild(docLink);\n",
              "        }\n",
              "      </script>\n",
              "    </div>\n",
              "  </div>\n",
              "  "
            ],
            "text/plain": [
              "  vendor_inco_term    n\n",
              "0              CIP   57\n",
              "1              DDP  100\n",
              "2              EXW  732\n",
              "3              FCA  111"
            ]
          },
          "execution_count": 178,
          "metadata": {},
          "output_type": "execute_result"
        }
      ],
      "source": [
        "observed = pd.DataFrame({'vendor_inco_term': ['CIP','DDP','EXW','FCA'], 'n': [57,100,732,111]})\n",
        "observed"
      ]
    },
    {
      "cell_type": "code",
      "execution_count": null,
      "metadata": {
        "colab": {
          "base_uri": "https://localhost:8080/"
        },
        "id": "F35kZAzZzCKL",
        "outputId": "956aad3c-8bf7-4250-e5ca-a95a59958b7c"
      },
      "outputs": [
        {
          "data": {
            "text/plain": [
              "Power_divergenceResult(statistic=2.622, pvalue=0.4536457101903294)"
            ]
          },
          "execution_count": 180,
          "metadata": {},
          "output_type": "execute_result"
        }
      ],
      "source": [
        "stats.chisquare(f_obs = observed['n'],\n",
        "                f_exp = hypothesised['n'])"
      ]
    },
    {
      "cell_type": "code",
      "execution_count": null,
      "metadata": {
        "colab": {
          "base_uri": "https://localhost:8080/",
          "height": 313
        },
        "id": "3SAXO_zizdQ7",
        "outputId": "83052d66-3dcc-4761-8dab-613c409bf6d7"
      },
      "outputs": [
        {
          "data": {
            "text/plain": [
              "Text(0.5, 1.0, 'The sample follows the hypothesised distribution')"
            ]
          },
          "execution_count": 188,
          "metadata": {},
          "output_type": "execute_result"
        },
        {
          "data": {
            "image/png": "[encoded data removed]",
            "text/plain": [
              "<Figure size 432x288 with 1 Axes>"
            ]
          },
          "metadata": {},
          "output_type": "display_data"
        }
      ],
      "source": [
        "sns.kdeplot(hypothesised.n);\n",
        "sns.kdeplot(observed.n);\n",
        "plt.title('The sample follows the hypothesised distribution')"
      ]
    },
    {
      "cell_type": "markdown",
      "metadata": {
        "id": "PMIxwPo0DOV6"
      },
      "source": [
        "# **Assumptions in Parametric Hypothesis Tests**\n",
        "\n",
        "1. Random samples\n",
        "  * Each sample is randomly sourced from its population \n",
        "  * NOT randomly select means it wont be a representation of pop\n",
        "2. Independence of observations\n",
        "  * Each observation is independent\n",
        "  * If observations are dependent on each other, there is increased chance of False Negative and False Positive errors\n",
        "3. Large sample size so CLT applies\n",
        "* Large enough sample size allows for normal distribution and CLT to hold\n",
        "* Smaller samples = greater uncertainty = non-normal = CLT doesn't apply\n",
        "* $n >= 30$ for t-tests\n",
        "* $n >= 10$ for proportion tests\n",
        "* $n >= 5$ for Chi-Square\n",
        "\n",
        "* Simple Histogram check\n"
      ]
    },
    {
      "cell_type": "markdown",
      "metadata": {
        "id": "efX5Iey11nUy"
      },
      "source": [
        "# **Wilcoxon signed-rank test**\n",
        "\n",
        "H0: $\\bar{x} - \\bar{x} = 0$\n",
        "\n",
        "Ha: $\\bar{x} - \\bar{x} \\neq 0$\n",
        "\n",
        "**It is a non-parametric version of the paired T-test.**\n",
        "\n",
        "Tests the null hypothesis that two related paired samples come from the same distribution. \n",
        "\n",
        "In particular, it tests whether the distribution of the differences x - y is symmetric about zero. \n",
        "\n"
      ]
    },
    {
      "cell_type": "code",
      "execution_count": null,
      "metadata": {
        "id": "FELSRL3-1qJ1"
      },
      "outputs": [],
      "source": [
        "sample_dem_data = pd.read_feather('https://assets.datacamp.com/production/repositories/5982/datasets/4ab6431d773d1fe659ac120b4b49a1b525a76712/dem_votes_potus_12_16.feather')"
      ]
    },
    {
      "cell_type": "code",
      "execution_count": null,
      "metadata": {
        "colab": {
          "base_uri": "https://localhost:8080/"
        },
        "id": "sAGESSF7Du3p",
        "outputId": "53179a0b-db9d-46c1-efe2-806c23037432"
      },
      "outputs": [
        {
          "name": "stdout",
          "output_type": "stream",
          "text": [
            "w-stat:  2401.0 p-value:  1.775257379107445e-77\n"
          ]
        }
      ],
      "source": [
        "y = sample_dem_data.dem_percent_12\n",
        "X = sample_dem_data.dem_percent_16\n",
        "\n",
        "w, p =stats.wilcoxon(x=X, y=y, alternative='two-sided')\n",
        "\n",
        "print('w-stat: ', w, 'p-value: ', p)"
      ]
    },
    {
      "cell_type": "markdown",
      "metadata": {
        "id": "c25mKsnr3vDR"
      },
      "source": [
        "# **Wilcoxon-Mann-Whitney**\n",
        "**The Non-parametric Unpaired T-Test**\n",
        "\n"
      ]
    },
    {
      "cell_type": "code",
      "execution_count": null,
      "metadata": {
        "id": "ixkgpk_F4X2P"
      },
      "outputs": [],
      "source": [
        "stack_overflow = pd.read_feather('https://assets.datacamp.com/production/repositories/5982/datasets/c59033b93930652f402e30db77c3b8ef713dd701/stack_overflow.feather')"
      ]
    },
    {
      "cell_type": "code",
      "execution_count": null,
      "metadata": {
        "id": "8KTqoif-4snc"
      },
      "outputs": [],
      "source": [
        "age_vs_comp = stack_overflow[['converted_comp', 'age_first_code_cut']]\n",
        "age_vs_comp_long = age_vs_comp.groupby('age_first_code_cut')['converted_comp'].apply(list)"
      ]
    },
    {
      "cell_type": "code",
      "execution_count": null,
      "metadata": {
        "colab": {
          "base_uri": "https://localhost:8080/"
        },
        "id": "xSwytTll47fl",
        "outputId": "f306404a-ce23-401b-cadf-20d29eeb7a6d"
      },
      "outputs": [
        {
          "data": {
            "text/plain": [
              "MannwhitneyuResult(statistic=744365.5, pvalue=1.9027232924005235e-19)"
            ]
          },
          "execution_count": 205,
          "metadata": {},
          "output_type": "execute_result"
        }
      ],
      "source": [
        "stats.mannwhitneyu(x=age_vs_comp_long[1], \n",
        "                   y=age_vs_comp_long[0],\n",
        "                   alternative='greater')"
      ]
    },
    {
      "cell_type": "code",
      "execution_count": null,
      "metadata": {
        "colab": {
          "base_uri": "https://localhost:8080/",
          "height": 289
        },
        "id": "6PvZWbEP54os",
        "outputId": "52f19f74-6244-4e24-f5c6-c9a5cd19f763"
      },
      "outputs": [
        {
          "data": {
            "image/png": "[encoded data removed]",
            "text/plain": [
              "<Figure size 432x288 with 1 Axes>"
            ]
          },
          "metadata": {},
          "output_type": "display_data"
        }
      ],
      "source": [
        "sns.kdeplot(age_vs_comp_long[0])\n",
        "sns.kdeplot(age_vs_comp_long[1]);"
      ]
    },
    {
      "cell_type": "markdown",
      "metadata": {
        "id": "l7ae8bO83vT4"
      },
      "source": [
        "# **Kruskal-Wallis**\n",
        "**The Non-parametric ANOVA**"
      ]
    },
    {
      "cell_type": "code",
      "execution_count": null,
      "metadata": {
        "id": "x9qT7-UmDva4"
      },
      "outputs": [],
      "source": [
        "job_sat_vs_comp = stack_overflow[['converted_comp', 'job_sat']]\n",
        "job_sat_vs_comp_long = job_sat_vs_comp.groupby('job_sat')['converted_comp'].apply(np.hstack)"
      ]
    },
    {
      "cell_type": "code",
      "execution_count": null,
      "metadata": {
        "colab": {
          "base_uri": "https://localhost:8080/"
        },
        "id": "QA5dJP4g6tks",
        "outputId": "97ac2e57-4c1e-499a-ef1e-5d2d0ddb6bec"
      },
      "outputs": [
        {
          "data": {
            "text/plain": [
              "KruskalResult(statistic=72.81493915023472, pvalue=5.772915423012869e-15)"
            ]
          },
          "execution_count": 229,
          "metadata": {},
          "output_type": "execute_result"
        }
      ],
      "source": [
        "stats.kruskal(*job_sat_vs_comp_long)"
      ]
    },
    {
      "cell_type": "markdown",
      "metadata": {
        "id": "VMtyo6gAm2Qx"
      },
      "source": [
        "# **Linear Regression Basics**\n",
        "\n",
        "$response = intercept + constant * explanatory$\n",
        "\n",
        "$y = mx + b$\n",
        "\n",
        "Fits straight line thorugh that that minimises sum of squared residuals. OLS\n",
        "\n",
        "**Assumption**\n",
        " - Linear relationship\n",
        " - Homosced"
      ]
    },
    {
      "cell_type": "code",
      "execution_count": null,
      "metadata": {
        "id": "YxlzfGTMm6SE"
      },
      "outputs": [],
      "source": [
        "import numpy as np \n",
        "import pandas as pd \n",
        "import matplotlib.pyplot as plt\n",
        "\n",
        "from scipy import stats\n",
        "from sklearn import linear_model"
      ]
    },
    {
      "cell_type": "code",
      "execution_count": null,
      "metadata": {
        "id": "yIfNsNoOne_V"
      },
      "outputs": [],
      "source": [
        "mtcars = pd.read_csv('mtcars.csv')"
      ]
    },
    {
      "cell_type": "code",
      "execution_count": null,
      "metadata": {
        "colab": {
          "base_uri": "https://localhost:8080/",
          "height": 337
        },
        "id": "XmQtAe6LoQ3E",
        "outputId": "177dc333-885f-48c5-c9d4-f8e5cfbff8d0"
      },
      "outputs": [
        {
          "data": {
            "image/png": "[encoded data removed]",
            "text/plain": [
              "<Figure size 720x360 with 1 Axes>"
            ]
          },
          "metadata": {},
          "output_type": "display_data"
        }
      ],
      "source": [
        "sns.scatterplot(x=mtcars.wt, \n",
        "                y=mtcars.mpg, \n",
        "                );"
      ]
    },
    {
      "cell_type": "code",
      "execution_count": null,
      "metadata": {
        "colab": {
          "base_uri": "https://localhost:8080/"
        },
        "id": "pHFyJVz1oP6c",
        "outputId": "1489f38e-b982-4ce5-c34b-41dea9f6252b"
      },
      "outputs": [
        {
          "name": "stdout",
          "output_type": "stream",
          "text": [
            "b:  37.28512616734204\n",
            "m:  [-5.34447157]\n",
            "r2:  0.7528327936582646\n"
          ]
        }
      ],
      "source": [
        "# initialise/create model\n",
        "model = linear_model.LinearRegression()\n",
        "\n",
        "# train model on data\n",
        "model.fit(X = pd.DataFrame(mtcars['wt']),\n",
        "          y=mtcars['mpg'])\n",
        "\n",
        "print('b: ', model.intercept_)\n",
        "print('m: ', model.coef_)\n",
        "\n",
        "# regression score r^2\n",
        "print('r2: ', model.score(X = mtcars[['wt']],\n",
        "            y=mtcars[['mpg']]))"
      ]
    },
    {
      "cell_type": "code",
      "execution_count": null,
      "metadata": {
        "colab": {
          "base_uri": "https://localhost:8080/"
        },
        "id": "qQQv6w34p6AM",
        "outputId": "c225d9c6-fbd4-4ce4-b6b3-a264b3b4f625"
      },
      "outputs": [
        {
          "data": {
            "text/plain": [
              "count    3.200000e+01\n",
              "mean    -8.215650e-15\n",
              "std      2.996352e+00\n",
              "min     -4.543151e+00\n",
              "25%     -2.364709e+00\n",
              "50%     -1.251956e-01\n",
              "75%      1.409561e+00\n",
              "max      6.872711e+00\n",
              "Name: mpg, dtype: float64"
            ]
          },
          "execution_count": 408,
          "metadata": {},
          "output_type": "execute_result"
        }
      ],
      "source": [
        "# The r2 is based on residuals, \n",
        "# which can be extracted by making a prediction then substractying the actual value\n",
        "\n",
        "# Predict\n",
        "train_predict = model.predict(X = pd.DataFrame(mtcars['wt']))\n",
        "\n",
        "# Predict - Actual\n",
        "residuals = mtcars['mpg'] - train_predict\n",
        "residuals.describe()"
      ]
    },
    {
      "cell_type": "code",
      "execution_count": null,
      "metadata": {
        "colab": {
          "base_uri": "https://localhost:8080/",
          "height": 336
        },
        "id": "KmfrJBSErjsV",
        "outputId": "5a1d2cc3-7f82-4a2f-db28-09d750ff1353"
      },
      "outputs": [
        {
          "data": {
            "image/png": "[encoded data removed]",
            "text/plain": [
              "<Figure size 720x360 with 1 Axes>"
            ]
          },
          "metadata": {},
          "output_type": "display_data"
        }
      ],
      "source": [
        "sns.scatterplot(x=mtcars.wt, \n",
        "                y=mtcars.mpg, \n",
        "                )\n",
        "\n",
        "sns.lineplot(x=mtcars.wt, \n",
        "             y=train_predict,\n",
        "             color='r');"
      ]
    },
    {
      "cell_type": "markdown",
      "metadata": {
        "id": "0C5TKTjvsHp8"
      },
      "source": [
        "**A SINGLE OUTLIER CAN AFFECT THE REGRESSION MODEL**\n",
        "\n",
        "* Linear regression models minimises the sum of squared differences\n",
        "* So any points very far away magnifies the difference even more.\n",
        "* So any outlier should be removed"
      ]
    },
    {
      "cell_type": "markdown",
      "metadata": {
        "id": "9_T5SR3FtFYM"
      },
      "source": [
        "**We want residuals to be roughly normally distributed**\n",
        "* Can visualise with a Q-Q Plot (Quantile-Quantile)"
      ]
    },
    {
      "cell_type": "code",
      "execution_count": null,
      "metadata": {
        "colab": {
          "base_uri": "https://localhost:8080/",
          "height": 350
        },
        "id": "b1OWIhYttUfD",
        "outputId": "b4d4d192-31fb-4ef4-f7be-9e8b7e5d1d07"
      },
      "outputs": [
        {
          "data": {
            "image/png": "[encoded data removed]",
            "text/plain": [
              "<Figure size 720x360 with 1 Axes>"
            ]
          },
          "metadata": {},
          "output_type": "display_data"
        }
      ],
      "source": [
        "stats.probplot(residuals, dist='norm', plot=plt);\n",
        "\n",
        "# The divergence around the top-right corner indicate residuals are not completely normal"
      ]
    },
    {
      "cell_type": "markdown",
      "metadata": {
        "id": "XBXYAtdOuJZ1"
      },
      "source": [
        "**Model Evaluation: Root mean squared error (RMSE)**\n",
        "\n",
        "* the R^s can be used to compare Linear Regression Models but can't be compared to other models\n",
        "\n",
        "* this is a universal measurement to compare different types of models\n"
      ]
    },
    {
      "cell_type": "code",
      "execution_count": null,
      "metadata": {
        "colab": {
          "base_uri": "https://localhost:8080/"
        },
        "id": "EybyFaB3uhO8",
        "outputId": "66e16c0f-c8cd-4564-993c-125dae568909"
      },
      "outputs": [
        {
          "data": {
            "text/plain": [
              "2.949162685955028"
            ]
          },
          "execution_count": 423,
          "metadata": {},
          "output_type": "execute_result"
        }
      ],
      "source": [
        "from sklearn.metrics import mean_squared_error \n",
        "\n",
        "RMSE = mean_squared_error(train_predict, mtcars.mpg)**0.5\n",
        "RMSE"
      ]
    },
    {
      "cell_type": "markdown",
      "metadata": {
        "id": "GQVZzsVdu3w3"
      },
      "source": [
        "# **Polynomial Regression**\n",
        "* When there is non linear relationship\n",
        "* This transforms some explanatory variable by squarring them, cubic, or other polynomial transformation"
      ]
    },
    {
      "cell_type": "code",
      "execution_count": null,
      "metadata": {
        "colab": {
          "base_uri": "https://localhost:8080/"
        },
        "id": "PU3_FS2Ku3PG",
        "outputId": "e1b5931e-e88f-47a9-9504-ce1c4fc64405"
      },
      "outputs": [
        {
          "name": "stdout",
          "output_type": "stream",
          "text": [
            "Model Intercept\n",
            "49.93081094945181\n",
            "Model Coefficients\n",
            "[-13.38033708   1.17108689]\n",
            "R-squared\n",
            "0.8190613581384095\n"
          ]
        }
      ],
      "source": [
        "# initialise model object\n",
        "poly_model = linear_model.LinearRegression()\n",
        "\n",
        "# Add extra varaible with a squared adjustment \n",
        "predictors = pd.DataFrame([mtcars['wt'],       # weight\n",
        "                           mtcars['wt']**2]).T # weight squared\n",
        "\n",
        "# Train model\n",
        "poly_model.fit(X = predictors,\n",
        "               y = mtcars.mpg)\n",
        "\n",
        "print('Model Intercept')\n",
        "print(poly_model.intercept_)\n",
        "\n",
        "\n",
        "print('Model Coefficients')\n",
        "print(poly_model.coef_)\n",
        "\n",
        "print('R-squared')\n",
        "print(poly_model.score(X = predictors,\n",
        "                       y = mtcars['mpg']))"
      ]
    },
    {
      "cell_type": "markdown",
      "metadata": {
        "id": "VrTeOL47yHo0"
      },
      "source": [
        "**The r2 has increased to 0.819**\n",
        "* so this implies this new model expalins significantly more than the indpenedent model\n",
        "* But we shouldn't use the r2 if we add more variables\n",
        "\n",
        "we can use **Adjusted R-squared** if we add lots of variables"
      ]
    },
    {
      "cell_type": "code",
      "execution_count": null,
      "metadata": {
        "colab": {
          "background_save": true,
          "base_uri": "https://localhost:8080/",
          "height": 393
        },
        "id": "RGUsADCSyHSo",
        "outputId": "cab9c0ac-a4ff-46af-c265-fa49e1672edd"
      },
      "outputs": [
        {
          "ename": "NameError",
          "evalue": "ignored",
          "output_type": "error",
          "traceback": [
            "\u001b[0;31m---------------------------------------------------------------------------\u001b[0m",
            "\u001b[0;31mNameError\u001b[0m                                 Traceback (most recent call last)",
            "\u001b[0;32m<ipython-input-1-2052bee817de>\u001b[0m in \u001b[0;36m<module>\u001b[0;34m\u001b[0m\n\u001b[1;32m      1\u001b[0m \u001b[0;31m# plot curve\u001b[0m\u001b[0;34m\u001b[0m\u001b[0;34m\u001b[0m\u001b[0;34m\u001b[0m\u001b[0m\n\u001b[0;32m----> 2\u001b[0;31m \u001b[0mpoly_line_range\u001b[0m \u001b[0;34m=\u001b[0m \u001b[0mnp\u001b[0m\u001b[0;34m.\u001b[0m\u001b[0marange\u001b[0m\u001b[0;34m(\u001b[0m\u001b[0;36m1.5\u001b[0m\u001b[0;34m,\u001b[0m \u001b[0;36m5.5\u001b[0m\u001b[0;34m,\u001b[0m \u001b[0;36m0.1\u001b[0m\u001b[0;34m)\u001b[0m\u001b[0;34m\u001b[0m\u001b[0;34m\u001b[0m\u001b[0m\n\u001b[0m\u001b[1;32m      3\u001b[0m \u001b[0;34m\u001b[0m\u001b[0m\n\u001b[1;32m      4\u001b[0m \u001b[0;31m# get first and second ord predictors from range\u001b[0m\u001b[0;34m\u001b[0m\u001b[0;34m\u001b[0m\u001b[0;34m\u001b[0m\u001b[0m\n\u001b[1;32m      5\u001b[0m poly_predictors = pd.DataFrame([poly_line_range,\n",
            "\u001b[0;31mNameError\u001b[0m: name 'np' is not defined"
          ]
        }
      ],
      "source": [
        "# plot curve\n",
        "poly_line_range = np.arange(1.5, 5.5, 0.1)\n",
        "\n",
        "# get first and second ord predictors from range\n",
        "poly_predictors = pd.DataFrame([poly_line_range,\n",
        "                                poly_line_range**2]).T\n",
        "\n",
        "y_values = poly_model.predict(X = poly_predictors)\n",
        "\n",
        "mtcars.plot(kind='scatter',\n",
        "            x='wt',\n",
        "            y='mpg',\n",
        "            xlim=(0,7))\n",
        "\n",
        "plt.plot(poly_line_range, y_values);"
      ]
    },
    {
      "cell_type": "markdown",
      "metadata": {
        "id": "DXoLC-_lzJ6u"
      },
      "source": [
        "**Over-fitting**\n",
        "\n",
        "- fitting our model too closely to training data\n",
        "- this leads to bias"
      ]
    },
    {
      "cell_type": "code",
      "execution_count": null,
      "metadata": {
        "id": "U_dA5jY2is73"
      },
      "outputs": [],
      "source": []
    }
  ],
  "metadata": {
    "colab": {
      "collapsed_sections": [],
      "toc_visible": true,
      "provenance": [],
      "authorship_tag": "ABX9TyProfB0Q/jxoTQOZt8ZsS4h",
      "include_colab_link": true
    },
    "kernelspec": {
      "display_name": "Python 3",
      "name": "python3"
    },
    "language_info": {
      "name": "python"
    }
  },
  "nbformat": 4,
  "nbformat_minor": 0
}