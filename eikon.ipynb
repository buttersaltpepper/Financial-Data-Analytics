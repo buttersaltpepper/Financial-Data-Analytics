{
 "cells": [
  {
   "cell_type": "code",
   "execution_count": null,
   "id": "681f6a98",
   "metadata": {},
   "outputs": [],
   "source": [
    "import eikon as ek\n",
    "import pandas as pd\n",
    "from datetime import datetime,date, timedelta\n",
    "import os\n",
    "\n",
    "import psycopg2 as pg\n",
    "\n",
    "import warnings\n",
    "warnings.filterwarnings('ignore')"
   ]
  },
  {
   "cell_type": "code",
   "execution_count": null,
   "id": "b41a616e",
   "metadata": {},
   "outputs": [],
   "source": [
    "api_key = os.environ.get('eikon_key')\n",
    "ek.set_app_key(api_key)"
   ]
  },
  {
   "cell_type": "markdown",
   "id": "ed201749",
   "metadata": {},
   "source": [
    "### pull min data"
   ]
  },
  {
   "cell_type": "code",
   "execution_count": null,
   "id": "0b4af084",
   "metadata": {},
   "outputs": [],
   "source": [
    "t0 = datetime(2022,1,1)\n",
    "t0"
   ]
  },
  {
   "cell_type": "code",
   "execution_count": null,
   "id": "53f9abb6",
   "metadata": {},
   "outputs": [],
   "source": [
    "ric = ['FLT.AX','NCM.AX', 'BHP.AX']"
   ]
  },
  {
   "cell_type": "code",
   "execution_count": null,
   "id": "e4a806f7",
   "metadata": {
    "scrolled": true
   },
   "outputs": [],
   "source": [
    "df = ek.get_timeseries(\n",
    "    ric,\n",
    "    start_date= t0,\n",
    "    end_date=t0 + timedelta(30), # limits\n",
    "    interval='minute',\n",
    "    calendar='tradingdays')\n",
    "\n",
    "df"
   ]
  },
  {
   "cell_type": "markdown",
   "id": "33d7b2da",
   "metadata": {},
   "source": [
    "### Create a table for each ticker in the list"
   ]
  },
  {
   "cell_type": "code",
   "execution_count": null,
   "id": "35ff7d39",
   "metadata": {},
   "outputs": [],
   "source": [
    "conn = pg.connect(\n",
    "    host='localhost',\n",
    "    user='postgres',\n",
    "    database='timeseries',\n",
    "    password='password')\n",
    "\n",
    "cur = conn.cursor()\n",
    "conn.autocommit=True"
   ]
  },
  {
   "cell_type": "code",
   "execution_count": null,
   "id": "70830ded",
   "metadata": {},
   "outputs": [],
   "source": [
    "for i in ric:\n",
    "    table_name = i.replace('.AX','')\n",
    "    \n",
    "    cur.execute('''drop table if exists {}'''.format(table_name))\n",
    "\n",
    "    sql = '''CREATE TABLE IF NOT EXISTS {}(\n",
    "    time TIMESTAMP,\n",
    "    open DOUBLE PRECISION,\n",
    "    high DOUBLE PRECISION,\n",
    "    low DOUBLE PRECISION,\n",
    "    close DOUBLE PRECISION,\n",
    "    volume NUMERIC\n",
    "    )'''.format(table_name)\n",
    "\n",
    "    cur.execute(sql)\n",
    "    print('Created table: {}'.format(table_name))"
   ]
  },
  {
   "cell_type": "markdown",
   "id": "d7b4eb5c",
   "metadata": {},
   "source": [
    "### Insert data into corresponding tables"
   ]
  },
  {
   "cell_type": "code",
   "execution_count": null,
   "id": "c9da0386",
   "metadata": {
    "scrolled": true
   },
   "outputs": [],
   "source": [
    "for ticker in ric:\n",
    "    table_name = ticker.replace('.AX','')\n",
    "    data = df[ticker]\n",
    "    \n",
    "    sql = '''INSERT INTO {}(time, open, high, low, close, volume) VALUES (%s, %s, %s, %s, %s, %s)'''.format(table_name)  \n",
    "    \n",
    "    for idx,row in data.dropna().iterrows():\n",
    "        cur.execute(sql, (idx, row.OPEN, row.HIGH, row.LOW, row.CLOSE, row.VOLUME))\n",
    "        print('inserted', table_name, idx)\n",
    "        \n",
    "    print('👍 Gucci!')"
   ]
  },
  {
   "cell_type": "code",
   "execution_count": null,
   "id": "df119716",
   "metadata": {},
   "outputs": [],
   "source": []
  },
  {
   "cell_type": "code",
   "execution_count": null,
   "id": "a73c29b2",
   "metadata": {},
   "outputs": [],
   "source": []
  },
  {
   "cell_type": "markdown",
   "id": "9e980e57",
   "metadata": {},
   "source": [
    "### Print out the tables which need updating"
   ]
  },
  {
   "cell_type": "code",
   "execution_count": null,
   "id": "e47669c7",
   "metadata": {},
   "outputs": [],
   "source": [
    "today = datetime.today().date()\n",
    "\n",
    "\n",
    "for i in ric:\n",
    "    ticker = i.replace('.AX', '')\n",
    "    max_date = pd.read_sql('select max(time) from {}'.format(ticker), conn).values[0][0]\n",
    "    max_date = pd.to_datetime(max_date)\n",
    "    print('Last updated {} on {}'.format(ticker, max_date),'| Today is', today)\n",
    "    if max_date != today:\n",
    "        print(ticker, 'needs updating!')"
   ]
  },
  {
   "cell_type": "markdown",
   "id": "f8ae8803",
   "metadata": {},
   "source": [
    "### **Update tables in database**"
   ]
  },
  {
   "cell_type": "code",
   "execution_count": null,
   "id": "f9596d5c",
   "metadata": {},
   "outputs": [],
   "source": [
    "today = datetime.today().date()\n",
    "\n",
    "\n",
    "for i in ric:\n",
    "    ticker = i.replace('.AX', '')\n",
    "    max_date = pd.read_sql('select max(time) from {}'.format(ticker), conn).values[0][0]\n",
    "    max_date = pd.to_datetime(max_date)\n",
    "\n",
    "    while True:\n",
    "        try:\n",
    "            if max_date != today:\n",
    "                new_data = ek.get_timeseries(\n",
    "                    i,\n",
    "                    start_date = str(max_date),\n",
    "                    end_date=str(max_date+timedelta(days=5)),\n",
    "                    interval='minute',\n",
    "                    calendar='tradingdays')\n",
    "\n",
    "                sql = '''INSERT INTO {}(time, open, high, low, close, volume) VALUES (%s, %s, %s, %s, %s, %s)'''.format(ticker)\n",
    "\n",
    "                for idx,row in new_data[new_data.index > max_date].dropna().iterrows():\n",
    "                    cur.execute(sql, (idx, row.OPEN, row.HIGH, row.LOW, row.CLOSE, row.VOLUME))\n",
    "                    print('inserted', idx, ticker, '| Days remaining: {}'.format(str(today - new_data.index[-1].date()).date()))\n",
    "                    max_date = (new_data.index[-1])\n",
    "\n",
    "            else:\n",
    "                print('Todays date: ', today)\n",
    "                print('{} Last update: '.format(ticker), max_date)\n",
    "                print('{} Data is up to date!'.format(ticker))\n",
    "                break\n",
    "\n",
    "        except:\n",
    "            print('😢')\n",
    "            break\n",
    "\n",
    "\n",
    "        "
   ]
  },
  {
   "cell_type": "markdown",
   "id": "28a16bd1",
   "metadata": {},
   "source": [
    "# Close connection"
   ]
  },
  {
   "cell_type": "code",
   "execution_count": null,
   "id": "7579bd82",
   "metadata": {},
   "outputs": [],
   "source": [
    "conn.close()"
   ]
  },
  {
   "cell_type": "markdown",
   "id": "885b9075",
   "metadata": {},
   "source": [
    "# Psql shell\n",
    "`\\l` -> View all of the defined databases on the server.\n",
    "\n",
    " \n",
    "\n",
    "`\\connect database_name` or `\\c database_name` -> connect to db\n",
    "\n",
    " \n",
    "\n",
    "`\\dt`  -> Shows all tables in the current schema\n",
    "\n",
    "---\n",
    "\n",
    "Programmatically (or from the psql interface too, of course):\n",
    "\n",
    "`SELECT * FROM pg_catalog.pg_tables;`\n",
    "The system tables live in the pg_catalog database.\n",
    "\n",
    "\n",
    "\n",
    "\n"
   ]
  }
 ],
 "metadata": {
  "kernelspec": {
   "display_name": "Python 3 (ipykernel)",
   "language": "python",
   "name": "python3"
  },
  "language_info": {
   "codemirror_mode": {
    "name": "ipython",
    "version": 3
   },
   "file_extension": ".py",
   "mimetype": "text/x-python",
   "name": "python",
   "nbconvert_exporter": "python",
   "pygments_lexer": "ipython3",
   "version": "3.10.5"
  }
 },
 "nbformat": 4,
 "nbformat_minor": 5
}
