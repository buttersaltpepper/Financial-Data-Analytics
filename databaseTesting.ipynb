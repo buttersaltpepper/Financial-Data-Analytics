{
 "cells": [
  {
   "cell_type": "markdown",
   "id": "3ece6f00",
   "metadata": {},
   "source": [
    "# **Data source**\n",
    "https://data.binance.vision/?prefix=data/spot/daily/aggTrades/\n",
    "* Aggregate tradeID\n",
    "* Price\n",
    "* Quantity\n",
    "* First tradeId\n",
    "* Last tradeID\n",
    "* Timestamp\n",
    "* Was the buyer the maker?\n",
    "* Was the trade the best price match?"
   ]
  },
  {
   "cell_type": "code",
   "execution_count": 120,
   "id": "22b782a4",
   "metadata": {},
   "outputs": [],
   "source": [
    "import pandas as pd\n",
    "import numpy as np\n",
    "from datetime import datetime, timedelta\n",
    "import time\n",
    "\n",
    "\n",
    "import plotly.express as px\n",
    "\n",
    "import seaborn as sns\n",
    "import matplotlib.pyplot as plt\n",
    "plt.rcParams['figure.figsize'] = (10,5)"
   ]
  },
  {
   "cell_type": "markdown",
   "id": "aaad23a5",
   "metadata": {},
   "source": [
    "# **Create function to pull multiple days of tick data**"
   ]
  },
  {
   "cell_type": "code",
   "execution_count": 95,
   "id": "08c5b868",
   "metadata": {},
   "outputs": [],
   "source": [
    "def get_binance_tick(symbol='ETHUSDT', aest=datetime.now().date()):\n",
    "  base_url = 'https://data.binance.vision/data/spot/daily/aggTrades/'\n",
    "  symbol_params = symbol + '/' + symbol\n",
    "  path = '-aggTrades-'\n",
    "  date_params = str(aest)\n",
    "  file_type = '.zip'\n",
    "\n",
    "  url = base_url + symbol_params + path + date_params + file_type\n",
    "\n",
    "  df = pd.read_csv(url).iloc[:,[1,2,5,6]]\n",
    "  df.columns = ['Price', 'Quantity', 'Timestamp', 'Was the buyer the maker?']\n",
    "  df.Timestamp = pd.to_datetime(df.Timestamp, unit='ms')\n",
    "  return df"
   ]
  },
  {
   "cell_type": "markdown",
   "id": "4659033d",
   "metadata": {},
   "source": [
    "# **Select date range**"
   ]
  },
  {
   "cell_type": "code",
   "execution_count": 168,
   "id": "278d48f7",
   "metadata": {},
   "outputs": [],
   "source": [
    "# YYYY-MM-DD\n",
    "t0 = '2022-1-1'\n",
    "t1 = '2022-7-1'\n",
    "\n",
    "list_days = [i.date() for i in pd.date_range(start=t0, end=t1, freq='D')]"
   ]
  },
  {
   "cell_type": "markdown",
   "id": "2ed00ee4",
   "metadata": {},
   "source": [
    "# **Pull Data**"
   ]
  },
  {
   "cell_type": "code",
   "execution_count": 169,
   "id": "832b92f9",
   "metadata": {},
   "outputs": [],
   "source": [
    "crypto_symbol = 'ETHUSDT'\n",
    "\n",
    "df_list = [get_binance_tick(symbol='ETHUSDT', aest = list_days[i]) for i in range(0,len(list_days))]\n",
    "\n",
    "df = pd.concat(df_list)"
   ]
  },
  {
   "cell_type": "code",
   "execution_count": 170,
   "id": "8a483d73",
   "metadata": {},
   "outputs": [
    {
     "data": {
      "text/html": [
       "<div>\n",
       "<style scoped>\n",
       "    .dataframe tbody tr th:only-of-type {\n",
       "        vertical-align: middle;\n",
       "    }\n",
       "\n",
       "    .dataframe tbody tr th {\n",
       "        vertical-align: top;\n",
       "    }\n",
       "\n",
       "    .dataframe thead th {\n",
       "        text-align: right;\n",
       "    }\n",
       "</style>\n",
       "<table border=\"1\" class=\"dataframe\">\n",
       "  <thead>\n",
       "    <tr style=\"text-align: right;\">\n",
       "      <th></th>\n",
       "      <th>Price</th>\n",
       "      <th>Quantity</th>\n",
       "      <th>Timestamp</th>\n",
       "      <th>Was the buyer the maker?</th>\n",
       "    </tr>\n",
       "  </thead>\n",
       "  <tbody>\n",
       "    <tr>\n",
       "      <th>0</th>\n",
       "      <td>1941.90</td>\n",
       "      <td>0.0275</td>\n",
       "      <td>2022-06-01 00:00:00.003</td>\n",
       "      <td>True</td>\n",
       "    </tr>\n",
       "    <tr>\n",
       "      <th>1</th>\n",
       "      <td>1941.90</td>\n",
       "      <td>0.0147</td>\n",
       "      <td>2022-06-01 00:00:00.003</td>\n",
       "      <td>True</td>\n",
       "    </tr>\n",
       "    <tr>\n",
       "      <th>2</th>\n",
       "      <td>1941.91</td>\n",
       "      <td>0.0363</td>\n",
       "      <td>2022-06-01 00:00:00.008</td>\n",
       "      <td>False</td>\n",
       "    </tr>\n",
       "    <tr>\n",
       "      <th>3</th>\n",
       "      <td>1941.90</td>\n",
       "      <td>0.0393</td>\n",
       "      <td>2022-06-01 00:00:00.009</td>\n",
       "      <td>True</td>\n",
       "    </tr>\n",
       "    <tr>\n",
       "      <th>4</th>\n",
       "      <td>1941.90</td>\n",
       "      <td>0.0053</td>\n",
       "      <td>2022-06-01 00:00:00.014</td>\n",
       "      <td>True</td>\n",
       "    </tr>\n",
       "    <tr>\n",
       "      <th>...</th>\n",
       "      <td>...</td>\n",
       "      <td>...</td>\n",
       "      <td>...</td>\n",
       "      <td>...</td>\n",
       "    </tr>\n",
       "    <tr>\n",
       "      <th>823966</th>\n",
       "      <td>1059.72</td>\n",
       "      <td>0.0558</td>\n",
       "      <td>2022-07-01 23:59:59.994</td>\n",
       "      <td>True</td>\n",
       "    </tr>\n",
       "    <tr>\n",
       "      <th>823967</th>\n",
       "      <td>1059.72</td>\n",
       "      <td>0.0753</td>\n",
       "      <td>2022-07-01 23:59:59.994</td>\n",
       "      <td>True</td>\n",
       "    </tr>\n",
       "    <tr>\n",
       "      <th>823968</th>\n",
       "      <td>1059.72</td>\n",
       "      <td>0.0920</td>\n",
       "      <td>2022-07-01 23:59:59.994</td>\n",
       "      <td>True</td>\n",
       "    </tr>\n",
       "    <tr>\n",
       "      <th>823969</th>\n",
       "      <td>1059.73</td>\n",
       "      <td>0.0222</td>\n",
       "      <td>2022-07-01 23:59:59.996</td>\n",
       "      <td>False</td>\n",
       "    </tr>\n",
       "    <tr>\n",
       "      <th>823970</th>\n",
       "      <td>1059.73</td>\n",
       "      <td>0.0734</td>\n",
       "      <td>2022-07-01 23:59:59.997</td>\n",
       "      <td>False</td>\n",
       "    </tr>\n",
       "  </tbody>\n",
       "</table>\n",
       "<p>26465427 rows × 4 columns</p>\n",
       "</div>"
      ],
      "text/plain": [
       "          Price  Quantity               Timestamp  Was the buyer the maker?\n",
       "0       1941.90    0.0275 2022-06-01 00:00:00.003                      True\n",
       "1       1941.90    0.0147 2022-06-01 00:00:00.003                      True\n",
       "2       1941.91    0.0363 2022-06-01 00:00:00.008                     False\n",
       "3       1941.90    0.0393 2022-06-01 00:00:00.009                      True\n",
       "4       1941.90    0.0053 2022-06-01 00:00:00.014                      True\n",
       "...         ...       ...                     ...                       ...\n",
       "823966  1059.72    0.0558 2022-07-01 23:59:59.994                      True\n",
       "823967  1059.72    0.0753 2022-07-01 23:59:59.994                      True\n",
       "823968  1059.72    0.0920 2022-07-01 23:59:59.994                      True\n",
       "823969  1059.73    0.0222 2022-07-01 23:59:59.996                     False\n",
       "823970  1059.73    0.0734 2022-07-01 23:59:59.997                     False\n",
       "\n",
       "[26465427 rows x 4 columns]"
      ]
     },
     "execution_count": 170,
     "metadata": {},
     "output_type": "execute_result"
    }
   ],
   "source": [
    "df"
   ]
  },
  {
   "cell_type": "markdown",
   "id": "3a20625d",
   "metadata": {},
   "source": [
    "# Agg Daily Price Volume Data"
   ]
  },
  {
   "cell_type": "code",
   "execution_count": 171,
   "id": "5d5f4217",
   "metadata": {},
   "outputs": [
    {
     "data": {
      "text/html": [
       "<div>\n",
       "<style scoped>\n",
       "    .dataframe tbody tr th:only-of-type {\n",
       "        vertical-align: middle;\n",
       "    }\n",
       "\n",
       "    .dataframe tbody tr th {\n",
       "        vertical-align: top;\n",
       "    }\n",
       "\n",
       "    .dataframe thead th {\n",
       "        text-align: right;\n",
       "    }\n",
       "</style>\n",
       "<table border=\"1\" class=\"dataframe\">\n",
       "  <thead>\n",
       "    <tr style=\"text-align: right;\">\n",
       "      <th></th>\n",
       "      <th>Timestamp</th>\n",
       "      <th>Price</th>\n",
       "      <th>Quantity</th>\n",
       "      <th>maker</th>\n",
       "    </tr>\n",
       "  </thead>\n",
       "  <tbody>\n",
       "    <tr>\n",
       "      <th>0</th>\n",
       "      <td>2022-06-01</td>\n",
       "      <td>1763.75</td>\n",
       "      <td>2.2150</td>\n",
       "      <td>1.3430</td>\n",
       "    </tr>\n",
       "    <tr>\n",
       "      <th>1</th>\n",
       "      <td>2022-06-01</td>\n",
       "      <td>1763.80</td>\n",
       "      <td>0.2009</td>\n",
       "      <td>0.2009</td>\n",
       "    </tr>\n",
       "    <tr>\n",
       "      <th>2</th>\n",
       "      <td>2022-06-01</td>\n",
       "      <td>1763.90</td>\n",
       "      <td>0.6252</td>\n",
       "      <td>0.5252</td>\n",
       "    </tr>\n",
       "    <tr>\n",
       "      <th>3</th>\n",
       "      <td>2022-06-01</td>\n",
       "      <td>1763.95</td>\n",
       "      <td>0.0119</td>\n",
       "      <td>0.0119</td>\n",
       "    </tr>\n",
       "    <tr>\n",
       "      <th>4</th>\n",
       "      <td>2022-06-01</td>\n",
       "      <td>1764.00</td>\n",
       "      <td>9.0877</td>\n",
       "      <td>1.3057</td>\n",
       "    </tr>\n",
       "    <tr>\n",
       "      <th>...</th>\n",
       "      <td>...</td>\n",
       "      <td>...</td>\n",
       "      <td>...</td>\n",
       "      <td>...</td>\n",
       "    </tr>\n",
       "    <tr>\n",
       "      <th>77813</th>\n",
       "      <td>2022-07-01</td>\n",
       "      <td>1116.80</td>\n",
       "      <td>0.7697</td>\n",
       "      <td>0.0000</td>\n",
       "    </tr>\n",
       "    <tr>\n",
       "      <th>77814</th>\n",
       "      <td>2022-07-01</td>\n",
       "      <td>1116.85</td>\n",
       "      <td>6.7981</td>\n",
       "      <td>0.0000</td>\n",
       "    </tr>\n",
       "    <tr>\n",
       "      <th>77815</th>\n",
       "      <td>2022-07-01</td>\n",
       "      <td>1116.90</td>\n",
       "      <td>14.9590</td>\n",
       "      <td>0.0000</td>\n",
       "    </tr>\n",
       "    <tr>\n",
       "      <th>77816</th>\n",
       "      <td>2022-07-01</td>\n",
       "      <td>1116.95</td>\n",
       "      <td>1.5123</td>\n",
       "      <td>0.0000</td>\n",
       "    </tr>\n",
       "    <tr>\n",
       "      <th>77817</th>\n",
       "      <td>2022-07-01</td>\n",
       "      <td>1117.00</td>\n",
       "      <td>1.4758</td>\n",
       "      <td>0.0000</td>\n",
       "    </tr>\n",
       "  </tbody>\n",
       "</table>\n",
       "<p>77818 rows × 4 columns</p>\n",
       "</div>"
      ],
      "text/plain": [
       "        Timestamp    Price  Quantity   maker\n",
       "0      2022-06-01  1763.75    2.2150  1.3430\n",
       "1      2022-06-01  1763.80    0.2009  0.2009\n",
       "2      2022-06-01  1763.90    0.6252  0.5252\n",
       "3      2022-06-01  1763.95    0.0119  0.0119\n",
       "4      2022-06-01  1764.00    9.0877  1.3057\n",
       "...           ...      ...       ...     ...\n",
       "77813  2022-07-01  1116.80    0.7697  0.0000\n",
       "77814  2022-07-01  1116.85    6.7981  0.0000\n",
       "77815  2022-07-01  1116.90   14.9590  0.0000\n",
       "77816  2022-07-01  1116.95    1.5123  0.0000\n",
       "77817  2022-07-01  1117.00    1.4758  0.0000\n",
       "\n",
       "[77818 rows x 4 columns]"
      ]
     },
     "execution_count": 171,
     "metadata": {},
     "output_type": "execute_result"
    }
   ],
   "source": [
    "df1 = df.copy()\n",
    "\n",
    "df1.Timestamp = df1.Timestamp.dt.date\n",
    "df1['maker'] = np.where(df1['Was the buyer the maker?'] == True, df1['Quantity'], 0)\n",
    "df1.drop('Was the buyer the maker?', axis=1, inplace=True)\n",
    "df1.Price = round(df1.Price/.05) * .05\n",
    "df1 = df1.groupby(['Timestamp', 'Price']).agg({\"Quantity\": 'sum', \"maker\": 'sum'}).reset_index()\n",
    "\n",
    "df1"
   ]
  },
  {
   "cell_type": "markdown",
   "id": "358a31e0",
   "metadata": {},
   "source": [
    "# Connect to PostgreSQL"
   ]
  },
  {
   "cell_type": "code",
   "execution_count": 175,
   "id": "05544809",
   "metadata": {},
   "outputs": [],
   "source": [
    "from sqlalchemy import create_engine\n",
    "import psycopg2"
   ]
  },
  {
   "cell_type": "code",
   "execution_count": 176,
   "id": "10dc351b",
   "metadata": {},
   "outputs": [],
   "source": [
    "conn = psycopg2.connect('host=localhost user=postgres password=password')"
   ]
  },
  {
   "cell_type": "markdown",
   "id": "d8969493",
   "metadata": {},
   "source": [
    "# Create Cursor object and set auto commit"
   ]
  },
  {
   "cell_type": "code",
   "execution_count": 177,
   "id": "dc9722e9",
   "metadata": {},
   "outputs": [],
   "source": [
    "cur = conn.cursor()\n",
    "conn.set_session(autocommit=True)"
   ]
  },
  {
   "cell_type": "markdown",
   "id": "4cfa2827",
   "metadata": {},
   "source": [
    "# Create database"
   ]
  },
  {
   "cell_type": "code",
   "execution_count": 180,
   "id": "6146caa4",
   "metadata": {},
   "outputs": [],
   "source": [
    "cur.execute('create database myfirstdb')"
   ]
  },
  {
   "cell_type": "markdown",
   "id": "2ba2ccf5",
   "metadata": {},
   "source": [
    "# Close connection & Connect to new db"
   ]
  },
  {
   "cell_type": "code",
   "execution_count": 192,
   "id": "e80a0f05",
   "metadata": {},
   "outputs": [],
   "source": [
    "conn.close()"
   ]
  },
  {
   "cell_type": "code",
   "execution_count": 212,
   "id": "9180cb39",
   "metadata": {},
   "outputs": [],
   "source": [
    "conn = psycopg2.connect('host=localhost dbname=myfirstdb user=postgres password=password')"
   ]
  },
  {
   "cell_type": "code",
   "execution_count": 213,
   "id": "0e77ab8e",
   "metadata": {},
   "outputs": [],
   "source": [
    "cur = conn.cursor()\n",
    "conn.set_session(autocommit=True)"
   ]
  },
  {
   "cell_type": "markdown",
   "id": "507b4374",
   "metadata": {},
   "source": [
    "# SQL: Create table"
   ]
  },
  {
   "cell_type": "code",
   "execution_count": 238,
   "id": "3590240d",
   "metadata": {},
   "outputs": [],
   "source": [
    "cur.execute('''\n",
    "DROP TABLE IF EXISTS crypto_ticks''')"
   ]
  },
  {
   "cell_type": "code",
   "execution_count": 239,
   "id": "f4bf7fb5",
   "metadata": {},
   "outputs": [],
   "source": [
    "sql = '''CREATE TABLE IF NOT EXISTS crypto_ticks(\n",
    "dt DATE, \n",
    "close DOUBLE PRECISION, \n",
    "volume DOUBLE PRECISION, \n",
    "maker DOUBLE PRECISION\n",
    ")'''"
   ]
  },
  {
   "cell_type": "code",
   "execution_count": 240,
   "id": "75c46f3e",
   "metadata": {},
   "outputs": [],
   "source": [
    "cur.execute(sql)"
   ]
  },
  {
   "cell_type": "markdown",
   "id": "c6639155",
   "metadata": {},
   "source": [
    "# Save dataframe on disk as csv"
   ]
  },
  {
   "cell_type": "code",
   "execution_count": 198,
   "id": "12054823",
   "metadata": {},
   "outputs": [],
   "source": [
    "aggvol.to_csv('aggvol_testset.csv', header=False, index=False)"
   ]
  },
  {
   "cell_type": "code",
   "execution_count": 199,
   "id": "a5f6a0d9",
   "metadata": {},
   "outputs": [
    {
     "data": {
      "text/html": [
       "<div>\n",
       "<style scoped>\n",
       "    .dataframe tbody tr th:only-of-type {\n",
       "        vertical-align: middle;\n",
       "    }\n",
       "\n",
       "    .dataframe tbody tr th {\n",
       "        vertical-align: top;\n",
       "    }\n",
       "\n",
       "    .dataframe thead th {\n",
       "        text-align: right;\n",
       "    }\n",
       "</style>\n",
       "<table border=\"1\" class=\"dataframe\">\n",
       "  <thead>\n",
       "    <tr style=\"text-align: right;\">\n",
       "      <th></th>\n",
       "      <th>2022-01-01</th>\n",
       "      <th>3673.4500000000003</th>\n",
       "      <th>4.1265</th>\n",
       "      <th>0.31279999999999997</th>\n",
       "    </tr>\n",
       "  </thead>\n",
       "  <tbody>\n",
       "    <tr>\n",
       "      <th>0</th>\n",
       "      <td>2022-01-01</td>\n",
       "      <td>3673.50</td>\n",
       "      <td>0.0075</td>\n",
       "      <td>0.0075</td>\n",
       "    </tr>\n",
       "    <tr>\n",
       "      <th>1</th>\n",
       "      <td>2022-01-01</td>\n",
       "      <td>3673.55</td>\n",
       "      <td>1.5891</td>\n",
       "      <td>0.0792</td>\n",
       "    </tr>\n",
       "    <tr>\n",
       "      <th>2</th>\n",
       "      <td>2022-01-01</td>\n",
       "      <td>3673.60</td>\n",
       "      <td>1.1033</td>\n",
       "      <td>0.9259</td>\n",
       "    </tr>\n",
       "    <tr>\n",
       "      <th>3</th>\n",
       "      <td>2022-01-01</td>\n",
       "      <td>3673.65</td>\n",
       "      <td>1.6462</td>\n",
       "      <td>1.6462</td>\n",
       "    </tr>\n",
       "    <tr>\n",
       "      <th>4</th>\n",
       "      <td>2022-01-01</td>\n",
       "      <td>3673.80</td>\n",
       "      <td>5.0008</td>\n",
       "      <td>1.0841</td>\n",
       "    </tr>\n",
       "    <tr>\n",
       "      <th>...</th>\n",
       "      <td>...</td>\n",
       "      <td>...</td>\n",
       "      <td>...</td>\n",
       "      <td>...</td>\n",
       "    </tr>\n",
       "    <tr>\n",
       "      <th>615903</th>\n",
       "      <td>2022-07-01</td>\n",
       "      <td>1116.80</td>\n",
       "      <td>0.7697</td>\n",
       "      <td>0.0000</td>\n",
       "    </tr>\n",
       "    <tr>\n",
       "      <th>615904</th>\n",
       "      <td>2022-07-01</td>\n",
       "      <td>1116.85</td>\n",
       "      <td>6.7981</td>\n",
       "      <td>0.0000</td>\n",
       "    </tr>\n",
       "    <tr>\n",
       "      <th>615905</th>\n",
       "      <td>2022-07-01</td>\n",
       "      <td>1116.90</td>\n",
       "      <td>14.9590</td>\n",
       "      <td>0.0000</td>\n",
       "    </tr>\n",
       "    <tr>\n",
       "      <th>615906</th>\n",
       "      <td>2022-07-01</td>\n",
       "      <td>1116.95</td>\n",
       "      <td>1.5123</td>\n",
       "      <td>0.0000</td>\n",
       "    </tr>\n",
       "    <tr>\n",
       "      <th>615907</th>\n",
       "      <td>2022-07-01</td>\n",
       "      <td>1117.00</td>\n",
       "      <td>1.4758</td>\n",
       "      <td>0.0000</td>\n",
       "    </tr>\n",
       "  </tbody>\n",
       "</table>\n",
       "<p>615908 rows × 4 columns</p>\n",
       "</div>"
      ],
      "text/plain": [
       "        2022-01-01  3673.4500000000003   4.1265  0.31279999999999997\n",
       "0       2022-01-01             3673.50   0.0075               0.0075\n",
       "1       2022-01-01             3673.55   1.5891               0.0792\n",
       "2       2022-01-01             3673.60   1.1033               0.9259\n",
       "3       2022-01-01             3673.65   1.6462               1.6462\n",
       "4       2022-01-01             3673.80   5.0008               1.0841\n",
       "...            ...                 ...      ...                  ...\n",
       "615903  2022-07-01             1116.80   0.7697               0.0000\n",
       "615904  2022-07-01             1116.85   6.7981               0.0000\n",
       "615905  2022-07-01             1116.90  14.9590               0.0000\n",
       "615906  2022-07-01             1116.95   1.5123               0.0000\n",
       "615907  2022-07-01             1117.00   1.4758               0.0000\n",
       "\n",
       "[615908 rows x 4 columns]"
      ]
     },
     "execution_count": 199,
     "metadata": {},
     "output_type": "execute_result"
    }
   ],
   "source": [
    "pd.read_csv('aggvol_testset.csv')"
   ]
  },
  {
   "cell_type": "markdown",
   "id": "a61473c2",
   "metadata": {},
   "source": [
    "# Open csv and copy to SQL db"
   ]
  },
  {
   "cell_type": "code",
   "execution_count": 245,
   "id": "131b6fdd",
   "metadata": {},
   "outputs": [
    {
     "name": "stdout",
     "output_type": "stream",
     "text": [
      "Data inserted using copy_from() successfully...\n",
      "2.689879\n"
     ]
    }
   ],
   "source": [
    "st = time.time() \n",
    "with open('aggvol_testset.csv', 'r') as f:\n",
    "    cur.copy_from(f, 'crypto_ticks', sep=\",\")\n",
    "\n",
    "et = time.time()    \n",
    "print('Data inserted using copy_from() successfully...')\n",
    "print(str(round(et-st,6)))"
   ]
  },
  {
   "cell_type": "markdown",
   "id": "afcd75ea",
   "metadata": {},
   "source": [
    "# SQL: Query the database"
   ]
  },
  {
   "cell_type": "code",
   "execution_count": 246,
   "id": "765ebf86",
   "metadata": {},
   "outputs": [],
   "source": [
    "sql = '''\n",
    "SELECT * FROM crypto_ticks'''"
   ]
  },
  {
   "cell_type": "code",
   "execution_count": 247,
   "id": "ed0952af",
   "metadata": {},
   "outputs": [],
   "source": [
    "cur.execute(sql)"
   ]
  },
  {
   "cell_type": "code",
   "execution_count": 248,
   "id": "aebfada8",
   "metadata": {},
   "outputs": [],
   "source": [
    "sql_df = pd.DataFrame(cur.fetchall(), columns = ['timestamp', 'price', 'volume', 'maker'])"
   ]
  },
  {
   "cell_type": "code",
   "execution_count": 249,
   "id": "57e5cb17",
   "metadata": {},
   "outputs": [
    {
     "data": {
      "text/html": [
       "<div>\n",
       "<style scoped>\n",
       "    .dataframe tbody tr th:only-of-type {\n",
       "        vertical-align: middle;\n",
       "    }\n",
       "\n",
       "    .dataframe tbody tr th {\n",
       "        vertical-align: top;\n",
       "    }\n",
       "\n",
       "    .dataframe thead th {\n",
       "        text-align: right;\n",
       "    }\n",
       "</style>\n",
       "<table border=\"1\" class=\"dataframe\">\n",
       "  <thead>\n",
       "    <tr style=\"text-align: right;\">\n",
       "      <th></th>\n",
       "      <th>timestamp</th>\n",
       "      <th>price</th>\n",
       "      <th>volume</th>\n",
       "      <th>maker</th>\n",
       "    </tr>\n",
       "  </thead>\n",
       "  <tbody>\n",
       "    <tr>\n",
       "      <th>0</th>\n",
       "      <td>2022-01-01</td>\n",
       "      <td>3673.45</td>\n",
       "      <td>4.1265</td>\n",
       "      <td>0.3128</td>\n",
       "    </tr>\n",
       "    <tr>\n",
       "      <th>1</th>\n",
       "      <td>2022-01-01</td>\n",
       "      <td>3673.50</td>\n",
       "      <td>0.0075</td>\n",
       "      <td>0.0075</td>\n",
       "    </tr>\n",
       "    <tr>\n",
       "      <th>2</th>\n",
       "      <td>2022-01-01</td>\n",
       "      <td>3673.55</td>\n",
       "      <td>1.5891</td>\n",
       "      <td>0.0792</td>\n",
       "    </tr>\n",
       "    <tr>\n",
       "      <th>3</th>\n",
       "      <td>2022-01-01</td>\n",
       "      <td>3673.60</td>\n",
       "      <td>1.1033</td>\n",
       "      <td>0.9259</td>\n",
       "    </tr>\n",
       "    <tr>\n",
       "      <th>4</th>\n",
       "      <td>2022-01-01</td>\n",
       "      <td>3673.65</td>\n",
       "      <td>1.6462</td>\n",
       "      <td>1.6462</td>\n",
       "    </tr>\n",
       "    <tr>\n",
       "      <th>...</th>\n",
       "      <td>...</td>\n",
       "      <td>...</td>\n",
       "      <td>...</td>\n",
       "      <td>...</td>\n",
       "    </tr>\n",
       "    <tr>\n",
       "      <th>615904</th>\n",
       "      <td>2022-07-01</td>\n",
       "      <td>1116.80</td>\n",
       "      <td>0.7697</td>\n",
       "      <td>0.0000</td>\n",
       "    </tr>\n",
       "    <tr>\n",
       "      <th>615905</th>\n",
       "      <td>2022-07-01</td>\n",
       "      <td>1116.85</td>\n",
       "      <td>6.7981</td>\n",
       "      <td>0.0000</td>\n",
       "    </tr>\n",
       "    <tr>\n",
       "      <th>615906</th>\n",
       "      <td>2022-07-01</td>\n",
       "      <td>1116.90</td>\n",
       "      <td>14.9590</td>\n",
       "      <td>0.0000</td>\n",
       "    </tr>\n",
       "    <tr>\n",
       "      <th>615907</th>\n",
       "      <td>2022-07-01</td>\n",
       "      <td>1116.95</td>\n",
       "      <td>1.5123</td>\n",
       "      <td>0.0000</td>\n",
       "    </tr>\n",
       "    <tr>\n",
       "      <th>615908</th>\n",
       "      <td>2022-07-01</td>\n",
       "      <td>1117.00</td>\n",
       "      <td>1.4758</td>\n",
       "      <td>0.0000</td>\n",
       "    </tr>\n",
       "  </tbody>\n",
       "</table>\n",
       "<p>615909 rows × 4 columns</p>\n",
       "</div>"
      ],
      "text/plain": [
       "         timestamp    price   volume   maker\n",
       "0       2022-01-01  3673.45   4.1265  0.3128\n",
       "1       2022-01-01  3673.50   0.0075  0.0075\n",
       "2       2022-01-01  3673.55   1.5891  0.0792\n",
       "3       2022-01-01  3673.60   1.1033  0.9259\n",
       "4       2022-01-01  3673.65   1.6462  1.6462\n",
       "...            ...      ...      ...     ...\n",
       "615904  2022-07-01  1116.80   0.7697  0.0000\n",
       "615905  2022-07-01  1116.85   6.7981  0.0000\n",
       "615906  2022-07-01  1116.90  14.9590  0.0000\n",
       "615907  2022-07-01  1116.95   1.5123  0.0000\n",
       "615908  2022-07-01  1117.00   1.4758  0.0000\n",
       "\n",
       "[615909 rows x 4 columns]"
      ]
     },
     "execution_count": 249,
     "metadata": {},
     "output_type": "execute_result"
    }
   ],
   "source": [
    "sql_df"
   ]
  },
  {
   "cell_type": "code",
   "execution_count": null,
   "id": "0ce09d4f",
   "metadata": {},
   "outputs": [],
   "source": []
  }
 ],
 "metadata": {
  "kernelspec": {
   "display_name": "Python 3 (ipykernel)",
   "language": "python",
   "name": "python3"
  },
  "language_info": {
   "codemirror_mode": {
    "name": "ipython",
    "version": 3
   },
   "file_extension": ".py",
   "mimetype": "text/x-python",
   "name": "python",
   "nbconvert_exporter": "python",
   "pygments_lexer": "ipython3",
   "version": "3.10.5"
  }
 },
 "nbformat": 4,
 "nbformat_minor": 5
}
